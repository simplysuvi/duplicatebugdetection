{
 "cells": [
  {
   "cell_type": "markdown",
   "id": "162dd142",
   "metadata": {},
   "source": [
    "## Group 1 - Phase 2\n",
    "### (Models - Logistic Regression, Random Forest Classifier, Decision Tree Classifier)"
   ]
  },
  {
   "cell_type": "code",
   "execution_count": 25,
   "id": "0939c52e",
   "metadata": {
    "scrolled": true
   },
   "outputs": [
    {
     "name": "stderr",
     "output_type": "stream",
     "text": [
      "[nltk_data] Downloading package stopwords to\n",
      "[nltk_data]     /Users/suvijain/nltk_data...\n",
      "[nltk_data]   Package stopwords is already up-to-date!\n",
      "[nltk_data] Downloading package wordnet to\n",
      "[nltk_data]     /Users/suvijain/nltk_data...\n",
      "[nltk_data]   Package wordnet is already up-to-date!\n"
     ]
    },
    {
     "data": {
      "text/plain": [
       "True"
      ]
     },
     "execution_count": 25,
     "metadata": {},
     "output_type": "execute_result"
    }
   ],
   "source": [
    "import numpy as np\n",
    "import pandas as pd\n",
    "from pandas import DataFrame\n",
    "from matplotlib import pyplot as plt \n",
    "import nltk\n",
    "from nltk.corpus import stopwords\n",
    "from nltk.stem import SnowballStemmer\n",
    "import re\n",
    "from string import punctuation\n",
    "from sklearn.metrics import classification_report, confusion_matrix\n",
    "from sklearn.feature_extraction.text import TfidfVectorizer\n",
    "from sklearn.model_selection import train_test_split\n",
    "from sklearn.linear_model import LogisticRegression\n",
    "from sklearn.ensemble import RandomForestClassifier\n",
    "from sklearn import tree\n",
    "\n",
    "from numpy import array\n",
    "import warnings\n",
    "warnings.filterwarnings('ignore')\n",
    "\n",
    "import ssl\n",
    "try:\n",
    "    _create_unverified_https_context = ssl._create_unverified_context\n",
    "except AttributeError:\n",
    "    pass\n",
    "else:\n",
    "    ssl._create_default_https_context = _create_unverified_https_context\n",
    "\n",
    "nltk.download('stopwords')\n",
    "nltk.download('wordnet')"
   ]
  },
  {
   "cell_type": "markdown",
   "id": "46759091",
   "metadata": {},
   "source": [
    "### Loading datasets for Eclipse, Mozilla, Thunderbird and combining to form 3 different dataframes"
   ]
  },
  {
   "cell_type": "code",
   "execution_count": 26,
   "id": "66f87aa9",
   "metadata": {},
   "outputs": [],
   "source": [
    "# Loading all the given datasets in 6 dataframes\n",
    "\n",
    "df1 = pd.read_csv('EP_nondup.csv',sep=';')\n",
    "df2 = pd.read_csv('EP_dup.csv',sep=';')\n",
    "df3 = pd.read_csv('M_Duplicate BRs.csv',sep=';')\n",
    "df4 = pd.read_csv('M_NonDuplicate BRs.csv',sep=';')\n",
    "df5 = pd.read_csv('dup_TB.csv',sep=';')\n",
    "df6 = pd.read_csv('Nondup_TB.csv',sep=';')\n",
    "\n",
    "frames_ecl = [df1,df2]\n",
    "frames_moz = [df3,df4]\n",
    "frames_tb = [df5,df6]\n",
    "\n",
    "# Concatenating 2 datasets for each of the platforms to form 3 datasets\n",
    "df_ecl = pd.concat(frames_ecl)\n",
    "df_moz = pd.concat(frames_moz)\n",
    "df_tb = pd.concat(frames_tb)"
   ]
  },
  {
   "cell_type": "code",
   "execution_count": 27,
   "id": "7b444c87",
   "metadata": {},
   "outputs": [
    {
     "data": {
      "text/html": [
       "<div>\n",
       "<style scoped>\n",
       "    .dataframe tbody tr th:only-of-type {\n",
       "        vertical-align: middle;\n",
       "    }\n",
       "\n",
       "    .dataframe tbody tr th {\n",
       "        vertical-align: top;\n",
       "    }\n",
       "\n",
       "    .dataframe thead th {\n",
       "        text-align: right;\n",
       "    }\n",
       "</style>\n",
       "<table border=\"1\" class=\"dataframe\">\n",
       "  <thead>\n",
       "    <tr style=\"text-align: right;\">\n",
       "      <th></th>\n",
       "      <th>Issue_id</th>\n",
       "      <th>Duplicated_issue</th>\n",
       "      <th>Title1</th>\n",
       "      <th>Description1</th>\n",
       "      <th>Title2</th>\n",
       "      <th>Description2</th>\n",
       "      <th>Label</th>\n",
       "    </tr>\n",
       "  </thead>\n",
       "  <tbody>\n",
       "    <tr>\n",
       "      <th>0</th>\n",
       "      <td>25</td>\n",
       "      <td>28126</td>\n",
       "      <td>cvs ui need vcm prefs  default repo connection gc</td>\n",
       "      <td>it would be helpful if there was a notion of d...</td>\n",
       "      <td>wizards patch standard public cvs repositories</td>\n",
       "      <td>this patch adds a convenient way to check thin...</td>\n",
       "      <td>1</td>\n",
       "    </tr>\n",
       "    <tr>\n",
       "      <th>1</th>\n",
       "      <td>40</td>\n",
       "      <td>20</td>\n",
       "      <td>need connect to team stream gcqpkw</td>\n",
       "      <td>i would like to be able to connect to a team s...</td>\n",
       "      <td>workspace files</td>\n",
       "      <td>thought it would be useful if the set of repo ...</td>\n",
       "      <td>1</td>\n",
       "    </tr>\n",
       "    <tr>\n",
       "      <th>2</th>\n",
       "      <td>48</td>\n",
       "      <td>22</td>\n",
       "      <td>make sure can future store other project refer...</td>\n",
       "      <td>project references come in three flavours  . p...</td>\n",
       "      <td>persist sharing recommendations and project ve...</td>\n",
       "      <td>project descriptions dont store sharing recomm...</td>\n",
       "      <td>1</td>\n",
       "    </tr>\n",
       "    <tr>\n",
       "      <th>3</th>\n",
       "      <td>61</td>\n",
       "      <td>60</td>\n",
       "      <td>.vcmmeta showing as change gdqtgw</td>\n",
       "      <td>useruser   install drop  into declipse  user  ...</td>\n",
       "      <td>need custom .vcmignore comparemerge gdqt</td>\n",
       "      <td>useruser   install drop  into declipse  user  ...</td>\n",
       "      <td>1</td>\n",
       "    </tr>\n",
       "    <tr>\n",
       "      <th>4</th>\n",
       "      <td>94</td>\n",
       "      <td>2</td>\n",
       "      <td>repositories view all file types open to the t...</td>\n",
       "      <td>when browsing files in the repositories view i...</td>\n",
       "      <td>opening repository resources doesnt honor type...</td>\n",
       "      <td>opening repository resource  open the default ...</td>\n",
       "      <td>1</td>\n",
       "    </tr>\n",
       "    <tr>\n",
       "      <th>...</th>\n",
       "      <td>...</td>\n",
       "      <td>...</td>\n",
       "      <td>...</td>\n",
       "      <td>...</td>\n",
       "      <td>...</td>\n",
       "      <td>...</td>\n",
       "      <td>...</td>\n",
       "    </tr>\n",
       "    <tr>\n",
       "      <th>12681</th>\n",
       "      <td>423034</td>\n",
       "      <td>287720</td>\n",
       "      <td>.metadata.log error</td>\n",
       "      <td>please see my .log file  please fix this error</td>\n",
       "      <td>eclipse crashes while startup</td>\n",
       "      <td>id ..   .eclipse crashes on startup . .   more...</td>\n",
       "      <td>1</td>\n",
       "    </tr>\n",
       "    <tr>\n",
       "      <th>12682</th>\n",
       "      <td>423852</td>\n",
       "      <td>422971</td>\n",
       "      <td>workbench classcastexception handlerprocessing...</td>\n",
       "      <td>backport into ..   this bug was initially crea...</td>\n",
       "      <td>workbench classcastexception handlerprocessing...</td>\n",
       "      <td>backport to ..   this bug was initially create...</td>\n",
       "      <td>1</td>\n",
       "    </tr>\n",
       "    <tr>\n",
       "      <th>12683</th>\n",
       "      <td>423888</td>\n",
       "      <td>413977</td>\n",
       "      <td>keybindings resizing content assist proposal p...</td>\n",
       "      <td>tested on newly installed standard kepler sr o...</td>\n",
       "      <td>keybindings all nonnative key bindings stop wo...</td>\n",
       "      <td>. and latest n.  . paste the following snippet...</td>\n",
       "      <td>1</td>\n",
       "    </tr>\n",
       "    <tr>\n",
       "      <th>12684</th>\n",
       "      <td>424120</td>\n",
       "      <td>418254</td>\n",
       "      <td>close window from context menu</td>\n",
       "      <td>context menu  eclipse.id...m java.version.. ja...</td>\n",
       "      <td>editormgmt keybindings ctrle and delete causes...</td>\n",
       "      <td>after updating my kepler eclipse .. to service...</td>\n",
       "      <td>1</td>\n",
       "    </tr>\n",
       "    <tr>\n",
       "      <th>12685</th>\n",
       "      <td>424389</td>\n",
       "      <td>401709</td>\n",
       "      <td>viewmgmt findviewreference always returns null...</td>\n",
       "      <td>i have a problem using the iworkbenchpagefindv...</td>\n",
       "      <td>secondary problems view doesnt have a view men...</td>\n",
       "      <td>problems vews vew menu  new problems vew  seco...</td>\n",
       "      <td>1</td>\n",
       "    </tr>\n",
       "  </tbody>\n",
       "</table>\n",
       "<p>12686 rows × 7 columns</p>\n",
       "</div>"
      ],
      "text/plain": [
       "       Issue_id  Duplicated_issue  \\\n",
       "0            25             28126   \n",
       "1            40                20   \n",
       "2            48                22   \n",
       "3            61                60   \n",
       "4            94                 2   \n",
       "...         ...               ...   \n",
       "12681    423034            287720   \n",
       "12682    423852            422971   \n",
       "12683    423888            413977   \n",
       "12684    424120            418254   \n",
       "12685    424389            401709   \n",
       "\n",
       "                                                  Title1  \\\n",
       "0      cvs ui need vcm prefs  default repo connection gc   \n",
       "1                     need connect to team stream gcqpkw   \n",
       "2      make sure can future store other project refer...   \n",
       "3                      .vcmmeta showing as change gdqtgw   \n",
       "4      repositories view all file types open to the t...   \n",
       "...                                                  ...   \n",
       "12681                                .metadata.log error   \n",
       "12682  workbench classcastexception handlerprocessing...   \n",
       "12683  keybindings resizing content assist proposal p...   \n",
       "12684                     close window from context menu   \n",
       "12685  viewmgmt findviewreference always returns null...   \n",
       "\n",
       "                                            Description1  \\\n",
       "0      it would be helpful if there was a notion of d...   \n",
       "1      i would like to be able to connect to a team s...   \n",
       "2      project references come in three flavours  . p...   \n",
       "3      useruser   install drop  into declipse  user  ...   \n",
       "4      when browsing files in the repositories view i...   \n",
       "...                                                  ...   \n",
       "12681     please see my .log file  please fix this error   \n",
       "12682  backport into ..   this bug was initially crea...   \n",
       "12683  tested on newly installed standard kepler sr o...   \n",
       "12684  context menu  eclipse.id...m java.version.. ja...   \n",
       "12685  i have a problem using the iworkbenchpagefindv...   \n",
       "\n",
       "                                                  Title2  \\\n",
       "0         wizards patch standard public cvs repositories   \n",
       "1                                        workspace files   \n",
       "2      persist sharing recommendations and project ve...   \n",
       "3               need custom .vcmignore comparemerge gdqt   \n",
       "4      opening repository resources doesnt honor type...   \n",
       "...                                                  ...   \n",
       "12681                      eclipse crashes while startup   \n",
       "12682  workbench classcastexception handlerprocessing...   \n",
       "12683  keybindings all nonnative key bindings stop wo...   \n",
       "12684  editormgmt keybindings ctrle and delete causes...   \n",
       "12685  secondary problems view doesnt have a view men...   \n",
       "\n",
       "                                            Description2  Label  \n",
       "0      this patch adds a convenient way to check thin...      1  \n",
       "1      thought it would be useful if the set of repo ...      1  \n",
       "2      project descriptions dont store sharing recomm...      1  \n",
       "3      useruser   install drop  into declipse  user  ...      1  \n",
       "4      opening repository resource  open the default ...      1  \n",
       "...                                                  ...    ...  \n",
       "12681  id ..   .eclipse crashes on startup . .   more...      1  \n",
       "12682  backport to ..   this bug was initially create...      1  \n",
       "12683  . and latest n.  . paste the following snippet...      1  \n",
       "12684  after updating my kepler eclipse .. to service...      1  \n",
       "12685  problems vews vew menu  new problems vew  seco...      1  \n",
       "\n",
       "[12686 rows x 7 columns]"
      ]
     },
     "execution_count": 27,
     "metadata": {},
     "output_type": "execute_result"
    }
   ],
   "source": [
    "df2"
   ]
  },
  {
   "cell_type": "code",
   "execution_count": 28,
   "id": "85aa78a3",
   "metadata": {},
   "outputs": [
    {
     "name": "stdout",
     "output_type": "stream",
     "text": [
      "Eclipse dataset shape:  (46908, 7)\n",
      "Mozilla dataset shape:  (60904, 7)\n",
      "Thunderbird dataset shape:  (14263, 7)\n"
     ]
    }
   ],
   "source": [
    "print(\"Eclipse dataset shape: \",df_ecl.shape)\n",
    "print(\"Mozilla dataset shape: \",df_moz.shape)\n",
    "print(\"Thunderbird dataset shape: \",df_tb.shape)"
   ]
  },
  {
   "cell_type": "code",
   "execution_count": 29,
   "id": "0778de42",
   "metadata": {},
   "outputs": [
    {
     "name": "stdout",
     "output_type": "stream",
     "text": [
      "0    34222\n",
      "1    12686\n",
      "Name: Label, dtype: int64\n",
      "0    36833\n",
      "1    24071\n",
      "Name: Label, dtype: int64\n",
      "0    9905\n",
      "1    4358\n",
      "Name: Label, dtype: int64\n"
     ]
    }
   ],
   "source": [
    "# Counting the unique values in label for the 3 datasets\n",
    "print(df_ecl['Label'].value_counts())\n",
    "print(df_moz['Label'].value_counts())\n",
    "print(df_tb['Label'].value_counts())"
   ]
  },
  {
   "cell_type": "markdown",
   "id": "b115ec41",
   "metadata": {},
   "source": [
    "### Combining the text in Title and description column for all datasets in order to vectorize them together"
   ]
  },
  {
   "cell_type": "code",
   "execution_count": 30,
   "id": "71faf47b",
   "metadata": {},
   "outputs": [
    {
     "data": {
      "text/plain": [
       "0        usability issue with external editors geirl se...\n",
       "1        opening repository resources doesnt honor type...\n",
       "2        sync does not indicate deletion gien kmpm \\tth...\n",
       "3        need better error message if catching up over ...\n",
       "4        isharingmanager sharing api inconsistent gaulh...\n",
       "                               ...                        \n",
       "12681    .metadata.log error please see my .log file  p...\n",
       "12682    workbench classcastexception handlerprocessing...\n",
       "12683    keybindings resizing content assist proposal p...\n",
       "12684    close window from context menu context menu  e...\n",
       "12685    viewmgmt findviewreference always returns null...\n",
       "Name: Bug1, Length: 46908, dtype: object"
      ]
     },
     "execution_count": 30,
     "metadata": {},
     "output_type": "execute_result"
    }
   ],
   "source": [
    "df_ecl['Bug1'] = df_ecl['Title1'].str.cat(df_ecl['Description1'],sep=\" \")\n",
    "df_ecl['Bug2'] = df_ecl['Title2'].str.cat(df_ecl['Description2'],sep=\" \")\n",
    "\n",
    "df_moz['Bug1'] = df_moz['Title1'].str.cat(df_moz['Description1'],sep=\" \")\n",
    "df_moz['Bug2'] = df_moz['Title2'].str.cat(df_moz['Description2'],sep=\" \")\n",
    "\n",
    "df_tb['Bug1'] = df_tb['Title1'].str.cat(df_tb['Description1'],sep=\" \")\n",
    "df_tb['Bug2'] = df_tb['Title2'].str.cat(df_tb['Description2'],sep=\" \")\n",
    "df_ecl.Bug1"
   ]
  },
  {
   "cell_type": "markdown",
   "id": "b21107e7",
   "metadata": {},
   "source": [
    "### Remove puncctuations and stop words from the datasets to process"
   ]
  },
  {
   "cell_type": "code",
   "execution_count": 31,
   "id": "52349591",
   "metadata": {},
   "outputs": [],
   "source": [
    "stop_words = set(stopwords.words('english'))\n",
    "\n",
    "def words(text):\n",
    "    text = ''.join([i for i in text if i not in punctuation])\n",
    "    text = text.lower()\n",
    "    text = text.split()\n",
    "    text = [j for j in text if not j in stop_words]\n",
    "    text = \" \".join(text)\n",
    "    return(text)"
   ]
  },
  {
   "cell_type": "code",
   "execution_count": 32,
   "id": "ed73279c",
   "metadata": {},
   "outputs": [],
   "source": [
    "def preprocess(bug_reports,bugs_all):\n",
    "    for n in bugs_all:\n",
    "        bug_reports.append(words(n))"
   ]
  },
  {
   "cell_type": "code",
   "execution_count": 33,
   "id": "fe126b45",
   "metadata": {},
   "outputs": [],
   "source": [
    "bug_pp_ecl1 = []\n",
    "bug_pp_ecl2 = []\n",
    "\n",
    "bug_pp_moz1 = []\n",
    "bug_pp_moz2 = []\n",
    "\n",
    "bug_pp_tb1 = []\n",
    "bug_pp_tb2 = []\n",
    "\n",
    "preprocess(bug_pp_ecl1, df_ecl.Bug1)\n",
    "preprocess(bug_pp_ecl2, df_ecl.Bug2)\n",
    "\n",
    "preprocess(bug_pp_moz1, df_moz.Bug1)\n",
    "preprocess(bug_pp_moz2, df_moz.Bug2)\n",
    "\n",
    "preprocess(bug_pp_tb1, df_tb.Bug1)\n",
    "preprocess(bug_pp_tb2, df_tb.Bug2)"
   ]
  },
  {
   "cell_type": "markdown",
   "id": "cd3beeb3",
   "metadata": {},
   "source": [
    "### Define TFIDF veectorizer"
   ]
  },
  {
   "cell_type": "code",
   "execution_count": 34,
   "id": "10b2f30a",
   "metadata": {},
   "outputs": [],
   "source": [
    "tfidf_ecl = TfidfVectorizer(analyzer = 'word',stop_words = 'english',lowercase = True,max_features = 700,norm = 'l2')\n",
    "tfidf_moz = TfidfVectorizer(analyzer = 'word',stop_words = 'english',lowercase = True,max_features = 700,norm = 'l2')\n",
    "tfidf_tb = TfidfVectorizer(analyzer = 'word',stop_words = 'english',lowercase = True,max_features = 700,norm = 'l2')"
   ]
  },
  {
   "cell_type": "code",
   "execution_count": 35,
   "id": "1e3259ff",
   "metadata": {},
   "outputs": [],
   "source": [
    "words_ecl = pd.concat([df_ecl.Bug1,df_ecl.Bug2], axis = 0)\n",
    "words_moz = pd.concat([df_moz.Bug1,df_moz.Bug2], axis = 0)\n",
    "words_tb = pd.concat([df_tb.Bug1,df_tb.Bug2], axis = 0)"
   ]
  },
  {
   "cell_type": "code",
   "execution_count": 36,
   "id": "c3b854dc",
   "metadata": {},
   "outputs": [],
   "source": [
    "tfidf_ecl.fit(words_ecl)\n",
    "tfidf_moz.fit(words_moz)\n",
    "tfidf_tb.fit(words_tb)\n",
    "\n",
    "duplicate_ecl_1 = tfidf_ecl.transform(df_ecl.Bug1)\n",
    "duplicate_ecl_2 = tfidf_ecl.transform(df_ecl.Bug2)\n",
    "\n",
    "duplicate_moz_1 = tfidf_moz.transform(df_moz.Bug1)\n",
    "duplicate_moz_2 = tfidf_moz.transform(df_moz.Bug2)\n",
    "\n",
    "duplicate_tb_1 = tfidf_tb.transform(df_tb.Bug1)\n",
    "duplicate_tb_2 = tfidf_tb.transform(df_tb.Bug2)"
   ]
  },
  {
   "cell_type": "code",
   "execution_count": 37,
   "id": "f59e02f4",
   "metadata": {},
   "outputs": [],
   "source": [
    "x_ecl = abs(duplicate_ecl_1 - duplicate_ecl_2)\n",
    "y_ecl = df_ecl['Label']\n",
    "\n",
    "x_moz = abs(duplicate_moz_1 - duplicate_moz_2)\n",
    "y_moz = df_moz['Label']\n",
    "\n",
    "x_tb = abs(duplicate_tb_1 - duplicate_tb_2)\n",
    "y_tb = df_tb['Label']"
   ]
  },
  {
   "cell_type": "code",
   "execution_count": 38,
   "id": "5e5fc271",
   "metadata": {},
   "outputs": [],
   "source": [
    "x_ecl_train, x_ecl_test, y_ecl_train, y_ecl_test = train_test_split(x_ecl, y_ecl, test_size=0.3)\n",
    "\n",
    "x_moz_train, x_moz_test, y_moz_train, y_moz_test = train_test_split(x_moz, y_moz, test_size=0.3)\n",
    "\n",
    "x_tb_train, x_tb_test, y_tb_train, y_tb_test = train_test_split(x_tb, y_tb, test_size=0.3)"
   ]
  },
  {
   "cell_type": "markdown",
   "id": "8aab5fd9",
   "metadata": {},
   "source": [
    "## Logistic Regression"
   ]
  },
  {
   "cell_type": "code",
   "execution_count": 39,
   "id": "b6055884",
   "metadata": {},
   "outputs": [
    {
     "data": {
      "text/plain": [
       "LogisticRegression(max_iter=1000)"
      ]
     },
     "execution_count": 39,
     "metadata": {},
     "output_type": "execute_result"
    }
   ],
   "source": [
    "lr_ecl = LogisticRegression(max_iter=1000)\n",
    "lr_ecl.fit(x_ecl_train, y_ecl_train)\n",
    "\n",
    "lr_moz = LogisticRegression(max_iter=1000)\n",
    "lr_moz.fit(x_moz_train, y_moz_train)\n",
    "\n",
    "lr_tb = LogisticRegression(max_iter=1000)\n",
    "lr_tb.fit(x_tb_train, y_tb_train)"
   ]
  },
  {
   "cell_type": "code",
   "execution_count": 40,
   "id": "cb866104",
   "metadata": {},
   "outputs": [],
   "source": [
    "y_pred_ecl = lr_ecl.predict(x_ecl_test) \n",
    "y_pred_moz = lr_moz.predict(x_moz_test) \n",
    "y_pred_tb = lr_tb.predict(x_tb_test)"
   ]
  },
  {
   "cell_type": "code",
   "execution_count": 41,
   "id": "4591c8b3",
   "metadata": {},
   "outputs": [
    {
     "name": "stdout",
     "output_type": "stream",
     "text": [
      "\n",
      "True Positive  :  2010\n",
      "True Negative  :  9609\n",
      "False Positive :  1789\n",
      "False Negative :  665\n",
      "Accuracy       :  0.8256235344276274\n",
      "\n",
      "True Positive  :  5033\n",
      "True Negative  :  9469\n",
      "False Positive :  2202\n",
      "False Negative :  1568\n",
      "Accuracy       :  0.7936733800350263\n",
      "\n",
      "True Positive  :  832\n",
      "True Negative  :  2682\n",
      "False Positive :  491\n",
      "False Negative :  274\n",
      "Accuracy       :  0.8212199111942042\n"
     ]
    }
   ],
   "source": [
    "def print_evalreport(y_test,y_pred):\n",
    "    confmatrix = confusion_matrix(y_test,y_pred)\n",
    "    TP = confmatrix[1][1]\n",
    "    TN = confmatrix[0][0]\n",
    "    FP = confmatrix[1][0]\n",
    "    FN = confmatrix[0][1]\n",
    "    accuracy = (TP + TN)/(TP + TN + FP + FN)\n",
    "    print(\"\\nTrue Positive  : \", TP)\n",
    "    print(\"True Negative  : \", TN)\n",
    "    print(\"False Positive : \", FP)\n",
    "    print(\"False Negative : \", FN)\n",
    "    print(\"Accuracy       : \",accuracy)\n",
    "\n",
    "print_evalreport(y_ecl_test,y_pred_ecl)\n",
    "print_evalreport(y_moz_test,y_pred_moz)\n",
    "print_evalreport(y_tb_test,y_pred_tb)"
   ]
  },
  {
   "cell_type": "markdown",
   "id": "d95525c7",
   "metadata": {},
   "source": [
    "### Random Forest Classifier"
   ]
  },
  {
   "cell_type": "code",
   "execution_count": 42,
   "id": "bb696367",
   "metadata": {},
   "outputs": [
    {
     "data": {
      "text/plain": [
       "RandomForestClassifier(max_depth=20)"
      ]
     },
     "execution_count": 42,
     "metadata": {},
     "output_type": "execute_result"
    }
   ],
   "source": [
    "rf_ecl = RandomForestClassifier(max_depth=20)\n",
    "rf_ecl.fit(x_ecl_train, y_ecl_train)\n",
    "\n",
    "rf_moz = RandomForestClassifier(max_depth=20)\n",
    "rf_moz.fit(x_moz_train, y_moz_train)\n",
    "\n",
    "rf_tb = RandomForestClassifier(max_depth=20)\n",
    "rf_tb.fit(x_tb_train, y_tb_train)"
   ]
  },
  {
   "cell_type": "code",
   "execution_count": 43,
   "id": "20b02b1b",
   "metadata": {},
   "outputs": [],
   "source": [
    "y_pred_ecl = rf_ecl.predict(x_ecl_test) \n",
    "y_pred_moz = rf_moz.predict(x_moz_test) \n",
    "y_pred_tb = rf_tb.predict(x_tb_test)"
   ]
  },
  {
   "cell_type": "code",
   "execution_count": 44,
   "id": "402a0ccb",
   "metadata": {},
   "outputs": [
    {
     "name": "stdout",
     "output_type": "stream",
     "text": [
      "\n",
      "True Positive  :  335\n",
      "True Negative  :  10240\n",
      "False Positive :  3464\n",
      "False Negative :  34\n",
      "Accuracy       :  0.751438925602217\n",
      "\n",
      "True Positive  :  3114\n",
      "True Negative  :  10318\n",
      "False Positive :  4121\n",
      "False Negative :  719\n",
      "Accuracy       :  0.7351138353765324\n",
      "\n",
      "True Positive  :  289\n",
      "True Negative  :  2934\n",
      "False Positive :  1034\n",
      "False Negative :  22\n",
      "Accuracy       :  0.7532133676092545\n"
     ]
    }
   ],
   "source": [
    "print_evalreport(y_ecl_test,y_pred_ecl)\n",
    "print_evalreport(y_moz_test,y_pred_moz)\n",
    "print_evalreport(y_tb_test,y_pred_tb)"
   ]
  },
  {
   "cell_type": "markdown",
   "id": "ee4bbd4e",
   "metadata": {},
   "source": [
    "### Decision Tree Classifier"
   ]
  },
  {
   "cell_type": "code",
   "execution_count": 45,
   "id": "bcc6e159",
   "metadata": {},
   "outputs": [],
   "source": [
    "dt_ecl = tree.DecisionTreeClassifier()\n",
    "dt_ecl = dt_ecl.fit(x_ecl_train, y_ecl_train)\n",
    "\n",
    "dt_moz = tree.DecisionTreeClassifier()\n",
    "dt_moz = dt_moz.fit(x_moz_train, y_moz_train)\n",
    "\n",
    "dt_tb = tree.DecisionTreeClassifier()\n",
    "dt_tb = dt_tb.fit(x_tb_train, y_tb_train)"
   ]
  },
  {
   "cell_type": "code",
   "execution_count": 46,
   "id": "c73814d5",
   "metadata": {},
   "outputs": [],
   "source": [
    "y_pred_ecl = dt_ecl.predict(x_ecl_test) \n",
    "y_pred_moz = dt_moz.predict(x_moz_test) \n",
    "y_pred_tb = dt_tb.predict(x_tb_test)"
   ]
  },
  {
   "cell_type": "code",
   "execution_count": 47,
   "id": "e15b50fc",
   "metadata": {},
   "outputs": [
    {
     "name": "stdout",
     "output_type": "stream",
     "text": [
      "\n",
      "True Positive  :  1723\n",
      "True Negative  :  8087\n",
      "False Positive :  2076\n",
      "False Negative :  2187\n",
      "Accuracy       :  0.6970795139629077\n",
      "\n",
      "True Positive  :  4188\n",
      "True Negative  :  7803\n",
      "False Positive :  3047\n",
      "False Negative :  3234\n",
      "Accuracy       :  0.65625\n",
      "\n",
      "True Positive  :  668\n",
      "True Negative  :  2186\n",
      "False Positive :  655\n",
      "False Negative :  770\n",
      "Accuracy       :  0.6669782659499883\n"
     ]
    }
   ],
   "source": [
    "print_evalreport(y_ecl_test,y_pred_ecl)\n",
    "print_evalreport(y_moz_test,y_pred_moz)\n",
    "print_evalreport(y_tb_test,y_pred_tb)"
   ]
  }
 ],
 "metadata": {
  "kernelspec": {
   "display_name": "Python 3 (ipykernel)",
   "language": "python",
   "name": "python3"
  },
  "language_info": {
   "codemirror_mode": {
    "name": "ipython",
    "version": 3
   },
   "file_extension": ".py",
   "mimetype": "text/x-python",
   "name": "python",
   "nbconvert_exporter": "python",
   "pygments_lexer": "ipython3",
   "version": "3.10.2"
  }
 },
 "nbformat": 4,
 "nbformat_minor": 5
}
