{
 "cells": [
  {
   "cell_type": "markdown",
   "id": "162dd142",
   "metadata": {},
   "source": [
    "## Group 1 - Phase 2\n",
    "### (Models - Logistic Regression, Random Forest Classifier, Decision Tree Classifier)"
   ]
  },
  {
   "cell_type": "code",
   "execution_count": 42,
   "id": "0939c52e",
   "metadata": {
    "scrolled": true
   },
   "outputs": [
    {
     "name": "stderr",
     "output_type": "stream",
     "text": [
      "[nltk_data] Downloading package stopwords to\n",
      "[nltk_data]     /Users/suvijain/nltk_data...\n",
      "[nltk_data]   Package stopwords is already up-to-date!\n",
      "[nltk_data] Downloading package wordnet to\n",
      "[nltk_data]     /Users/suvijain/nltk_data...\n",
      "[nltk_data]   Package wordnet is already up-to-date!\n"
     ]
    },
    {
     "data": {
      "text/plain": [
       "True"
      ]
     },
     "execution_count": 42,
     "metadata": {},
     "output_type": "execute_result"
    }
   ],
   "source": [
    "import numpy as np\n",
    "import pandas as pd\n",
    "from pandas import DataFrame\n",
    "from matplotlib import pyplot as plt \n",
    "import nltk\n",
    "from nltk.corpus import stopwords\n",
    "from nltk.stem import SnowballStemmer\n",
    "import re\n",
    "from string import punctuation\n",
    "from sklearn.metrics import classification_report, confusion_matrix, precision_score, recall_score,roc_auc_score,\\\n",
    "accuracy_score\n",
    "from sklearn.feature_extraction.text import TfidfVectorizer\n",
    "from sklearn.model_selection import train_test_split\n",
    "from sklearn.linear_model import LogisticRegression\n",
    "from sklearn.ensemble import RandomForestClassifier\n",
    "from sklearn import tree\n",
    "import seaborn as sns\n",
    "\n",
    "\n",
    "from numpy import array\n",
    "import warnings\n",
    "warnings.filterwarnings('ignore')\n",
    "\n",
    "import ssl\n",
    "try:\n",
    "    _create_unverified_https_context = ssl._create_unverified_context\n",
    "except AttributeError:\n",
    "    pass\n",
    "else:\n",
    "    ssl._create_default_https_context = _create_unverified_https_context\n",
    "\n",
    "nltk.download('stopwords')\n",
    "nltk.download('wordnet')"
   ]
  },
  {
   "cell_type": "markdown",
   "id": "46759091",
   "metadata": {},
   "source": [
    "### Loading datasets for Eclipse, Mozilla, Thunderbird and combining to form 3 different dataframes"
   ]
  },
  {
   "cell_type": "code",
   "execution_count": 2,
   "id": "66f87aa9",
   "metadata": {},
   "outputs": [],
   "source": [
    "# Loading all the given datasets in 6 dataframes\n",
    "\n",
    "df1 = pd.read_csv('EP_nondup.csv',sep=';')\n",
    "df2 = pd.read_csv('EP_dup.csv',sep=';')\n",
    "df3 = pd.read_csv('M_Duplicate BRs.csv',sep=';')\n",
    "df4 = pd.read_csv('M_NonDuplicate BRs.csv',sep=';')\n",
    "df5 = pd.read_csv('dup_TB.csv',sep=';')\n",
    "df6 = pd.read_csv('Nondup_TB.csv',sep=';')\n",
    "\n",
    "frames_ecl = [df1,df2]\n",
    "frames_moz = [df3,df4]\n",
    "frames_tb = [df5,df6]\n",
    "\n",
    "# Concatenating 2 datasets for each of the platforms to form 3 datasets\n",
    "df_ecl = pd.concat(frames_ecl)\n",
    "df_moz = pd.concat(frames_moz)\n",
    "df_tb = pd.concat(frames_tb)"
   ]
  },
  {
   "cell_type": "code",
   "execution_count": 3,
   "id": "979d7d4e",
   "metadata": {},
   "outputs": [
    {
     "name": "stdout",
     "output_type": "stream",
     "text": [
      "122075\n"
     ]
    }
   ],
   "source": [
    "print(len(df_ecl)+len(df_moz)+len(df_tb))"
   ]
  },
  {
   "cell_type": "code",
   "execution_count": 4,
   "id": "7b444c87",
   "metadata": {},
   "outputs": [
    {
     "data": {
      "text/html": [
       "<div>\n",
       "<style scoped>\n",
       "    .dataframe tbody tr th:only-of-type {\n",
       "        vertical-align: middle;\n",
       "    }\n",
       "\n",
       "    .dataframe tbody tr th {\n",
       "        vertical-align: top;\n",
       "    }\n",
       "\n",
       "    .dataframe thead th {\n",
       "        text-align: right;\n",
       "    }\n",
       "</style>\n",
       "<table border=\"1\" class=\"dataframe\">\n",
       "  <thead>\n",
       "    <tr style=\"text-align: right;\">\n",
       "      <th></th>\n",
       "      <th>Issue_id</th>\n",
       "      <th>Duplicated_issue</th>\n",
       "      <th>Title1</th>\n",
       "      <th>Description1</th>\n",
       "      <th>Title2</th>\n",
       "      <th>Description2</th>\n",
       "      <th>Label</th>\n",
       "    </tr>\n",
       "  </thead>\n",
       "  <tbody>\n",
       "    <tr>\n",
       "      <th>0</th>\n",
       "      <td>25</td>\n",
       "      <td>28126</td>\n",
       "      <td>cvs ui need vcm prefs  default repo connection gc</td>\n",
       "      <td>it would be helpful if there was a notion of d...</td>\n",
       "      <td>wizards patch standard public cvs repositories</td>\n",
       "      <td>this patch adds a convenient way to check thin...</td>\n",
       "      <td>1</td>\n",
       "    </tr>\n",
       "    <tr>\n",
       "      <th>1</th>\n",
       "      <td>40</td>\n",
       "      <td>20</td>\n",
       "      <td>need connect to team stream gcqpkw</td>\n",
       "      <td>i would like to be able to connect to a team s...</td>\n",
       "      <td>workspace files</td>\n",
       "      <td>thought it would be useful if the set of repo ...</td>\n",
       "      <td>1</td>\n",
       "    </tr>\n",
       "    <tr>\n",
       "      <th>2</th>\n",
       "      <td>48</td>\n",
       "      <td>22</td>\n",
       "      <td>make sure can future store other project refer...</td>\n",
       "      <td>project references come in three flavours  . p...</td>\n",
       "      <td>persist sharing recommendations and project ve...</td>\n",
       "      <td>project descriptions dont store sharing recomm...</td>\n",
       "      <td>1</td>\n",
       "    </tr>\n",
       "    <tr>\n",
       "      <th>3</th>\n",
       "      <td>61</td>\n",
       "      <td>60</td>\n",
       "      <td>.vcmmeta showing as change gdqtgw</td>\n",
       "      <td>useruser   install drop  into declipse  user  ...</td>\n",
       "      <td>need custom .vcmignore comparemerge gdqt</td>\n",
       "      <td>useruser   install drop  into declipse  user  ...</td>\n",
       "      <td>1</td>\n",
       "    </tr>\n",
       "    <tr>\n",
       "      <th>4</th>\n",
       "      <td>94</td>\n",
       "      <td>2</td>\n",
       "      <td>repositories view all file types open to the t...</td>\n",
       "      <td>when browsing files in the repositories view i...</td>\n",
       "      <td>opening repository resources doesnt honor type...</td>\n",
       "      <td>opening repository resource  open the default ...</td>\n",
       "      <td>1</td>\n",
       "    </tr>\n",
       "    <tr>\n",
       "      <th>...</th>\n",
       "      <td>...</td>\n",
       "      <td>...</td>\n",
       "      <td>...</td>\n",
       "      <td>...</td>\n",
       "      <td>...</td>\n",
       "      <td>...</td>\n",
       "      <td>...</td>\n",
       "    </tr>\n",
       "    <tr>\n",
       "      <th>12681</th>\n",
       "      <td>423034</td>\n",
       "      <td>287720</td>\n",
       "      <td>.metadata.log error</td>\n",
       "      <td>please see my .log file  please fix this error</td>\n",
       "      <td>eclipse crashes while startup</td>\n",
       "      <td>id ..   .eclipse crashes on startup . .   more...</td>\n",
       "      <td>1</td>\n",
       "    </tr>\n",
       "    <tr>\n",
       "      <th>12682</th>\n",
       "      <td>423852</td>\n",
       "      <td>422971</td>\n",
       "      <td>workbench classcastexception handlerprocessing...</td>\n",
       "      <td>backport into ..   this bug was initially crea...</td>\n",
       "      <td>workbench classcastexception handlerprocessing...</td>\n",
       "      <td>backport to ..   this bug was initially create...</td>\n",
       "      <td>1</td>\n",
       "    </tr>\n",
       "    <tr>\n",
       "      <th>12683</th>\n",
       "      <td>423888</td>\n",
       "      <td>413977</td>\n",
       "      <td>keybindings resizing content assist proposal p...</td>\n",
       "      <td>tested on newly installed standard kepler sr o...</td>\n",
       "      <td>keybindings all nonnative key bindings stop wo...</td>\n",
       "      <td>. and latest n.  . paste the following snippet...</td>\n",
       "      <td>1</td>\n",
       "    </tr>\n",
       "    <tr>\n",
       "      <th>12684</th>\n",
       "      <td>424120</td>\n",
       "      <td>418254</td>\n",
       "      <td>close window from context menu</td>\n",
       "      <td>context menu  eclipse.id...m java.version.. ja...</td>\n",
       "      <td>editormgmt keybindings ctrle and delete causes...</td>\n",
       "      <td>after updating my kepler eclipse .. to service...</td>\n",
       "      <td>1</td>\n",
       "    </tr>\n",
       "    <tr>\n",
       "      <th>12685</th>\n",
       "      <td>424389</td>\n",
       "      <td>401709</td>\n",
       "      <td>viewmgmt findviewreference always returns null...</td>\n",
       "      <td>i have a problem using the iworkbenchpagefindv...</td>\n",
       "      <td>secondary problems view doesnt have a view men...</td>\n",
       "      <td>problems vews vew menu  new problems vew  seco...</td>\n",
       "      <td>1</td>\n",
       "    </tr>\n",
       "  </tbody>\n",
       "</table>\n",
       "<p>12686 rows × 7 columns</p>\n",
       "</div>"
      ],
      "text/plain": [
       "       Issue_id  Duplicated_issue  \\\n",
       "0            25             28126   \n",
       "1            40                20   \n",
       "2            48                22   \n",
       "3            61                60   \n",
       "4            94                 2   \n",
       "...         ...               ...   \n",
       "12681    423034            287720   \n",
       "12682    423852            422971   \n",
       "12683    423888            413977   \n",
       "12684    424120            418254   \n",
       "12685    424389            401709   \n",
       "\n",
       "                                                  Title1  \\\n",
       "0      cvs ui need vcm prefs  default repo connection gc   \n",
       "1                     need connect to team stream gcqpkw   \n",
       "2      make sure can future store other project refer...   \n",
       "3                      .vcmmeta showing as change gdqtgw   \n",
       "4      repositories view all file types open to the t...   \n",
       "...                                                  ...   \n",
       "12681                                .metadata.log error   \n",
       "12682  workbench classcastexception handlerprocessing...   \n",
       "12683  keybindings resizing content assist proposal p...   \n",
       "12684                     close window from context menu   \n",
       "12685  viewmgmt findviewreference always returns null...   \n",
       "\n",
       "                                            Description1  \\\n",
       "0      it would be helpful if there was a notion of d...   \n",
       "1      i would like to be able to connect to a team s...   \n",
       "2      project references come in three flavours  . p...   \n",
       "3      useruser   install drop  into declipse  user  ...   \n",
       "4      when browsing files in the repositories view i...   \n",
       "...                                                  ...   \n",
       "12681     please see my .log file  please fix this error   \n",
       "12682  backport into ..   this bug was initially crea...   \n",
       "12683  tested on newly installed standard kepler sr o...   \n",
       "12684  context menu  eclipse.id...m java.version.. ja...   \n",
       "12685  i have a problem using the iworkbenchpagefindv...   \n",
       "\n",
       "                                                  Title2  \\\n",
       "0         wizards patch standard public cvs repositories   \n",
       "1                                        workspace files   \n",
       "2      persist sharing recommendations and project ve...   \n",
       "3               need custom .vcmignore comparemerge gdqt   \n",
       "4      opening repository resources doesnt honor type...   \n",
       "...                                                  ...   \n",
       "12681                      eclipse crashes while startup   \n",
       "12682  workbench classcastexception handlerprocessing...   \n",
       "12683  keybindings all nonnative key bindings stop wo...   \n",
       "12684  editormgmt keybindings ctrle and delete causes...   \n",
       "12685  secondary problems view doesnt have a view men...   \n",
       "\n",
       "                                            Description2  Label  \n",
       "0      this patch adds a convenient way to check thin...      1  \n",
       "1      thought it would be useful if the set of repo ...      1  \n",
       "2      project descriptions dont store sharing recomm...      1  \n",
       "3      useruser   install drop  into declipse  user  ...      1  \n",
       "4      opening repository resource  open the default ...      1  \n",
       "...                                                  ...    ...  \n",
       "12681  id ..   .eclipse crashes on startup . .   more...      1  \n",
       "12682  backport to ..   this bug was initially create...      1  \n",
       "12683  . and latest n.  . paste the following snippet...      1  \n",
       "12684  after updating my kepler eclipse .. to service...      1  \n",
       "12685  problems vews vew menu  new problems vew  seco...      1  \n",
       "\n",
       "[12686 rows x 7 columns]"
      ]
     },
     "execution_count": 4,
     "metadata": {},
     "output_type": "execute_result"
    }
   ],
   "source": [
    "df2"
   ]
  },
  {
   "cell_type": "code",
   "execution_count": 5,
   "id": "85aa78a3",
   "metadata": {},
   "outputs": [
    {
     "name": "stdout",
     "output_type": "stream",
     "text": [
      "Eclipse dataset shape:  (46908, 7)\n",
      "Mozilla dataset shape:  (60904, 7)\n",
      "Thunderbird dataset shape:  (14263, 7)\n"
     ]
    }
   ],
   "source": [
    "print(\"Eclipse dataset shape: \",df_ecl.shape)\n",
    "print(\"Mozilla dataset shape: \",df_moz.shape)\n",
    "print(\"Thunderbird dataset shape: \",df_tb.shape)"
   ]
  },
  {
   "cell_type": "code",
   "execution_count": 6,
   "id": "0778de42",
   "metadata": {},
   "outputs": [
    {
     "name": "stdout",
     "output_type": "stream",
     "text": [
      "0    34222\n",
      "1    12686\n",
      "Name: Label, dtype: int64\n",
      "0    36833\n",
      "1    24071\n",
      "Name: Label, dtype: int64\n",
      "0    9905\n",
      "1    4358\n",
      "Name: Label, dtype: int64\n"
     ]
    }
   ],
   "source": [
    "# Counting the unique values in label for the 3 datasets\n",
    "print(df_ecl['Label'].value_counts())\n",
    "print(df_moz['Label'].value_counts())\n",
    "print(df_tb['Label'].value_counts())"
   ]
  },
  {
   "cell_type": "markdown",
   "id": "b115ec41",
   "metadata": {},
   "source": [
    "### Combining the text in Title and description column for all datasets in order to vectorize them together"
   ]
  },
  {
   "cell_type": "code",
   "execution_count": 7,
   "id": "71faf47b",
   "metadata": {},
   "outputs": [
    {
     "data": {
      "text/plain": [
       "0        usability issue with external editors geirl se...\n",
       "1        opening repository resources doesnt honor type...\n",
       "2        sync does not indicate deletion gien kmpm \\tth...\n",
       "3        need better error message if catching up over ...\n",
       "4        isharingmanager sharing api inconsistent gaulh...\n",
       "                               ...                        \n",
       "12681    .metadata.log error please see my .log file  p...\n",
       "12682    workbench classcastexception handlerprocessing...\n",
       "12683    keybindings resizing content assist proposal p...\n",
       "12684    close window from context menu context menu  e...\n",
       "12685    viewmgmt findviewreference always returns null...\n",
       "Name: Bug1, Length: 46908, dtype: object"
      ]
     },
     "execution_count": 7,
     "metadata": {},
     "output_type": "execute_result"
    }
   ],
   "source": [
    "df_ecl['Bug1'] = df_ecl['Title1'].str.cat(df_ecl['Description1'],sep=\" \")\n",
    "df_ecl['Bug2'] = df_ecl['Title2'].str.cat(df_ecl['Description2'],sep=\" \")\n",
    "\n",
    "df_moz['Bug1'] = df_moz['Title1'].str.cat(df_moz['Description1'],sep=\" \")\n",
    "df_moz['Bug2'] = df_moz['Title2'].str.cat(df_moz['Description2'],sep=\" \")\n",
    "\n",
    "df_tb['Bug1'] = df_tb['Title1'].str.cat(df_tb['Description1'],sep=\" \")\n",
    "df_tb['Bug2'] = df_tb['Title2'].str.cat(df_tb['Description2'],sep=\" \")\n",
    "df_ecl.Bug1"
   ]
  },
  {
   "cell_type": "markdown",
   "id": "b21107e7",
   "metadata": {},
   "source": [
    "### Remove puncctuations and stop words from the datasets to process"
   ]
  },
  {
   "cell_type": "code",
   "execution_count": 8,
   "id": "52349591",
   "metadata": {},
   "outputs": [],
   "source": [
    "stop_words = set(stopwords.words('english'))\n",
    "\n",
    "def words(text):\n",
    "    text = ''.join([i for i in text if i not in punctuation])\n",
    "    text = text.lower()\n",
    "    text = text.split()\n",
    "    text = [j for j in text if not j in stop_words]\n",
    "    text = \" \".join(text)\n",
    "    return(text)"
   ]
  },
  {
   "cell_type": "code",
   "execution_count": 9,
   "id": "ed73279c",
   "metadata": {},
   "outputs": [],
   "source": [
    "def preprocess(bug_reports,bugs_all):\n",
    "    for n in bugs_all:\n",
    "        bug_reports.append(words(n))"
   ]
  },
  {
   "cell_type": "code",
   "execution_count": 10,
   "id": "fe126b45",
   "metadata": {},
   "outputs": [],
   "source": [
    "bug_pp_ecl1 = []\n",
    "bug_pp_ecl2 = []\n",
    "\n",
    "bug_pp_moz1 = []\n",
    "bug_pp_moz2 = []\n",
    "\n",
    "bug_pp_tb1 = []\n",
    "bug_pp_tb2 = []\n",
    "\n",
    "preprocess(bug_pp_ecl1, df_ecl.Bug1)\n",
    "preprocess(bug_pp_ecl2, df_ecl.Bug2)\n",
    "\n",
    "preprocess(bug_pp_moz1, df_moz.Bug1)\n",
    "preprocess(bug_pp_moz2, df_moz.Bug2)\n",
    "\n",
    "preprocess(bug_pp_tb1, df_tb.Bug1)\n",
    "preprocess(bug_pp_tb2, df_tb.Bug2)"
   ]
  },
  {
   "cell_type": "markdown",
   "id": "cd3beeb3",
   "metadata": {},
   "source": [
    "### Define TFIDF veectorizer"
   ]
  },
  {
   "cell_type": "code",
   "execution_count": 11,
   "id": "10b2f30a",
   "metadata": {},
   "outputs": [],
   "source": [
    "tfidf_ecl = TfidfVectorizer(analyzer = 'word',stop_words = 'english',lowercase = True,max_features = 700,norm = 'l2')\n",
    "tfidf_moz = TfidfVectorizer(analyzer = 'word',stop_words = 'english',lowercase = True,max_features = 700,norm = 'l2')\n",
    "tfidf_tb = TfidfVectorizer(analyzer = 'word',stop_words = 'english',lowercase = True,max_features = 700,norm = 'l2')"
   ]
  },
  {
   "cell_type": "code",
   "execution_count": 12,
   "id": "1e3259ff",
   "metadata": {},
   "outputs": [],
   "source": [
    "words_ecl = pd.concat([df_ecl.Bug1,df_ecl.Bug2], axis = 0)\n",
    "words_moz = pd.concat([df_moz.Bug1,df_moz.Bug2], axis = 0)\n",
    "words_tb = pd.concat([df_tb.Bug1,df_tb.Bug2], axis = 0)"
   ]
  },
  {
   "cell_type": "code",
   "execution_count": 13,
   "id": "c3b854dc",
   "metadata": {},
   "outputs": [],
   "source": [
    "tfidf_ecl.fit(words_ecl)\n",
    "tfidf_moz.fit(words_moz)\n",
    "tfidf_tb.fit(words_tb)\n",
    "\n",
    "duplicate_ecl_1 = tfidf_ecl.transform(df_ecl.Bug1)\n",
    "duplicate_ecl_2 = tfidf_ecl.transform(df_ecl.Bug2)\n",
    "\n",
    "duplicate_moz_1 = tfidf_moz.transform(df_moz.Bug1)\n",
    "duplicate_moz_2 = tfidf_moz.transform(df_moz.Bug2)\n",
    "\n",
    "duplicate_tb_1 = tfidf_tb.transform(df_tb.Bug1)\n",
    "duplicate_tb_2 = tfidf_tb.transform(df_tb.Bug2)"
   ]
  },
  {
   "cell_type": "code",
   "execution_count": 14,
   "id": "f59e02f4",
   "metadata": {},
   "outputs": [],
   "source": [
    "x_ecl = abs(duplicate_ecl_1 - duplicate_ecl_2)\n",
    "y_ecl = df_ecl['Label']\n",
    "\n",
    "x_moz = abs(duplicate_moz_1 - duplicate_moz_2)\n",
    "y_moz = df_moz['Label']\n",
    "\n",
    "x_tb = abs(duplicate_tb_1 - duplicate_tb_2)\n",
    "y_tb = df_tb['Label']"
   ]
  },
  {
   "cell_type": "code",
   "execution_count": 19,
   "id": "5e5fc271",
   "metadata": {},
   "outputs": [],
   "source": [
    "x_ecl_train, x_ecl_test, y_ecl_train, y_ecl_test = train_test_split(x_ecl, y_ecl, test_size=0.3)\n",
    "\n",
    "x_moz_train, x_moz_test, y_moz_train, y_moz_test = train_test_split(x_moz, y_moz, test_size=0.3)\n",
    "\n",
    "x_tb_train, x_tb_test, y_tb_train, y_tb_test = train_test_split(x_tb, y_tb, test_size=0.3)"
   ]
  },
  {
   "cell_type": "markdown",
   "id": "8aab5fd9",
   "metadata": {},
   "source": [
    "## Logistic Regression"
   ]
  },
  {
   "cell_type": "code",
   "execution_count": 20,
   "id": "b6055884",
   "metadata": {},
   "outputs": [
    {
     "data": {
      "text/plain": [
       "LogisticRegression(max_iter=1000)"
      ]
     },
     "execution_count": 20,
     "metadata": {},
     "output_type": "execute_result"
    }
   ],
   "source": [
    "lr_ecl = LogisticRegression(max_iter=1000)\n",
    "lr_ecl.fit(x_ecl_train, y_ecl_train)\n",
    "\n",
    "lr_moz = LogisticRegression(max_iter=1000)\n",
    "lr_moz.fit(x_moz_train, y_moz_train)\n",
    "\n",
    "lr_tb = LogisticRegression(max_iter=1000)\n",
    "lr_tb.fit(x_tb_train, y_tb_train)"
   ]
  },
  {
   "cell_type": "code",
   "execution_count": 38,
   "id": "cb866104",
   "metadata": {},
   "outputs": [],
   "source": [
    "y_pred_ecl = lr_ecl.predict(x_ecl_test) \n",
    "y_pred_moz = lr_moz.predict(x_moz_test) \n",
    "y_pred_tb = lr_tb.predict(x_tb_test)\n",
    "\n",
    "lr_ecl_auc = roc_auc_score(y_ecl, lr_ecl.predict_proba(x_ecl)[:, 1])\n",
    "lr_moz_auc = roc_auc_score(y_moz, lr_moz.predict_proba(x_moz)[:, 1])\n",
    "lr_tb_auc = roc_auc_score(y_tb, lr_tb.predict_proba(x_tb)[:, 1])\n",
    "\n",
    "lr_ecl_acc = accuracy_score(y_ecl_test, y_pred_ecl)\n",
    "lr_moz_acc = accuracy_score(y_moz_test, y_pred_moz)\n",
    "lr_tb_acc = accuracy_score(y_tb_test, y_pred_tb)\n",
    "\n",
    "lr_ecl_prec = precision_score(y_ecl_test, y_pred_ecl)\n",
    "lr_moz_prec = precision_score(y_moz_test, y_pred_moz)\n",
    "lr_tb_prec = precision_score(y_tb_test, y_pred_tb)\n",
    "\n",
    "lr_ecl_recall = recall_score(y_ecl_test, y_pred_ecl)\n",
    "lr_moz_recall = recall_score(y_moz_test, y_pred_moz)\n",
    "lr_tb_recall = recall_score(y_tb_test, y_pred_tb)"
   ]
  },
  {
   "cell_type": "code",
   "execution_count": 22,
   "id": "4591c8b3",
   "metadata": {},
   "outputs": [
    {
     "name": "stdout",
     "output_type": "stream",
     "text": [
      "\n",
      "True Positive  :  1957\n",
      "True Negative  :  9607\n",
      "False Positive :  1838\n",
      "False Negative :  671\n",
      "Accuracy       :  0.8217153414339515\n",
      "\n",
      "True Positive  :  5037\n",
      "True Negative  :  9425\n",
      "False Positive :  2239\n",
      "False Negative :  1571\n",
      "Accuracy       :  0.791484238178634\n",
      "\n",
      "True Positive  :  837\n",
      "True Negative  :  2711\n",
      "False Positive :  501\n",
      "False Negative :  230\n",
      "Accuracy       :  0.8291656929189063\n",
      "               precision    recall  f1-score   support\n",
      "\n",
      "Non Duplicate       0.84      0.93      0.88     10278\n",
      "    Duplicate       0.74      0.52      0.61      3795\n",
      "\n",
      "     accuracy                           0.82     14073\n",
      "    macro avg       0.79      0.73      0.75     14073\n",
      " weighted avg       0.81      0.82      0.81     14073\n",
      "\n",
      "               precision    recall  f1-score   support\n",
      "\n",
      "Non Duplicate       0.81      0.86      0.83     10996\n",
      "    Duplicate       0.76      0.69      0.73      7276\n",
      "\n",
      "     accuracy                           0.79     18272\n",
      "    macro avg       0.79      0.77      0.78     18272\n",
      " weighted avg       0.79      0.79      0.79     18272\n",
      "\n",
      "               precision    recall  f1-score   support\n",
      "\n",
      "Non Duplicate       0.84      0.92      0.88      2941\n",
      "    Duplicate       0.78      0.63      0.70      1338\n",
      "\n",
      "     accuracy                           0.83      4279\n",
      "    macro avg       0.81      0.77      0.79      4279\n",
      " weighted avg       0.83      0.83      0.82      4279\n",
      "\n"
     ]
    }
   ],
   "source": [
    "def print_evalreport(y_test,y_pred):\n",
    "    confmatrix = confusion_matrix(y_test,y_pred)\n",
    "    TP = confmatrix[1][1]\n",
    "    TN = confmatrix[0][0]\n",
    "    FP = confmatrix[1][0]\n",
    "    FN = confmatrix[0][1]\n",
    "    accuracy = (TP + TN)/(TP + TN + FP + FN)\n",
    "    print(\"\\nTrue Positive  : \", TP)\n",
    "    print(\"True Negative  : \", TN)\n",
    "    print(\"False Positive : \", FP)\n",
    "    print(\"False Negative : \", FN)\n",
    "    print(\"Accuracy       : \",accuracy)\n",
    "\n",
    "print_evalreport(y_ecl_test,y_pred_ecl)\n",
    "print_evalreport(y_moz_test,y_pred_moz)\n",
    "print_evalreport(y_tb_test,y_pred_tb)\n",
    "\n",
    "target_names = ['Non Duplicate', 'Duplicate']\n",
    "print(classification_report(y_ecl_test, y_pred_ecl, target_names=target_names))\n",
    "print(classification_report(y_moz_test, y_pred_moz, target_names=target_names))\n",
    "print(classification_report(y_tb_test, y_pred_tb, target_names=target_names))"
   ]
  },
  {
   "cell_type": "markdown",
   "id": "d95525c7",
   "metadata": {},
   "source": [
    "### Random Forest Classifier"
   ]
  },
  {
   "cell_type": "code",
   "execution_count": 23,
   "id": "bb696367",
   "metadata": {},
   "outputs": [
    {
     "data": {
      "text/plain": [
       "RandomForestClassifier(max_depth=20)"
      ]
     },
     "execution_count": 23,
     "metadata": {},
     "output_type": "execute_result"
    }
   ],
   "source": [
    "rf_ecl = RandomForestClassifier(max_depth=20)\n",
    "rf_ecl.fit(x_ecl_train, y_ecl_train)\n",
    "\n",
    "rf_moz = RandomForestClassifier(max_depth=20)\n",
    "rf_moz.fit(x_moz_train, y_moz_train)\n",
    "\n",
    "rf_tb = RandomForestClassifier(max_depth=20)\n",
    "rf_tb.fit(x_tb_train, y_tb_train)"
   ]
  },
  {
   "cell_type": "code",
   "execution_count": 39,
   "id": "20b02b1b",
   "metadata": {},
   "outputs": [],
   "source": [
    "y_pred_ecl = rf_ecl.predict(x_ecl_test) \n",
    "y_pred_moz = rf_moz.predict(x_moz_test) \n",
    "y_pred_tb = rf_tb.predict(x_tb_test)\n",
    "\n",
    "\n",
    "dt_ecl_auc = roc_auc_score(y_ecl, dt_ecl.predict_proba(x_ecl)[:, 1])\n",
    "dt_moz_auc = roc_auc_score(y_moz, dt_moz.predict_proba(x_moz)[:, 1])\n",
    "dt_tb_auc = roc_auc_score(y_tb, dt_tb.predict_proba(x_tb)[:, 1])\n",
    "\n",
    "dt_ecl_acc = accuracy_score(y_ecl_test, y_pred_ecl)\n",
    "dt_moz_acc = accuracy_score(y_moz_test, y_pred_moz)\n",
    "dt_tb_acc = accuracy_score(y_tb_test, y_pred_tb)\n",
    "\n",
    "dt_ecl_prec = precision_score(y_ecl_test, y_pred_ecl)\n",
    "dt_moz_prec = precision_score(y_moz_test, y_pred_moz)\n",
    "dt_tb_prec = precision_score(y_tb_test, y_pred_tb)\n",
    "\n",
    "dt_ecl_recall = recall_score(y_ecl_test, y_pred_ecl)\n",
    "dt_moz_recall = recall_score(y_moz_test, y_pred_moz)\n",
    "dt_tb_recall = recall_score(y_tb_test, y_pred_tb)"
   ]
  },
  {
   "cell_type": "code",
   "execution_count": 25,
   "id": "402a0ccb",
   "metadata": {},
   "outputs": [
    {
     "name": "stdout",
     "output_type": "stream",
     "text": [
      "\n",
      "True Positive  :  345\n",
      "True Negative  :  10253\n",
      "False Positive :  3450\n",
      "False Negative :  25\n",
      "Accuracy       :  0.7530732608541179\n",
      "\n",
      "True Positive  :  3087\n",
      "True Negative  :  10304\n",
      "False Positive :  4189\n",
      "False Negative :  692\n",
      "Accuracy       :  0.7328699649737302\n",
      "\n",
      "True Positive  :  313\n",
      "True Negative  :  2921\n",
      "False Positive :  1025\n",
      "False Negative :  20\n",
      "Accuracy       :  0.7557840616966581\n",
      "               precision    recall  f1-score   support\n",
      "\n",
      "Non Duplicate       0.75      1.00      0.86     10278\n",
      "    Duplicate       0.93      0.09      0.17      3795\n",
      "\n",
      "     accuracy                           0.75     14073\n",
      "    macro avg       0.84      0.54      0.51     14073\n",
      " weighted avg       0.80      0.75      0.67     14073\n",
      "\n",
      "               precision    recall  f1-score   support\n",
      "\n",
      "Non Duplicate       0.71      0.94      0.81     10996\n",
      "    Duplicate       0.82      0.42      0.56      7276\n",
      "\n",
      "     accuracy                           0.73     18272\n",
      "    macro avg       0.76      0.68      0.68     18272\n",
      " weighted avg       0.75      0.73      0.71     18272\n",
      "\n",
      "               precision    recall  f1-score   support\n",
      "\n",
      "Non Duplicate       0.74      0.99      0.85      2941\n",
      "    Duplicate       0.94      0.23      0.37      1338\n",
      "\n",
      "     accuracy                           0.76      4279\n",
      "    macro avg       0.84      0.61      0.61      4279\n",
      " weighted avg       0.80      0.76      0.70      4279\n",
      "\n"
     ]
    }
   ],
   "source": [
    "print_evalreport(y_ecl_test,y_pred_ecl)\n",
    "print_evalreport(y_moz_test,y_pred_moz)\n",
    "print_evalreport(y_tb_test,y_pred_tb)\n",
    "\n",
    "print(classification_report(y_ecl_test, y_pred_ecl, target_names=target_names))\n",
    "print(classification_report(y_moz_test, y_pred_moz, target_names=target_names))\n",
    "print(classification_report(y_tb_test, y_pred_tb, target_names=target_names))"
   ]
  },
  {
   "cell_type": "markdown",
   "id": "ee4bbd4e",
   "metadata": {},
   "source": [
    "### Decision Tree Classifier"
   ]
  },
  {
   "cell_type": "code",
   "execution_count": 26,
   "id": "bcc6e159",
   "metadata": {},
   "outputs": [],
   "source": [
    "dt_ecl = tree.DecisionTreeClassifier()\n",
    "dt_ecl = dt_ecl.fit(x_ecl_train, y_ecl_train)\n",
    "\n",
    "dt_moz = tree.DecisionTreeClassifier()\n",
    "dt_moz = dt_moz.fit(x_moz_train, y_moz_train)\n",
    "\n",
    "dt_tb = tree.DecisionTreeClassifier()\n",
    "dt_tb = dt_tb.fit(x_tb_train, y_tb_train)"
   ]
  },
  {
   "cell_type": "code",
   "execution_count": 40,
   "id": "c73814d5",
   "metadata": {},
   "outputs": [],
   "source": [
    "y_pred_ecl = dt_ecl.predict(x_ecl_test) \n",
    "y_pred_moz = dt_moz.predict(x_moz_test) \n",
    "y_pred_tb = dt_tb.predict(x_tb_test)\n",
    "\n",
    "\n",
    "rf_ecl_auc = roc_auc_score(y_ecl, rf_ecl.predict_proba(x_ecl)[:, 1])\n",
    "rf_moz_auc = roc_auc_score(y_moz, rf_moz.predict_proba(x_moz)[:, 1])\n",
    "rf_tb_auc = roc_auc_score(y_tb, rf_tb.predict_proba(x_tb)[:, 1])\n",
    "\n",
    "rf_ecl_acc = accuracy_score(y_ecl_test, y_pred_ecl)\n",
    "rf_moz_acc = accuracy_score(y_moz_test, y_pred_moz)\n",
    "rf_tb_acc = accuracy_score(y_tb_test, y_pred_tb)\n",
    "\n",
    "rf_ecl_prec = precision_score(y_ecl_test, y_pred_ecl)\n",
    "rf_moz_prec = precision_score(y_moz_test, y_pred_moz)\n",
    "rf_tb_prec = precision_score(y_tb_test, y_pred_tb)\n",
    "\n",
    "rf_ecl_recall = recall_score(y_ecl_test, y_pred_ecl)\n",
    "rf_moz_recall = recall_score(y_moz_test, y_pred_moz)\n",
    "rf_tb_recall = recall_score(y_tb_test, y_pred_tb)"
   ]
  },
  {
   "cell_type": "code",
   "execution_count": 28,
   "id": "e15b50fc",
   "metadata": {},
   "outputs": [
    {
     "name": "stdout",
     "output_type": "stream",
     "text": [
      "\n",
      "True Positive  :  1755\n",
      "True Negative  :  8070\n",
      "False Positive :  2040\n",
      "False Negative :  2208\n",
      "Accuracy       :  0.6981453847793647\n",
      "\n",
      "True Positive  :  4236\n",
      "True Negative  :  7718\n",
      "False Positive :  3040\n",
      "False Negative :  3278\n",
      "Accuracy       :  0.6542250437828371\n",
      "\n",
      "True Positive  :  665\n",
      "True Negative  :  2271\n",
      "False Positive :  673\n",
      "False Negative :  670\n",
      "Accuracy       :  0.6861416218742696\n",
      "               precision    recall  f1-score   support\n",
      "\n",
      "Non Duplicate       0.80      0.79      0.79     10278\n",
      "    Duplicate       0.44      0.46      0.45      3795\n",
      "\n",
      "     accuracy                           0.70     14073\n",
      "    macro avg       0.62      0.62      0.62     14073\n",
      " weighted avg       0.70      0.70      0.70     14073\n",
      "\n",
      "               precision    recall  f1-score   support\n",
      "\n",
      "Non Duplicate       0.72      0.70      0.71     10996\n",
      "    Duplicate       0.56      0.58      0.57      7276\n",
      "\n",
      "     accuracy                           0.65     18272\n",
      "    macro avg       0.64      0.64      0.64     18272\n",
      " weighted avg       0.66      0.65      0.66     18272\n",
      "\n",
      "               precision    recall  f1-score   support\n",
      "\n",
      "Non Duplicate       0.77      0.77      0.77      2941\n",
      "    Duplicate       0.50      0.50      0.50      1338\n",
      "\n",
      "     accuracy                           0.69      4279\n",
      "    macro avg       0.63      0.63      0.63      4279\n",
      " weighted avg       0.69      0.69      0.69      4279\n",
      "\n"
     ]
    }
   ],
   "source": [
    "print_evalreport(y_ecl_test,y_pred_ecl)\n",
    "print_evalreport(y_moz_test,y_pred_moz)\n",
    "print_evalreport(y_tb_test,y_pred_tb)\n",
    "\n",
    "print(classification_report(y_ecl_test, y_pred_ecl, target_names=target_names))\n",
    "print(classification_report(y_moz_test, y_pred_moz, target_names=target_names))\n",
    "print(classification_report(y_tb_test, y_pred_tb, target_names=target_names))"
   ]
  },
  {
   "cell_type": "code",
   "execution_count": 47,
   "id": "32f6c76d",
   "metadata": {},
   "outputs": [
    {
     "data": {
      "text/html": [
       "<div>\n",
       "<style scoped>\n",
       "    .dataframe tbody tr th:only-of-type {\n",
       "        vertical-align: middle;\n",
       "    }\n",
       "\n",
       "    .dataframe tbody tr th {\n",
       "        vertical-align: top;\n",
       "    }\n",
       "\n",
       "    .dataframe thead th {\n",
       "        text-align: right;\n",
       "    }\n",
       "</style>\n",
       "<table border=\"1\" class=\"dataframe\">\n",
       "  <thead>\n",
       "    <tr style=\"text-align: right;\">\n",
       "      <th></th>\n",
       "      <th>classifier</th>\n",
       "      <th>dataset_used</th>\n",
       "      <th>auc</th>\n",
       "      <th>accuracy</th>\n",
       "      <th>recall</th>\n",
       "      <th>precision</th>\n",
       "    </tr>\n",
       "  </thead>\n",
       "  <tbody>\n",
       "    <tr>\n",
       "      <th>0</th>\n",
       "      <td>LR</td>\n",
       "      <td>eclipse</td>\n",
       "      <td>0.861728</td>\n",
       "      <td>0.821715</td>\n",
       "      <td>0.515679</td>\n",
       "      <td>0.744673</td>\n",
       "    </tr>\n",
       "    <tr>\n",
       "      <th>1</th>\n",
       "      <td>LR</td>\n",
       "      <td>mozilla</td>\n",
       "      <td>0.869683</td>\n",
       "      <td>0.791484</td>\n",
       "      <td>0.692276</td>\n",
       "      <td>0.762258</td>\n",
       "    </tr>\n",
       "    <tr>\n",
       "      <th>2</th>\n",
       "      <td>LR</td>\n",
       "      <td>thunderbird</td>\n",
       "      <td>0.899117</td>\n",
       "      <td>0.829166</td>\n",
       "      <td>0.625561</td>\n",
       "      <td>0.784442</td>\n",
       "    </tr>\n",
       "    <tr>\n",
       "      <th>3</th>\n",
       "      <td>DT</td>\n",
       "      <td>eclipse</td>\n",
       "      <td>0.887336</td>\n",
       "      <td>0.753073</td>\n",
       "      <td>0.090909</td>\n",
       "      <td>0.932432</td>\n",
       "    </tr>\n",
       "    <tr>\n",
       "      <th>4</th>\n",
       "      <td>DT</td>\n",
       "      <td>mozilla</td>\n",
       "      <td>0.892355</td>\n",
       "      <td>0.732870</td>\n",
       "      <td>0.424272</td>\n",
       "      <td>0.816883</td>\n",
       "    </tr>\n",
       "    <tr>\n",
       "      <th>5</th>\n",
       "      <td>DT</td>\n",
       "      <td>thunderbird</td>\n",
       "      <td>0.888964</td>\n",
       "      <td>0.755784</td>\n",
       "      <td>0.233931</td>\n",
       "      <td>0.939940</td>\n",
       "    </tr>\n",
       "    <tr>\n",
       "      <th>6</th>\n",
       "      <td>RF</td>\n",
       "      <td>eclipse</td>\n",
       "      <td>0.935200</td>\n",
       "      <td>0.698145</td>\n",
       "      <td>0.462451</td>\n",
       "      <td>0.442846</td>\n",
       "    </tr>\n",
       "    <tr>\n",
       "      <th>7</th>\n",
       "      <td>RF</td>\n",
       "      <td>mozilla</td>\n",
       "      <td>0.933971</td>\n",
       "      <td>0.654225</td>\n",
       "      <td>0.582188</td>\n",
       "      <td>0.563748</td>\n",
       "    </tr>\n",
       "    <tr>\n",
       "      <th>8</th>\n",
       "      <td>RF</td>\n",
       "      <td>thunderbird</td>\n",
       "      <td>0.960885</td>\n",
       "      <td>0.686142</td>\n",
       "      <td>0.497010</td>\n",
       "      <td>0.498127</td>\n",
       "    </tr>\n",
       "  </tbody>\n",
       "</table>\n",
       "</div>"
      ],
      "text/plain": [
       "  classifier dataset_used       auc  accuracy    recall  precision\n",
       "0         LR      eclipse  0.861728  0.821715  0.515679   0.744673\n",
       "1         LR      mozilla  0.869683  0.791484  0.692276   0.762258\n",
       "2         LR  thunderbird  0.899117  0.829166  0.625561   0.784442\n",
       "3         DT      eclipse  0.887336  0.753073  0.090909   0.932432\n",
       "4         DT      mozilla  0.892355  0.732870  0.424272   0.816883\n",
       "5         DT  thunderbird  0.888964  0.755784  0.233931   0.939940\n",
       "6         RF      eclipse  0.935200  0.698145  0.462451   0.442846\n",
       "7         RF      mozilla  0.933971  0.654225  0.582188   0.563748\n",
       "8         RF  thunderbird  0.960885  0.686142  0.497010   0.498127"
      ]
     },
     "execution_count": 47,
     "metadata": {},
     "output_type": "execute_result"
    }
   ],
   "source": [
    "df_results = pd.DataFrame({'classifier':['LR','LR','LR','DT','DT','DT','RF','RF','RF'],\n",
    "                           'dataset_used':['eclipse','mozilla','thunderbird']*3,\n",
    "                          'auc':[lr_ecl_auc,lr_moz_auc,lr_tb_auc,dt_ecl_auc,dt_moz_auc,dt_tb_auc,\\\n",
    "                                     rf_ecl_auc,rf_moz_auc,rf_tb_auc],\n",
    "                          'accuracy':[lr_ecl_acc,lr_moz_acc,lr_tb_acc,dt_ecl_acc,dt_moz_acc,dt_tb_acc,\\\n",
    "                                     rf_ecl_acc,rf_moz_acc,rf_tb_acc],\n",
    "                          'recall':[lr_ecl_recall,lr_moz_recall,lr_tb_recall,dt_ecl_recall,dt_moz_recall,dt_tb_recall,\\\n",
    "                                     rf_ecl_recall,rf_moz_recall,rf_tb_recall],\n",
    "                          'precision':[lr_ecl_prec,lr_moz_prec,lr_tb_prec,dt_ecl_prec,dt_moz_prec,dt_tb_prec,\\\n",
    "                                     rf_ecl_prec,rf_moz_prec,rf_tb_prec]})\n",
    "df_results"
   ]
  },
  {
   "cell_type": "code",
   "execution_count": 48,
   "id": "25915bc5",
   "metadata": {},
   "outputs": [
    {
     "name": "stdout",
     "output_type": "stream",
     "text": [
      "MODEL PERFORMANCE METRICS\n"
     ]
    },
    {
     "data": {
      "text/plain": [
       "<function matplotlib.pyplot.show(close=None, block=None)>"
      ]
     },
     "execution_count": 48,
     "metadata": {},
     "output_type": "execute_result"
    },
    {
     "data": {
      "image/png": "[encoded data removed]",
      "text/plain": [
       "<Figure size 1152x576 with 2 Axes>"
      ]
     },
     "metadata": {},
     "output_type": "display_data"
    },
    {
     "data": {
      "image/png": "[encoded data removed]",
      "text/plain": [
       "<Figure size 1152x576 with 2 Axes>"
      ]
     },
     "metadata": {},
     "output_type": "display_data"
    }
   ],
   "source": [
    "print(\"MODEL PERFORMANCE METRICS\")\n",
    "\n",
    "sns.set(style=\"darkgrid\")\n",
    "\n",
    "fig, axs = plt.subplots(ncols=2)\n",
    "sns.set(rc={'figure.figsize':(16,8)})\n",
    "ax = sns.barplot(x=\"classifier\", y=\"auc\", hue=\"dataset_used\", data=df_results,ax=axs[0],palette=\"dark:salmon\")\n",
    "ax.set_xlabel('Model',fontsize = 15)\n",
    "ax.set_ylabel('AUC', fontsize = 15)\n",
    "ax.tick_params(labelsize=15)\n",
    "\n",
    "sns.set(rc={'figure.figsize':(16,8)})\n",
    "ax = sns.barplot(x=\"classifier\", y=\"accuracy\", hue=\"dataset_used\", data=df_results,ax=axs[1],palette=\"dark:salmon\")\n",
    "ax.set_xlabel('Model',fontsize = 15)\n",
    "ax.set_ylabel('Accuracy', fontsize = 15)\n",
    "ax.tick_params(labelsize=15)\n",
    "\n",
    "fig, axs = plt.subplots(ncols=2)\n",
    "sns.set(rc={'figure.figsize':(16,8)})\n",
    "ax = sns.barplot(x=\"classifier\", y=\"precision\", hue=\"dataset_used\", data=df_results,ax=axs[0],palette=\"dark:salmon\")\n",
    "ax.set_xlabel('Model',fontsize = 15)\n",
    "ax.set_ylabel('Precision', fontsize = 15)\n",
    "ax.tick_params(labelsize=15)\n",
    "\n",
    "sns.set(rc={'figure.figsize':(16,8)})\n",
    "ax = sns.barplot(x=\"classifier\", y=\"recall\", hue=\"dataset_used\", data=df_results,ax=axs[1],palette=\"dark:salmon\")\n",
    "ax.set_xlabel('Model',fontsize = 15)\n",
    "ax.set_ylabel('Recall', fontsize = 15)\n",
    "ax.tick_params(labelsize=15)\n",
    "plt.show"
   ]
  },
  {
   "cell_type": "code",
   "execution_count": null,
   "id": "ccc9625f",
   "metadata": {},
   "outputs": [],
   "source": []
  },
  {
   "cell_type": "code",
   "execution_count": null,
   "id": "1699602a",
   "metadata": {},
   "outputs": [],
   "source": []
  },
  {
   "cell_type": "code",
   "execution_count": null,
   "id": "e0315126",
   "metadata": {},
   "outputs": [],
   "source": []
  },
  {
   "cell_type": "code",
   "execution_count": null,
   "id": "4b2878d5",
   "metadata": {},
   "outputs": [],
   "source": []
  },
  {
   "cell_type": "code",
   "execution_count": null,
   "id": "b252c9d1",
   "metadata": {},
   "outputs": [],
   "source": []
  },
  {
   "cell_type": "code",
   "execution_count": null,
   "id": "752e7004",
   "metadata": {},
   "outputs": [],
   "source": []
  },
  {
   "cell_type": "code",
   "execution_count": null,
   "id": "9fa45b42",
   "metadata": {},
   "outputs": [],
   "source": []
  }
 ],
 "metadata": {
  "kernelspec": {
   "display_name": "Python 3 (ipykernel)",
   "language": "python",
   "name": "python3"
  },
  "language_info": {
   "codemirror_mode": {
    "name": "ipython",
    "version": 3
   },
   "file_extension": ".py",
   "mimetype": "text/x-python",
   "name": "python",
   "nbconvert_exporter": "python",
   "pygments_lexer": "ipython3",
   "version": "3.10.2"
  }
 },
 "nbformat": 4,
 "nbformat_minor": 5
}
