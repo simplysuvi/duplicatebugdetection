{
 "cells": [
  {
   "cell_type": "markdown",
   "id": "162dd142",
   "metadata": {},
   "source": [
    "## Group 1\n",
    "### (Models - Logistic Regression, Random Forest Classifier, Decision Tree Classifier)"
   ]
  },
  {
   "cell_type": "code",
   "execution_count": 49,
   "id": "0939c52e",
   "metadata": {
    "scrolled": true
   },
   "outputs": [
    {
     "name": "stderr",
     "output_type": "stream",
     "text": [
      "[nltk_data] Downloading package stopwords to\n",
      "[nltk_data]     /Users/suvijain/nltk_data...\n",
      "[nltk_data]   Package stopwords is already up-to-date!\n",
      "[nltk_data] Downloading package wordnet to\n",
      "[nltk_data]     /Users/suvijain/nltk_data...\n",
      "[nltk_data]   Package wordnet is already up-to-date!\n"
     ]
    },
    {
     "data": {
      "text/plain": [
       "True"
      ]
     },
     "execution_count": 49,
     "metadata": {},
     "output_type": "execute_result"
    }
   ],
   "source": [
    "import numpy as np\n",
    "import pandas as pd\n",
    "pd.set_option('display.max_colwidth', None)\n",
    "from typing import Tuple\n",
    "import copy as cp\n",
    "from pandas import DataFrame\n",
    "from matplotlib import pyplot as plt \n",
    "import nltk\n",
    "from nltk.corpus import stopwords\n",
    "from nltk.stem import SnowballStemmer\n",
    "import re\n",
    "from string import punctuation\n",
    "from sklearn.metrics import classification_report, confusion_matrix, precision_score, recall_score,roc_auc_score,\\\n",
    "accuracy_score\n",
    "from sklearn.feature_extraction.text import TfidfVectorizer\n",
    "from sklearn.model_selection import train_test_split\n",
    "from sklearn.linear_model import LogisticRegression\n",
    "from sklearn.ensemble import RandomForestClassifier\n",
    "from sklearn.model_selection import cross_val_score,cross_validate,StratifiedKFold,KFold,cross_val_predict\n",
    "from sklearn import tree\n",
    "import seaborn as sns\n",
    "\n",
    "\n",
    "from numpy import array\n",
    "import warnings\n",
    "warnings.filterwarnings('ignore')\n",
    "\n",
    "import ssl\n",
    "try:\n",
    "    _create_unverified_https_context = ssl._create_unverified_context\n",
    "except AttributeError:\n",
    "    pass\n",
    "else:\n",
    "    ssl._create_default_https_context = _create_unverified_https_context\n",
    "\n",
    "nltk.download('stopwords')\n",
    "nltk.download('wordnet')"
   ]
  },
  {
   "cell_type": "markdown",
   "id": "46759091",
   "metadata": {},
   "source": [
    "### Loading datasets for Eclipse, Mozilla, Thunderbird and combining to form 3 different dataframes"
   ]
  },
  {
   "cell_type": "code",
   "execution_count": 50,
   "id": "66f87aa9",
   "metadata": {},
   "outputs": [],
   "source": [
    "# Loading all the given datasets in 6 dataframes\n",
    "\n",
    "df1 = pd.read_csv('EP_nondup.csv',sep=';')\n",
    "df2 = pd.read_csv('EP_dup.csv',sep=';')\n",
    "df3 = pd.read_csv('M_Duplicate BRs.csv',sep=';')\n",
    "df4 = pd.read_csv('M_NonDuplicate BRs.csv',sep=';')\n",
    "df5 = pd.read_csv('dup_TB.csv',sep=';')\n",
    "df6 = pd.read_csv('Nondup_TB.csv',sep=';')\n",
    "\n",
    "frames_ecl = [df1,df2]\n",
    "frames_moz = [df3,df4]\n",
    "frames_tb = [df5,df6]\n",
    "\n",
    "# Concatenating 2 datasets for each of the platforms to form 3 datasets\n",
    "df_ecl = pd.concat(frames_ecl)\n",
    "df_moz = pd.concat(frames_moz)\n",
    "df_tb = pd.concat(frames_tb)\n",
    "df = pd.concat([df_ecl,df_moz,df_tb])"
   ]
  },
  {
   "cell_type": "code",
   "execution_count": 51,
   "id": "979d7d4e",
   "metadata": {},
   "outputs": [
    {
     "name": "stdout",
     "output_type": "stream",
     "text": [
      "122075\n"
     ]
    }
   ],
   "source": [
    "print(len(df_ecl)+len(df_moz)+len(df_tb))"
   ]
  },
  {
   "cell_type": "code",
   "execution_count": 52,
   "id": "47c085f3",
   "metadata": {},
   "outputs": [
    {
     "data": {
      "text/html": [
       "<div>\n",
       "<style scoped>\n",
       "    .dataframe tbody tr th:only-of-type {\n",
       "        vertical-align: middle;\n",
       "    }\n",
       "\n",
       "    .dataframe tbody tr th {\n",
       "        vertical-align: top;\n",
       "    }\n",
       "\n",
       "    .dataframe thead th {\n",
       "        text-align: right;\n",
       "    }\n",
       "</style>\n",
       "<table border=\"1\" class=\"dataframe\">\n",
       "  <thead>\n",
       "    <tr style=\"text-align: right;\">\n",
       "      <th></th>\n",
       "      <th>Issue_id</th>\n",
       "      <th>Duplicated_issue</th>\n",
       "      <th>Title1</th>\n",
       "      <th>Description1</th>\n",
       "      <th>Title2</th>\n",
       "      <th>Description2</th>\n",
       "      <th>Label</th>\n",
       "    </tr>\n",
       "  </thead>\n",
       "  <tbody>\n",
       "    <tr>\n",
       "      <th>0</th>\n",
       "      <td>1</td>\n",
       "      <td>92840</td>\n",
       "      <td>usability issue with external editors geirl</td>\n",
       "      <td>setup a project that contains a .gif resource \\t release project to cvs \\t edit the .gif resource with an external editor e.g. paintshop \\t save and close external editor \\t in navigator open the icon resource and verify that your changes are there \\t release project \\t\\t nothing to release \\t in navigator open the icon resource and verify that your changes are still there  \\tproblem because i never refreshed from local the workspace hasnt changed so release didnt find anything. \\thowever opening the resource with an external editor found the modified file on disk and showed the changes.  \\tthe real problem occurs if release actually finds something to release but you dont spot that some resources are missing. \\tthis is extremely error prone one of my changes didnt made it into   because of this   egpm \\trelease should do a refresh from local before doing the release. \\tmoving to vcm   kmpm \\tcomments from jm in related email  \\tshould not do this for free.  could have a setting which made it optoinal but should nt be mandatory.  default setting could be to have it on. \\tconsider the swt team who keep their workspaces on network drives.  this will be slow.    \\tside effects will be that a  runs when the refresh is completed unless you somehow do it in a workspace runnable and dont end the \\trunnable until after the release.  this would be less than optimal as some ers may be responsible for maintaining some invariants and deriving resources which are releasable.  if you dont run the ers before releasing the invariants will not be maintained and you will release inconsistent state.  \\tsummary  offer to ensure local consistency before releasing.  kmpm \\tsee also geaga itpvcmwinnt  internal error comparing with a document \\twhich failed with an error.  never got log from tod though.closedfixed.</td>\n",
       "      <td>api deleted field idebuguiconstants.imgactsynced</td>\n",
       "      <td>. head  idebuguiconstants public static final string imgactsynced  this field was deleted sometime in . cycle. this would be a breaking api  change. whats the story</td>\n",
       "      <td>0</td>\n",
       "    </tr>\n",
       "    <tr>\n",
       "      <th>1</th>\n",
       "      <td>2</td>\n",
       "      <td>92844</td>\n",
       "      <td>opening repository resources doesnt honor type geiq</td>\n",
       "      <td>opening repository resource  open the default text editor and doesnt \\thonor any mapping between resource types and editors. \\tas a result it is not possible to view the contents of an image .gif file in a sensible way.   egam \\tagreed that this is needed eventually but not critical for june. \\t \\tthere should also be a java outliner when editing a java resource from the repository. \\tmoving to vcm.  kmpm \\tin general you cannot open a specialized editor on a remote resource because they can  \\tbe dependent on other resources and expect these to be local.  for example an html page which \\treferences a graphic the html editor is going to try to look for the graphic to display it.  \\tyou cant be sure that the editor was written to accomodate remote or missing resources. \\twe discussed this some time ago with dave t. and felt it was safer to just use vanilla editors for now.  kmpm \\tsee also geymj itpvcmall  repositories view all file types open to the text editorresolvedfixed.</td>\n",
       "      <td>increase scrolling speed based on distance from the widget</td>\n",
       "      <td>currently the speed of selection scrolling when using the mouse in styledtext is fixed.  this means it can take a long time to select large sections of text.  it would be much better if styledtext increased the selection speed based on the distance the pointer is from the edge of the styledtext widget.</td>\n",
       "      <td>0</td>\n",
       "    </tr>\n",
       "    <tr>\n",
       "      <th>2</th>\n",
       "      <td>3</td>\n",
       "      <td>92850</td>\n",
       "      <td>sync does not indicate deletion gien</td>\n",
       "      <td>kmpm \\tthis pr about the deletion indicator in the sync viewer being too subtle. \\tthis would be even more true for someone with vision problems. \\tne has good suggestion of using the label of the compare text viewer. \\twe may also consider a better icon. \\ton to the pr....   delete file from project  synchronize  there is no indication that the file has been deleted from the workspace  it looks the same as if the file is in the workspace but is empty    kmpm \\tit should appear as a rightfacing  arrow in the sync view. \\tsent screen cap to ne requesting clarification.  neam \\tthe  in the arrow is clearer when there are other arrows present too the  and change ones. \\totherwise its easy to miss the distinction especially when the users attention is focussed \\ton the text compare panes. \\tid expect the workspace file label to indicate that it has been deleted. \\tthe repository file label does this if i remember correctly when it has been deleted from the repository.resolvedfixed.</td>\n",
       "      <td>jface api public api nonconstant field columnpixeldata.addtrim</td>\n",
       "      <td>. head  columnpixeldata public boolean addtrim  this readwrite field was added as api in the . cycle. exposing fields as  api other than public static final ones is bad practice because a client can  change the field and theres nothing the class can do to prevent or even track  that change. all access to readwrite field should be through accessor method.</td>\n",
       "      <td>0</td>\n",
       "    </tr>\n",
       "    <tr>\n",
       "      <th>3</th>\n",
       "      <td>4</td>\n",
       "      <td>92851</td>\n",
       "      <td>need better error message if catching up over readonly resource gftf</td>\n",
       "      <td>become synchronized with some project in a repository  use a different eclipse to make a change to a file resource within this project and release it to the repository  in the original eclipse mark this file resource as being readonly select it rightclick  properties change ok  select the file resource rightclick  team  synchronize with stream  in the subsequent comparison view select the file resource rightclick  catchup  since it has been marked as readonly there are inevitable problems.  however the error dialog that is shown \\tdoes not offer much assistance an io error occurred io error</td>\n",
       "      <td>viewers api protected field structuredviewer.colorandfontcollector</td>\n",
       "      <td>. head  colorandfontcollector protected colorandfontcollector colorandfontcollector  this readwrite field was added as api in the . cycle. exposing fields as  api other than public static final ones is bad practice because a client can  change the field and theres nothing the class can do to prevent or even track  that change. all access to readwrite field should be through accessor methods including access from subclasses.  also this field is missing an since . tag.</td>\n",
       "      <td>0</td>\n",
       "    </tr>\n",
       "    <tr>\n",
       "      <th>4</th>\n",
       "      <td>5</td>\n",
       "      <td>92852</td>\n",
       "      <td>isharingmanager sharing api inconsistent gaulh</td>\n",
       "      <td>for gettingsetting the managed state of a resource the methods are  ismanagedresource and manageresource  for gettingsetting the ignore state the methods are  getignoredresource setignoredresource  these should be made more consistent.  i suggest renaming ignore methods  isignoredresource and ignoreresource.  i think its good practice to not use get and set in method names unless its really just a field accessor.</td>\n",
       "      <td>. ma nullpointerexception when install spindle plugin via update site</td>\n",
       "      <td>steps  . menu help  software updates  find and install...  search for new features do install . new remote site  name spindle url httpspindle.sourceforge.netunstable . mark spindle check box . click finish . on search results page expand spindle  expand spindlelastest  check  spindle  an eclipse plugin for tapestry .. . click next . accept the license . click finish . on feature verification page click install . it cracks when installing the plugin the stack traces follows  entry org.eclipse.update.ui . message java.lang.nullpointerexception stack  java.lang.nullpointerexception \\tat org.eclipse.update.core.utilities.copyutilities.java \\tat org.eclipse.update.internal.core.updatemanagerutils.copytolocalupdatemanagerutils.java \\tat org.eclipse.update.internal.core.sitefileplugincontentconsumer.storesitefileplugincontentconsumer.java \\tat org.eclipse.update.internal.core.pluginentrycontentconsumer.storepluginentrycontentconsumer.java \\tat org.eclipse.update.core.feature.installfeature.java \\tat org.eclipse.update.internal.core.sitefile.installsitefile.java \\tat org.eclipse.update.internal.core.configuredsite.installconfiguredsite.java \\tat org.eclipse.update.internal.core.configuredsite.installconfiguredsite.java \\tat org.eclipse.update.internal.operations.installoperation.executeinstalloperation.java \\tat org.eclipse.update.internal.operations.batchinstalloperation.executebatchinstalloperation.java \\tat org.eclipse.update.internal.ui.wizards.installwizard.installinstallwizard.java \\tat org.eclipse.update.internal.ui.wizards.installwizard.accessinstallwizard.java \\tat org.eclipse.update.internal.ui.wizards.installwizard.runinstallwizard.java \\tat org.eclipse.jface.operation.modalcontextmodalcontextthread.runmodalcontext.java</td>\n",
       "      <td>0</td>\n",
       "    </tr>\n",
       "  </tbody>\n",
       "</table>\n",
       "</div>"
      ],
      "text/plain": [
       "   Issue_id  Duplicated_issue  \\\n",
       "0         1             92840   \n",
       "1         2             92844   \n",
       "2         3             92850   \n",
       "3         4             92851   \n",
       "4         5             92852   \n",
       "\n",
       "                                                                 Title1  \\\n",
       "0                           usability issue with external editors geirl   \n",
       "1                   opening repository resources doesnt honor type geiq   \n",
       "2                                  sync does not indicate deletion gien   \n",
       "3  need better error message if catching up over readonly resource gftf   \n",
       "4                        isharingmanager sharing api inconsistent gaulh   \n",
       "\n",
       "                                                                                                                                                                                                                                                                                                                                                                                                                                                                                                                                                                                                                                                                                                                                                                                                                                                                                                                                                                                                                                                                                                                                                                                                                                                                                                                                                                                                                                                                                                                                                                                                                                                                                                                                                                                                                                                                                     Description1  \\\n",
       "0  setup a project that contains a .gif resource \\t release project to cvs \\t edit the .gif resource with an external editor e.g. paintshop \\t save and close external editor \\t in navigator open the icon resource and verify that your changes are there \\t release project \\t\\t nothing to release \\t in navigator open the icon resource and verify that your changes are still there  \\tproblem because i never refreshed from local the workspace hasnt changed so release didnt find anything. \\thowever opening the resource with an external editor found the modified file on disk and showed the changes.  \\tthe real problem occurs if release actually finds something to release but you dont spot that some resources are missing. \\tthis is extremely error prone one of my changes didnt made it into   because of this   egpm \\trelease should do a refresh from local before doing the release. \\tmoving to vcm   kmpm \\tcomments from jm in related email  \\tshould not do this for free.  could have a setting which made it optoinal but should nt be mandatory.  default setting could be to have it on. \\tconsider the swt team who keep their workspaces on network drives.  this will be slow.    \\tside effects will be that a  runs when the refresh is completed unless you somehow do it in a workspace runnable and dont end the \\trunnable until after the release.  this would be less than optimal as some ers may be responsible for maintaining some invariants and deriving resources which are releasable.  if you dont run the ers before releasing the invariants will not be maintained and you will release inconsistent state.  \\tsummary  offer to ensure local consistency before releasing.  kmpm \\tsee also geaga itpvcmwinnt  internal error comparing with a document \\twhich failed with an error.  never got log from tod though.closedfixed.   \n",
       "1                                                                                                                                                                                                                                                                                                                                                                                                                                                                                                                                                                                                                                                                                                                                                                                                                                                                   opening repository resource  open the default text editor and doesnt \\thonor any mapping between resource types and editors. \\tas a result it is not possible to view the contents of an image .gif file in a sensible way.   egam \\tagreed that this is needed eventually but not critical for june. \\t \\tthere should also be a java outliner when editing a java resource from the repository. \\tmoving to vcm.  kmpm \\tin general you cannot open a specialized editor on a remote resource because they can  \\tbe dependent on other resources and expect these to be local.  for example an html page which \\treferences a graphic the html editor is going to try to look for the graphic to display it.  \\tyou cant be sure that the editor was written to accomodate remote or missing resources. \\twe discussed this some time ago with dave t. and felt it was safer to just use vanilla editors for now.  kmpm \\tsee also geymj itpvcmall  repositories view all file types open to the text editorresolvedfixed.   \n",
       "2                                                                                                                                                                                                                                                                                                                                                                                                                                                                                                                                                                                                                                                                                                                                                                                                                                                                kmpm \\tthis pr about the deletion indicator in the sync viewer being too subtle. \\tthis would be even more true for someone with vision problems. \\tne has good suggestion of using the label of the compare text viewer. \\twe may also consider a better icon. \\ton to the pr....   delete file from project  synchronize  there is no indication that the file has been deleted from the workspace  it looks the same as if the file is in the workspace but is empty    kmpm \\tit should appear as a rightfacing  arrow in the sync view. \\tsent screen cap to ne requesting clarification.  neam \\tthe  in the arrow is clearer when there are other arrows present too the  and change ones. \\totherwise its easy to miss the distinction especially when the users attention is focussed \\ton the text compare panes. \\tid expect the workspace file label to indicate that it has been deleted. \\tthe repository file label does this if i remember correctly when it has been deleted from the repository.resolvedfixed.   \n",
       "3                                                                                                                                                                                                                                                                                                                                                                                                                                                                                                                                                                                                                                                                                                                                                                                                                                                                                                                                                                                                                                                                                                                                                                                                                                                                           become synchronized with some project in a repository  use a different eclipse to make a change to a file resource within this project and release it to the repository  in the original eclipse mark this file resource as being readonly select it rightclick  properties change ok  select the file resource rightclick  team  synchronize with stream  in the subsequent comparison view select the file resource rightclick  catchup  since it has been marked as readonly there are inevitable problems.  however the error dialog that is shown \\tdoes not offer much assistance an io error occurred io error   \n",
       "4                                                                                                                                                                                                                                                                                                                                                                                                                                                                                                                                                                                                                                                                                                                                                                                                                                                                                                                                                                                                                                                                                                                                                                                                                                                                                                                                                                                                                                                                for gettingsetting the managed state of a resource the methods are  ismanagedresource and manageresource  for gettingsetting the ignore state the methods are  getignoredresource setignoredresource  these should be made more consistent.  i suggest renaming ignore methods  isignoredresource and ignoreresource.  i think its good practice to not use get and set in method names unless its really just a field accessor.   \n",
       "\n",
       "                                                                  Title2  \\\n",
       "0                       api deleted field idebuguiconstants.imgactsynced   \n",
       "1             increase scrolling speed based on distance from the widget   \n",
       "2         jface api public api nonconstant field columnpixeldata.addtrim   \n",
       "3     viewers api protected field structuredviewer.colorandfontcollector   \n",
       "4  . ma nullpointerexception when install spindle plugin via update site   \n",
       "\n",
       "                                                                                                                                                                                                                                                                                                                                                                                                                                                                                                                                                                                                                                                                                                                                                                                                                                                                                                                                                                                                                                                                                                                                                                                                                                                                                                                                                                                                                                                                                                                                                                                                                                                                                                                                                                                                               Description2  \\\n",
       "0                                                                                                                                                                                                                                                                                                                                                                                                                                                                                                                                                                                                                                                                                                                                                                                                                                                                                                                                                                                                                                                                                                                                                                                                                                                                                                                                                                                                                                                                                                                                                                                                                                                      . head  idebuguiconstants public static final string imgactsynced  this field was deleted sometime in . cycle. this would be a breaking api  change. whats the story   \n",
       "1                                                                                                                                                                                                                                                                                                                                                                                                                                                                                                                                                                                                                                                                                                                                                                                                                                                                                                                                                                                                                                                                                                                                                                                                                                                                                                                                                                                                                                                                                                           currently the speed of selection scrolling when using the mouse in styledtext is fixed.  this means it can take a long time to select large sections of text.  it would be much better if styledtext increased the selection speed based on the distance the pointer is from the edge of the styledtext widget.   \n",
       "2                                                                                                                                                                                                                                                                                                                                                                                                                                                                                                                                                                                                                                                                                                                                                                                                                                                                                                                                                                                                                                                                                                                                                                                                                                                                                                                                                                                                                                                      . head  columnpixeldata public boolean addtrim  this readwrite field was added as api in the . cycle. exposing fields as  api other than public static final ones is bad practice because a client can  change the field and theres nothing the class can do to prevent or even track  that change. all access to readwrite field should be through accessor method.   \n",
       "3                                                                                                                                                                                                                                                                                                                                                                                                                                                                                                                                                                                                                                                                                                                                                                                                                                                                                                                                                                                                                                                                                                                                                                                                                                                                                                                                   . head  colorandfontcollector protected colorandfontcollector colorandfontcollector  this readwrite field was added as api in the . cycle. exposing fields as  api other than public static final ones is bad practice because a client can  change the field and theres nothing the class can do to prevent or even track  that change. all access to readwrite field should be through accessor methods including access from subclasses.  also this field is missing an since . tag.   \n",
       "4  steps  . menu help  software updates  find and install...  search for new features do install . new remote site  name spindle url httpspindle.sourceforge.netunstable . mark spindle check box . click finish . on search results page expand spindle  expand spindlelastest  check  spindle  an eclipse plugin for tapestry .. . click next . accept the license . click finish . on feature verification page click install . it cracks when installing the plugin the stack traces follows  entry org.eclipse.update.ui . message java.lang.nullpointerexception stack  java.lang.nullpointerexception \\tat org.eclipse.update.core.utilities.copyutilities.java \\tat org.eclipse.update.internal.core.updatemanagerutils.copytolocalupdatemanagerutils.java \\tat org.eclipse.update.internal.core.sitefileplugincontentconsumer.storesitefileplugincontentconsumer.java \\tat org.eclipse.update.internal.core.pluginentrycontentconsumer.storepluginentrycontentconsumer.java \\tat org.eclipse.update.core.feature.installfeature.java \\tat org.eclipse.update.internal.core.sitefile.installsitefile.java \\tat org.eclipse.update.internal.core.configuredsite.installconfiguredsite.java \\tat org.eclipse.update.internal.core.configuredsite.installconfiguredsite.java \\tat org.eclipse.update.internal.operations.installoperation.executeinstalloperation.java \\tat org.eclipse.update.internal.operations.batchinstalloperation.executebatchinstalloperation.java \\tat org.eclipse.update.internal.ui.wizards.installwizard.installinstallwizard.java \\tat org.eclipse.update.internal.ui.wizards.installwizard.accessinstallwizard.java \\tat org.eclipse.update.internal.ui.wizards.installwizard.runinstallwizard.java \\tat org.eclipse.jface.operation.modalcontextmodalcontextthread.runmodalcontext.java   \n",
       "\n",
       "   Label  \n",
       "0      0  \n",
       "1      0  \n",
       "2      0  \n",
       "3      0  \n",
       "4      0  "
      ]
     },
     "execution_count": 52,
     "metadata": {},
     "output_type": "execute_result"
    }
   ],
   "source": [
    "df_ecl.head()"
   ]
  },
  {
   "cell_type": "code",
   "execution_count": 5,
   "id": "85aa78a3",
   "metadata": {},
   "outputs": [
    {
     "name": "stdout",
     "output_type": "stream",
     "text": [
      "Eclipse dataset shape:  (46908, 7)\n",
      "Mozilla dataset shape:  (60904, 7)\n",
      "Thunderbird dataset shape:  (14263, 7)\n",
      "Complete dataset shape:  (122075, 7)\n"
     ]
    }
   ],
   "source": [
    "print(\"Eclipse dataset shape: \",df_ecl.shape)\n",
    "print(\"Mozilla dataset shape: \",df_moz.shape)\n",
    "print(\"Thunderbird dataset shape: \",df_tb.shape)\n",
    "print(\"Complete dataset shape: \",df.shape)"
   ]
  },
  {
   "cell_type": "code",
   "execution_count": 53,
   "id": "0778de42",
   "metadata": {
    "scrolled": false
   },
   "outputs": [
    {
     "name": "stdout",
     "output_type": "stream",
     "text": [
      "0    34222\n",
      "1    12686\n",
      "Name: Label, dtype: int64\n",
      "0    36833\n",
      "1    24071\n",
      "Name: Label, dtype: int64\n",
      "0    9905\n",
      "1    4358\n",
      "Name: Label, dtype: int64\n",
      "0    80960\n",
      "1    41115\n",
      "Name: Label, dtype: int64\n",
      "0    72.955573\n",
      "1    27.044427\n",
      "Name: Label, dtype: float64\n",
      "0    60.477144\n",
      "1    39.522856\n",
      "Name: Label, dtype: float64\n",
      "0    69.445418\n",
      "1    30.554582\n",
      "Name: Label, dtype: float64\n",
      "0    66.319885\n",
      "1    33.680115\n",
      "Name: Label, dtype: float64\n"
     ]
    }
   ],
   "source": [
    "# Counting the unique values in label for the 3 datasets\n",
    "print(df_ecl['Label'].value_counts())\n",
    "print(df_moz['Label'].value_counts())\n",
    "print(df_tb['Label'].value_counts())\n",
    "print(df['Label'].value_counts())\n",
    "\n",
    "print(df_ecl['Label'].value_counts(normalize=True) * 100)\n",
    "print(df_moz['Label'].value_counts(normalize=True) * 100)\n",
    "print(df_tb['Label'].value_counts(normalize=True) * 100)\n",
    "print(df['Label'].value_counts(normalize=True) * 100)"
   ]
  },
  {
   "cell_type": "markdown",
   "id": "c11e8618",
   "metadata": {},
   "source": [
    "#### Data shuffle "
   ]
  },
  {
   "cell_type": "code",
   "execution_count": 54,
   "id": "8a5b4c8c",
   "metadata": {},
   "outputs": [],
   "source": [
    "df_ecl = df_ecl.sample(frac=1).reset_index(drop=True)\n",
    "df_moz = df_moz.sample(frac=1).reset_index(drop=True)\n",
    "df_tb = df_tb.sample(frac=1).reset_index(drop=True)\n",
    "df = df.sample(frac=1).reset_index(drop=True)"
   ]
  },
  {
   "cell_type": "code",
   "execution_count": 55,
   "id": "44da81b0",
   "metadata": {},
   "outputs": [],
   "source": [
    "df_ecl = df_ecl.drop(columns=['Issue_id','Duplicated_issue'])\n",
    "df_moz = df_moz.drop(columns=['Issue_id','Duplicated_issue'])\n",
    "df_tb = df_tb.drop(columns=['Issue_id','Duplicated_issue'])\n",
    "df = df.drop(columns=['Issue_id','Duplicated_issue'])"
   ]
  },
  {
   "cell_type": "code",
   "execution_count": 56,
   "id": "c7f19ce8",
   "metadata": {
    "scrolled": false
   },
   "outputs": [
    {
     "data": {
      "text/html": [
       "<div>\n",
       "<style scoped>\n",
       "    .dataframe tbody tr th:only-of-type {\n",
       "        vertical-align: middle;\n",
       "    }\n",
       "\n",
       "    .dataframe tbody tr th {\n",
       "        vertical-align: top;\n",
       "    }\n",
       "\n",
       "    .dataframe thead th {\n",
       "        text-align: right;\n",
       "    }\n",
       "</style>\n",
       "<table border=\"1\" class=\"dataframe\">\n",
       "  <thead>\n",
       "    <tr style=\"text-align: right;\">\n",
       "      <th></th>\n",
       "      <th>Title1</th>\n",
       "      <th>Description1</th>\n",
       "      <th>Title2</th>\n",
       "      <th>Description2</th>\n",
       "      <th>Label</th>\n",
       "    </tr>\n",
       "  </thead>\n",
       "  <tbody>\n",
       "    <tr>\n",
       "      <th>0</th>\n",
       "      <td>child windows opening on wrong monitor example drop down menus</td>\n",
       "      <td>note  im running two monitors at two different resolutions with an ati mobility radeon  card.  when i click on any of the drop down menus the menu is actually displayed on the other monitor a similar thing happens when entering a url the drop down select box for different urls shows up on the other monitor.  all of the contents in the menus still work though.  screen shots httpwww.msu.eduhatchseafirefoxfirefox.jpg httpwww.msu.eduhatchseafirefoxfirefox.jpg     it happens every time right now but i havent completely closed every instance of firefox because im doing this.  i will complete this in a little bit</td>\n",
       "      <td>right click menu in second screen appears on main monitor in a dual monitor setup</td>\n",
       "      <td>on a a dual setup monitor ati radeon when the second screen is on top of the main screen when the right click menu appear at the top edge of the main screen.  i did not notice this behaviour before when the second screen was to teh left of the main screen. right now i have changed settings and moved the screen to the left and i get same behaviour only this time the right click menu appears at the left edge of the main screen.  i havent restarted my browser yet...  its a possible regression or somethings.... since . i never had this bug but i never moved my second screen on top.    . move second screen to be on top of the main screen . right click on a page     menu opens on top edge of main screen   possible caused by screen being on top of main screen</td>\n",
       "      <td>1</td>\n",
       "    </tr>\n",
       "    <tr>\n",
       "      <th>1</th>\n",
       "      <td>tools  facebook messenger  remove from nightly doesnt do anything</td>\n",
       "      <td>i have a facebook button in my toolbar though its just the f logo button. i wanted to remove it so i went to tools  facebook messenger  remove from nightly. i was prompted as to whether i wanted it removed answered in the affirmative but doing so had no effect.  no errors in the error log either.  might this have something to do with it being deactivated turn on facebook messenger is the only other menu item in facebook messenger.</td>\n",
       "      <td>tools  facebook messenger menu shown when social api is disabled</td>\n",
       "      <td>i updated my nightly just now and i got a tools  facebook messenger menu with a single item in it remove from nightly.  i havent enabled the social api so i think the menu shouldnt be shown at all.</td>\n",
       "      <td>1</td>\n",
       "    </tr>\n",
       "    <tr>\n",
       "      <th>2</th>\n",
       "      <td>firefox  cursor disappears after loading java applet</td>\n",
       "      <td>load any java applet makes the cursor disappears in firefox . many users are reporting the same issue as well goto httpforums.mozillazine.orgviewtopic.phpft     example goto httpmainline.brynmawr.educoursescsspringappletssmileysmiley.html which has a simple applet use the applet try to goto a different website the cursor is gone. the only way to get the cursor back is to toggle the window away from firefox to a different application and back.  this is happening in windows      cursor shouldnt disappear</td>\n",
       "      <td>after java app launch can not click in any form or the location bar</td>\n",
       "      <td>after todays .. update to aurora and installing java  update  i restarted firefox and when i try to use the shell java app for my smoothwall linux router nothing really happens in the shell. should be a java to ssh connect but what ever. note this is the only windows system i have and have not tried it on any of my linux systems yet.     i am unable to click in the url location bar to type select text etc. i can not click in any form boxes to type like the email  password boxes to enter bugzilla.. i have to quit and restart to be able to type anywhere.  this persists even when smoothwall ssh shell java app tab is closed. note this is the only windows system i have and have not tried it on any of my linux systems yet.     either the java app should fail or i should be able to type at least in the location bar</td>\n",
       "      <td>1</td>\n",
       "    </tr>\n",
       "    <tr>\n",
       "      <th>3</th>\n",
       "      <td>after clozing mozilla when opening again mozilla does not open.</td>\n",
       "      <td>i close mozilla firefox and then when i need to open it again it does not open. can be resolved by going into task manager ctrlaltdel and going into processes then ending all firefox.exe processes although it is a bit anoying.     .open mozilla firefox .close mozilla firefox with x or fileclose .open mozilla firefox fails to do so.     mozilla firefox fails to open again.     mozilla firefox should open again  laptop is new  sony vaio czb</td>\n",
       "      <td>ff crashes daily  crash report shows no cause</td>\n",
       "      <td>i was typing a message in a comment section at linkedin.com     as i was typing the browser kept hanging and fading in and out. it finally crashed. ever since the last ff upgrade this has been an issue. usually cannot go more than  or  hours before a crash     it should have let me type my message into the linkedin form.</td>\n",
       "      <td>0</td>\n",
       "    </tr>\n",
       "    <tr>\n",
       "      <th>4</th>\n",
       "      <td>frequent reports of build failures in mozillardfchromesrc nschromeregistryuninstallpackage</td>\n",
       "      <td>the need to use a mozconfig with at least the standard options to compile firefox  thunderbird does not have a high enough profile. consequently many people using unix or unixlike os are downloading the source tarballs and using only .configure make to build the aviary and get the following error  nschromeregistry.cpp prototype for nsresult nschromeregistryuninstallpackageconst prunichar  int does not match any in class nschromeregistry nschromeregistry.h candidate is nsresult nschromeregistryuninstallpackageconst nsacstring  int   in mozillardfchromesrc.  for example bug  bug  and several threads at the mozillazine forums search for uninstallpackage.  i suggest a line be added to the release notes which points to the build pages at httpwww.mozilla.orgprojectsfirefoxbuild.html and httpmozilla.orgprojectsthunderbirdbuild.html or it may be helpful to add a file in the mozilla directory called install in the usual linux fashion which points to the same locations.  given the growing popularity of the birds the unusual mozilla build system and the tendency of linuxunix users to prefer to roll their own this change will save many questions and frustrated people.</td>\n",
       "      <td>cant save any files in windows</td>\n",
       "      <td>in windows  whenever i try to save a file it does not work. i get no save file dialouge box. this happens both on the right click box and whenever a file tried to download itself i.e atis driver site download.com     .open firefox .try to download file .become disappointed    no downloaded file     the file should be saved to a folder</td>\n",
       "      <td>0</td>\n",
       "    </tr>\n",
       "    <tr>\n",
       "      <th>...</th>\n",
       "      <td>...</td>\n",
       "      <td>...</td>\n",
       "      <td>...</td>\n",
       "      <td>...</td>\n",
       "      <td>...</td>\n",
       "    </tr>\n",
       "    <tr>\n",
       "      <th>60899</th>\n",
       "      <td>improper display of certain websites. i.e. moodle forums for our school</td>\n",
       "      <td>moodle.wwcsd.net moodle.org  there are the websites for moodle the first being an actual moodle forum that we use for school and the second where to get it  tables borders spacing are off. my instructor said if this helps the html was created in dreamweaver.     go to the site seems only to be a problem on the main page first page after login    site works just improperly displayed   although probably not many people use moodle that use firefox it would be good to solve the problem so that closer to all websites can be displayed properly.   p.s. thanks for creating such a good web browser</td>\n",
       "      <td>show file size when attempting to download a file</td>\n",
       "      <td>i read this post on downloadsquad and i think this should be added to firefox. doesnt seem like a big job.</td>\n",
       "      <td>0</td>\n",
       "    </tr>\n",
       "    <tr>\n",
       "      <th>60900</th>\n",
       "      <td>searching a site using the google search bar</td>\n",
       "      <td>when ure on a site like at mozilla.org and u want to search for a word on the site in google ud do something like download sitemozilla.org. any way to make this easier to do when using the search bar so i dont have to type the sitemozilla.org part assuming im already at some page of mozilla.org  this has to be a general solution not the keyword thing for a particular domainsite. and preferably something we type in the search tab not the address tab.  all that needs to be done is capture ctrlenter or shiftenter for the search tab. if google is selected engine add a  sitedomain to the google search string. one keyset does that other does it and opens results in a new tab.    . search for any word using search bar. . to search just that site add a  sitethissite.com . press enter     google searches the site.     that site should be searched without having to enter  sitethissite.com and function this way using ctrlenter or shiftenter and show results in a new tab.</td>\n",
       "      <td>wait cursor still displayed when links are clicked and css cursor none style is enabled.</td>\n",
       "      <td>the css cursor none style that was enabled in firefox  feature is valuable for touchscreen kiosks where a mouse cursor is distracting and not exactly appropriate for the interface. although cursor none is working when you click on a link the cursor shows up again while the wait cursor is display and then promptly redisappears. seems to me that the correct behavior would be to stay hidden      . view a page with the style  cursornone . click on a link in that page.     the wait cursor appears while the link is being loaded.     the wait cursor should never appear</td>\n",
       "      <td>0</td>\n",
       "    </tr>\n",
       "    <tr>\n",
       "      <th>60901</th>\n",
       "      <td>.tabsclosebutton class should be globally defined in toolbarbutton.css put class back on findclosebutton</td>\n",
       "      <td>the find toolbar was recently given its own stylesheet in global but the close button lost the .tabsclosebutton class i assume because it was only defined in browserbrowser.css.  that class is still useful on that button for defining the source image and hover and active states which are the same for the tab bar side bar message bars and find toolbar.  the only things that change are borders and padding which are easily handled on a percase basis by using ids.  if the .tabsclosebutton is moved to globaltoolbarbutton.css then it can be picked up anywhere it needs to be used.  so the two things im asking for . move the basic styles to global . return the .tabsclosebutton class to findclosebutton and use it on any other close buttons in the future.  ill be honest and admit that part of why im requesting this is because it needlessly breaks my theme.  but its also just a logical more efficient and consistent use of code.  patch on the way...</td>\n",
       "      <td>after an installation of a newer version of firefox firefox .. i can not open firefox.</td>\n",
       "      <td>i downloaded the new version of firefox .. and installed it. then after clicking on firefox.exe nothing was happening though the task manager showed firefox.exe process was running. then i uninstalled this version of firefox and installed my old version of firefox .... but now the same bug occurs even with this old version which worked pretty well before. i just cant open firefox     .install firefox .. having the previous version of firefox not uninstalled .click on firefox.exe and firefox window doesnt open .install the previous version of firefox ... .click on firefox.exe and still firefox window doesnt open    firefox window doesnt open     firefox window must open in order that i can browse internet  i use firefox for a long period of time and there were no problems about it till now</td>\n",
       "      <td>0</td>\n",
       "    </tr>\n",
       "    <tr>\n",
       "      <th>60902</th>\n",
       "      <td>firefox attempts to launch acrobat plugin but cannot load pdf when using acrobat professional</td>\n",
       "      <td>i have successfully loaded pdf files using the adobe reader plugin for firefox but the full version of acrobat  professional does not seem to work correctly with the firefox plugin. the program launches but then firefox.exe takes all the cpu cycles and nothing happens. i have to kill it with the task manager.    . go to any page with a pdf file . click on the file link to try to download it . watch the acrobat  pro startup screen then when nothing happens start task manager . click on processes tab . observe firefox.exe utilizing  of cpu except what taskmgr.exe needs     i had to kill the process with task manager     i expect firefox to launch acrobat and pass the pdf to it or for a firefox window to open with the acrobat plugin like on ie.</td>\n",
       "      <td>ff..mac bookmarkfolders in the bookmarktoolbar cannot be dragged</td>\n",
       "      <td>in ff.. mac osx.. ppc you can drag the position of a bookmark directly in the bookmarktoolbar ... but you cannot drag the position of a bookmarkfolder directly in the bookmarktoolbar. in camino .. or ff.b its no problem.      . make a new bookmarkfolder in the bookmarktoolbar via context click etc.  . try to drag that bookmarkfolder directly to another position in the bookmarktoolbar.  . you see that you only can open and close that folder by clicking but you cannot drag it directly like a bookmark in camino or ffbeta its no problem.     in the bookmarktoolbar a bookmarkfolder can only be opened and closed but not dragged to another position in the toolbar.      a bookmarkfolder should be draggable directly in the bookmarktoolbar. as seen in newest camino and ffbeta etc.  no crash.</td>\n",
       "      <td>0</td>\n",
       "    </tr>\n",
       "    <tr>\n",
       "      <th>60903</th>\n",
       "      <td>not recording bookmark visits as nsinavhistoryservicetransitionbookmark</td>\n",
       "      <td>not recording bookmark visits as nsinavhistoryservicetransitionbookmark  we need to start call markpageasfollowedbookmark like we do for markpageastyped  we are depending on this for our global frecency algo see bug   note we need to fix this typo in markpageasfollowedbookmark which i have fixed locally    mrecenttyped.puturistring getnow   mrecentbookmark.puturistring getnow</td>\n",
       "      <td>visiting bookmark is recorded as link transition instead of bookmark transition.</td>\n",
       "      <td>it seems like clicking bookmarks results in visittype of transitionlink  instead of transitionbookmark   httpmxr.mozilla.orgseamonkeysourcetoolkitcomponentsplacespublicnsinavhistoryservice.idl  httpmxr.mozilla.orgmozillasourcetoolkitcomponentsplacessrcnsnavhistory.cpp  bug  wont really do anything meaningful until this is fixed.</td>\n",
       "      <td>1</td>\n",
       "    </tr>\n",
       "  </tbody>\n",
       "</table>\n",
       "<p>60904 rows × 5 columns</p>\n",
       "</div>"
      ],
      "text/plain": [
       "                                                                                                         Title1  \\\n",
       "0                                                child windows opening on wrong monitor example drop down menus   \n",
       "1                                             tools  facebook messenger  remove from nightly doesnt do anything   \n",
       "2                                                          firefox  cursor disappears after loading java applet   \n",
       "3                                               after clozing mozilla when opening again mozilla does not open.   \n",
       "4                    frequent reports of build failures in mozillardfchromesrc nschromeregistryuninstallpackage   \n",
       "...                                                                                                         ...   \n",
       "60899                                   improper display of certain websites. i.e. moodle forums for our school   \n",
       "60900                                                              searching a site using the google search bar   \n",
       "60901  .tabsclosebutton class should be globally defined in toolbarbutton.css put class back on findclosebutton   \n",
       "60902             firefox attempts to launch acrobat plugin but cannot load pdf when using acrobat professional   \n",
       "60903                                   not recording bookmark visits as nsinavhistoryservicetransitionbookmark   \n",
       "\n",
       "                                                                                                                                                                                                                                                                                                                                                                                                                                                                                                                                                                                                                                                                                                                                                                                                                                                                                                                                                                                                                                                                                                                                                                                                                 Description1  \\\n",
       "0                                                                                                                                                                                                                                                                                                                                                                                                                                                                                                                                                                                       note  im running two monitors at two different resolutions with an ati mobility radeon  card.  when i click on any of the drop down menus the menu is actually displayed on the other monitor a similar thing happens when entering a url the drop down select box for different urls shows up on the other monitor.  all of the contents in the menus still work though.  screen shots httpwww.msu.eduhatchseafirefoxfirefox.jpg httpwww.msu.eduhatchseafirefoxfirefox.jpg     it happens every time right now but i havent completely closed every instance of firefox because im doing this.  i will complete this in a little bit   \n",
       "1                                                                                                                                                                                                                                                                                                                                                                                                                                                                                                                                                                                                                                                                                                                                                                          i have a facebook button in my toolbar though its just the f logo button. i wanted to remove it so i went to tools  facebook messenger  remove from nightly. i was prompted as to whether i wanted it removed answered in the affirmative but doing so had no effect.  no errors in the error log either.  might this have something to do with it being deactivated turn on facebook messenger is the only other menu item in facebook messenger.   \n",
       "2                                                                                                                                                                                                                                                                                                                                                                                                                                                                                                                                                                                                                                                                                                 load any java applet makes the cursor disappears in firefox . many users are reporting the same issue as well goto httpforums.mozillazine.orgviewtopic.phpft     example goto httpmainline.brynmawr.educoursescsspringappletssmileysmiley.html which has a simple applet use the applet try to goto a different website the cursor is gone. the only way to get the cursor back is to toggle the window away from firefox to a different application and back.  this is happening in windows      cursor shouldnt disappear   \n",
       "3                                                                                                                                                                                                                                                                                                                                                                                                                                                                                                                                                                                                                                                                                                                                                                  i close mozilla firefox and then when i need to open it again it does not open. can be resolved by going into task manager ctrlaltdel and going into processes then ending all firefox.exe processes although it is a bit anoying.     .open mozilla firefox .close mozilla firefox with x or fileclose .open mozilla firefox fails to do so.     mozilla firefox fails to open again.     mozilla firefox should open again  laptop is new  sony vaio czb   \n",
       "4      the need to use a mozconfig with at least the standard options to compile firefox  thunderbird does not have a high enough profile. consequently many people using unix or unixlike os are downloading the source tarballs and using only .configure make to build the aviary and get the following error  nschromeregistry.cpp prototype for nsresult nschromeregistryuninstallpackageconst prunichar  int does not match any in class nschromeregistry nschromeregistry.h candidate is nsresult nschromeregistryuninstallpackageconst nsacstring  int   in mozillardfchromesrc.  for example bug  bug  and several threads at the mozillazine forums search for uninstallpackage.  i suggest a line be added to the release notes which points to the build pages at httpwww.mozilla.orgprojectsfirefoxbuild.html and httpmozilla.orgprojectsthunderbirdbuild.html or it may be helpful to add a file in the mozilla directory called install in the usual linux fashion which points to the same locations.  given the growing popularity of the birds the unusual mozilla build system and the tendency of linuxunix users to prefer to roll their own this change will save many questions and frustrated people.   \n",
       "...                                                                                                                                                                                                                                                                                                                                                                                                                                                                                                                                                                                                                                                                                                                                                                                                                                                                                                                                                                                                                                                                                                                                                                                                                       ...   \n",
       "60899                                                                                                                                                                                                                                                                                                                                                                                                                                                                                                                                                                                                     moodle.wwcsd.net moodle.org  there are the websites for moodle the first being an actual moodle forum that we use for school and the second where to get it  tables borders spacing are off. my instructor said if this helps the html was created in dreamweaver.     go to the site seems only to be a problem on the main page first page after login    site works just improperly displayed   although probably not many people use moodle that use firefox it would be good to solve the problem so that closer to all websites can be displayed properly.   p.s. thanks for creating such a good web browser   \n",
       "60900                                                                                                                                                                                                          when ure on a site like at mozilla.org and u want to search for a word on the site in google ud do something like download sitemozilla.org. any way to make this easier to do when using the search bar so i dont have to type the sitemozilla.org part assuming im already at some page of mozilla.org  this has to be a general solution not the keyword thing for a particular domainsite. and preferably something we type in the search tab not the address tab.  all that needs to be done is capture ctrlenter or shiftenter for the search tab. if google is selected engine add a  sitedomain to the google search string. one keyset does that other does it and opens results in a new tab.    . search for any word using search bar. . to search just that site add a  sitethissite.com . press enter     google searches the site.     that site should be searched without having to enter  sitethissite.com and function this way using ctrlenter or shiftenter and show results in a new tab.   \n",
       "60901                                                                                                                                                                                                                                 the find toolbar was recently given its own stylesheet in global but the close button lost the .tabsclosebutton class i assume because it was only defined in browserbrowser.css.  that class is still useful on that button for defining the source image and hover and active states which are the same for the tab bar side bar message bars and find toolbar.  the only things that change are borders and padding which are easily handled on a percase basis by using ids.  if the .tabsclosebutton is moved to globaltoolbarbutton.css then it can be picked up anywhere it needs to be used.  so the two things im asking for . move the basic styles to global . return the .tabsclosebutton class to findclosebutton and use it on any other close buttons in the future.  ill be honest and admit that part of why im requesting this is because it needlessly breaks my theme.  but its also just a logical more efficient and consistent use of code.  patch on the way...   \n",
       "60902                                                                                                                                                                                                                                                                                                                                                                                                                                         i have successfully loaded pdf files using the adobe reader plugin for firefox but the full version of acrobat  professional does not seem to work correctly with the firefox plugin. the program launches but then firefox.exe takes all the cpu cycles and nothing happens. i have to kill it with the task manager.    . go to any page with a pdf file . click on the file link to try to download it . watch the acrobat  pro startup screen then when nothing happens start task manager . click on processes tab . observe firefox.exe utilizing  of cpu except what taskmgr.exe needs     i had to kill the process with task manager     i expect firefox to launch acrobat and pass the pdf to it or for a firefox window to open with the acrobat plugin like on ie.   \n",
       "60903                                                                                                                                                                                                                                                                                                                                                                                                                                                                                                                                                                                                                                                                                                                                                                                                                              not recording bookmark visits as nsinavhistoryservicetransitionbookmark  we need to start call markpageasfollowedbookmark like we do for markpageastyped  we are depending on this for our global frecency algo see bug   note we need to fix this typo in markpageasfollowedbookmark which i have fixed locally    mrecenttyped.puturistring getnow   mrecentbookmark.puturistring getnow   \n",
       "\n",
       "                                                                                         Title2  \\\n",
       "0             right click menu in second screen appears on main monitor in a dual monitor setup   \n",
       "1                              tools  facebook messenger menu shown when social api is disabled   \n",
       "2                           after java app launch can not click in any form or the location bar   \n",
       "3                                                 ff crashes daily  crash report shows no cause   \n",
       "4                                                                cant save any files in windows   \n",
       "...                                                                                         ...   \n",
       "60899                                         show file size when attempting to download a file   \n",
       "60900  wait cursor still displayed when links are clicked and css cursor none style is enabled.   \n",
       "60901    after an installation of a newer version of firefox firefox .. i can not open firefox.   \n",
       "60902                          ff..mac bookmarkfolders in the bookmarktoolbar cannot be dragged   \n",
       "60903          visiting bookmark is recorded as link transition instead of bookmark transition.   \n",
       "\n",
       "                                                                                                                                                                                                                                                                                                                                                                                                                                                                                                                                                                                                                                                                                                                                                                                                                                              Description2  \\\n",
       "0                                                               on a a dual setup monitor ati radeon when the second screen is on top of the main screen when the right click menu appear at the top edge of the main screen.  i did not notice this behaviour before when the second screen was to teh left of the main screen. right now i have changed settings and moved the screen to the left and i get same behaviour only this time the right click menu appears at the left edge of the main screen.  i havent restarted my browser yet...  its a possible regression or somethings.... since . i never had this bug but i never moved my second screen on top.    . move second screen to be on top of the main screen . right click on a page     menu opens on top edge of main screen   possible caused by screen being on top of main screen   \n",
       "1                                                                                                                                                                                                                                                                                                                                                                                                                                                                                                                                                                                                                                                    i updated my nightly just now and i got a tools  facebook messenger menu with a single item in it remove from nightly.  i havent enabled the social api so i think the menu shouldnt be shown at all.   \n",
       "2      after todays .. update to aurora and installing java  update  i restarted firefox and when i try to use the shell java app for my smoothwall linux router nothing really happens in the shell. should be a java to ssh connect but what ever. note this is the only windows system i have and have not tried it on any of my linux systems yet.     i am unable to click in the url location bar to type select text etc. i can not click in any form boxes to type like the email  password boxes to enter bugzilla.. i have to quit and restart to be able to type anywhere.  this persists even when smoothwall ssh shell java app tab is closed. note this is the only windows system i have and have not tried it on any of my linux systems yet.     either the java app should fail or i should be able to type at least in the location bar   \n",
       "3                                                                                                                                                                                                                                                                                                                                                                                                                                                                                                                       i was typing a message in a comment section at linkedin.com     as i was typing the browser kept hanging and fading in and out. it finally crashed. ever since the last ff upgrade this has been an issue. usually cannot go more than  or  hours before a crash     it should have let me type my message into the linkedin form.   \n",
       "4                                                                                                                                                                                                                                                                                                                                                                                                                                                                                                         in windows  whenever i try to save a file it does not work. i get no save file dialouge box. this happens both on the right click box and whenever a file tried to download itself i.e atis driver site download.com     .open firefox .try to download file .become disappointed    no downloaded file     the file should be saved to a folder   \n",
       "...                                                                                                                                                                                                                                                                                                                                                                                                                                                                                                                                                                                                                                                                                                                                                                                                                                                    ...   \n",
       "60899                                                                                                                                                                                                                                                                                                                                                                                                                                                                                                                                                                                                                                                                                                                                           i read this post on downloadsquad and i think this should be added to firefox. doesnt seem like a big job.   \n",
       "60900                                                                                                                                                                                                                                                             the css cursor none style that was enabled in firefox  feature is valuable for touchscreen kiosks where a mouse cursor is distracting and not exactly appropriate for the interface. although cursor none is working when you click on a link the cursor shows up again while the wait cursor is display and then promptly redisappears. seems to me that the correct behavior would be to stay hidden      . view a page with the style  cursornone . click on a link in that page.     the wait cursor appears while the link is being loaded.     the wait cursor should never appear   \n",
       "60901                      i downloaded the new version of firefox .. and installed it. then after clicking on firefox.exe nothing was happening though the task manager showed firefox.exe process was running. then i uninstalled this version of firefox and installed my old version of firefox .... but now the same bug occurs even with this old version which worked pretty well before. i just cant open firefox     .install firefox .. having the previous version of firefox not uninstalled .click on firefox.exe and firefox window doesnt open .install the previous version of firefox ... .click on firefox.exe and still firefox window doesnt open    firefox window doesnt open     firefox window must open in order that i can browse internet  i use firefox for a long period of time and there were no problems about it till now   \n",
       "60902                             in ff.. mac osx.. ppc you can drag the position of a bookmark directly in the bookmarktoolbar ... but you cannot drag the position of a bookmarkfolder directly in the bookmarktoolbar. in camino .. or ff.b its no problem.      . make a new bookmarkfolder in the bookmarktoolbar via context click etc.  . try to drag that bookmarkfolder directly to another position in the bookmarktoolbar.  . you see that you only can open and close that folder by clicking but you cannot drag it directly like a bookmark in camino or ffbeta its no problem.     in the bookmarktoolbar a bookmarkfolder can only be opened and closed but not dragged to another position in the toolbar.      a bookmarkfolder should be draggable directly in the bookmarktoolbar. as seen in newest camino and ffbeta etc.  no crash.   \n",
       "60903                                                                                                                                                                                                                                                                                                                                                                                                                                                                                                           it seems like clicking bookmarks results in visittype of transitionlink  instead of transitionbookmark   httpmxr.mozilla.orgseamonkeysourcetoolkitcomponentsplacespublicnsinavhistoryservice.idl  httpmxr.mozilla.orgmozillasourcetoolkitcomponentsplacessrcnsnavhistory.cpp  bug  wont really do anything meaningful until this is fixed.   \n",
       "\n",
       "       Label  \n",
       "0          1  \n",
       "1          1  \n",
       "2          1  \n",
       "3          0  \n",
       "4          0  \n",
       "...      ...  \n",
       "60899      0  \n",
       "60900      0  \n",
       "60901      0  \n",
       "60902      0  \n",
       "60903      1  \n",
       "\n",
       "[60904 rows x 5 columns]"
      ]
     },
     "execution_count": 56,
     "metadata": {},
     "output_type": "execute_result"
    }
   ],
   "source": [
    "df_moz"
   ]
  },
  {
   "cell_type": "markdown",
   "id": "b115ec41",
   "metadata": {},
   "source": [
    "### Combining the text in Title and description column for all datasets in order to vectorize them together"
   ]
  },
  {
   "cell_type": "code",
   "execution_count": 59,
   "id": "71faf47b",
   "metadata": {},
   "outputs": [],
   "source": [
    "df_ecl['Bug1'] = df_ecl['Title1'].str.cat(df_ecl['Description1'],sep=\" \")\n",
    "df_ecl['Bug2'] = df_ecl['Title2'].str.cat(df_ecl['Description2'],sep=\" \")\n",
    "\n",
    "df_moz['Bug1'] = df_moz['Title1'].str.cat(df_moz['Description1'],sep=\" \")\n",
    "df_moz['Bug2'] = df_moz['Title2'].str.cat(df_moz['Description2'],sep=\" \")\n",
    "\n",
    "df_tb['Bug1'] = df_tb['Title1'].str.cat(df_tb['Description1'],sep=\" \")\n",
    "df_tb['Bug2'] = df_tb['Title2'].str.cat(df_tb['Description2'],sep=\" \")\n",
    "df_ecl.Bug1\n",
    "\n",
    "df['Bug1'] = df['Title1'].str.cat(df['Description1'],sep=\" \")\n",
    "df['Bug2'] = df['Title2'].str.cat(df['Description2'],sep=\" \")"
   ]
  },
  {
   "cell_type": "markdown",
   "id": "b21107e7",
   "metadata": {},
   "source": [
    "### Remove puncctuations and stop words from the datasets to process"
   ]
  },
  {
   "cell_type": "code",
   "execution_count": 60,
   "id": "52349591",
   "metadata": {},
   "outputs": [],
   "source": [
    "stop_words = set(stopwords.words('english'))\n",
    "\n",
    "def words(text):\n",
    "    text = ''.join([i for i in text if i not in punctuation])\n",
    "    text = text.lower()\n",
    "    text = text.split()\n",
    "    text = [j for j in text if not j in stop_words]\n",
    "    text = \" \".join(text)\n",
    "    return(text)"
   ]
  },
  {
   "cell_type": "code",
   "execution_count": 61,
   "id": "ed73279c",
   "metadata": {},
   "outputs": [],
   "source": [
    "def preprocess(bug_reports,bugs_all):\n",
    "    for n in bugs_all:\n",
    "        bug_reports.append(words(n))"
   ]
  },
  {
   "cell_type": "code",
   "execution_count": 62,
   "id": "fe126b45",
   "metadata": {},
   "outputs": [],
   "source": [
    "bug_pp_ecl1 = []\n",
    "bug_pp_ecl2 = []\n",
    "\n",
    "bug_pp_moz1 = []\n",
    "bug_pp_moz2 = []\n",
    "\n",
    "bug_pp_tb1 = []\n",
    "bug_pp_tb2 = []\n",
    "\n",
    "bug_pp_all1 = []\n",
    "bug_pp_all2 = []\n",
    "\n",
    "preprocess(bug_pp_ecl1, df_ecl.Bug1)\n",
    "preprocess(bug_pp_ecl2, df_ecl.Bug2)\n",
    "\n",
    "preprocess(bug_pp_moz1, df_moz.Bug1)\n",
    "preprocess(bug_pp_moz2, df_moz.Bug2)\n",
    "\n",
    "preprocess(bug_pp_tb1, df_tb.Bug1)\n",
    "preprocess(bug_pp_tb2, df_tb.Bug2)\n",
    "\n",
    "preprocess(bug_pp_all1, df.Bug1)\n",
    "preprocess(bug_pp_all2, df.Bug2)"
   ]
  },
  {
   "cell_type": "markdown",
   "id": "cd3beeb3",
   "metadata": {},
   "source": [
    "### Define TFIDF veectorizer"
   ]
  },
  {
   "cell_type": "code",
   "execution_count": 63,
   "id": "10b2f30a",
   "metadata": {},
   "outputs": [],
   "source": [
    "tfidf_ecl = TfidfVectorizer(analyzer = 'word',stop_words = 'english',lowercase = True,max_features = 900,norm = 'l2')\n",
    "tfidf_moz = TfidfVectorizer(analyzer = 'word',stop_words = 'english',lowercase = True,max_features = 900,norm = 'l2')\n",
    "tfidf_tb = TfidfVectorizer(analyzer = 'word',stop_words = 'english',lowercase = True,max_features = 900,norm = 'l2')\n",
    "tfidf_all = TfidfVectorizer(analyzer = 'word',stop_words = 'english',lowercase = True,max_features = 900,norm = 'l2')"
   ]
  },
  {
   "cell_type": "code",
   "execution_count": 64,
   "id": "1e3259ff",
   "metadata": {},
   "outputs": [],
   "source": [
    "words_ecl = pd.concat([df_ecl.Bug1,df_ecl.Bug2], axis = 0)\n",
    "words_moz = pd.concat([df_moz.Bug1,df_moz.Bug2], axis = 0)\n",
    "words_tb = pd.concat([df_tb.Bug1,df_tb.Bug2], axis = 0)\n",
    "words_all = pd.concat([df.Bug1,df.Bug2], axis = 0)"
   ]
  },
  {
   "cell_type": "code",
   "execution_count": 65,
   "id": "c3b854dc",
   "metadata": {
    "scrolled": false
   },
   "outputs": [],
   "source": [
    "tfidf_ecl.fit(words_ecl)\n",
    "tfidf_moz.fit(words_moz)\n",
    "tfidf_tb.fit(words_tb)\n",
    "tfidf_all.fit(words_all)\n",
    "\n",
    "duplicate_ecl_1 = tfidf_ecl.transform(df_ecl.Bug1)\n",
    "duplicate_ecl_2 = tfidf_ecl.transform(df_ecl.Bug2)\n",
    "\n",
    "duplicate_moz_1 = tfidf_moz.transform(df_moz.Bug1)\n",
    "duplicate_moz_2 = tfidf_moz.transform(df_moz.Bug2)\n",
    "\n",
    "duplicate_tb_1 = tfidf_tb.transform(df_tb.Bug1)\n",
    "duplicate_tb_2 = tfidf_tb.transform(df_tb.Bug2)\n",
    "\n",
    "duplicate_all_1 = tfidf_all.transform(df.Bug1)\n",
    "duplicate_all_2 = tfidf_all.transform(df.Bug2)"
   ]
  },
  {
   "cell_type": "code",
   "execution_count": 68,
   "id": "f59e02f4",
   "metadata": {},
   "outputs": [],
   "source": [
    "x_ecl = abs(duplicate_ecl_1 - duplicate_ecl_2)\n",
    "y_ecl = df_ecl['Label']\n",
    "\n",
    "x_moz = abs(duplicate_moz_1 - duplicate_moz_2)\n",
    "y_moz = df_moz['Label']\n",
    "\n",
    "x_tb = abs(duplicate_tb_1 - duplicate_tb_2)\n",
    "y_tb = df_tb['Label']\n",
    "\n",
    "x_all = abs(duplicate_all_1 - duplicate_all_2)\n",
    "y_all = df['Label']"
   ]
  },
  {
   "cell_type": "code",
   "execution_count": 69,
   "id": "4b2878d5",
   "metadata": {},
   "outputs": [],
   "source": [
    "def model_eval(x,y,classifier,cv):\n",
    "    scoring = ['accuracy','precision','recall','roc_auc']\n",
    "    results = cross_validate(classifier,x,y,return_estimator=True,scoring=scoring,cv=cv)\n",
    "    y_pred = cross_val_predict(classifier,x,y,cv=cv)\n",
    "    return (results['test_accuracy'].mean(),\n",
    "           results['test_precision'].mean(),\n",
    "           results['test_recall'].mean(),\n",
    "           results['test_roc_auc'].mean(),y_pred)"
   ]
  },
  {
   "cell_type": "markdown",
   "id": "8aab5fd9",
   "metadata": {},
   "source": [
    "## Cross validation for Logistic Regression, Decision Tree Classifier, & Random Forest Classifier"
   ]
  },
  {
   "cell_type": "code",
   "execution_count": 70,
   "id": "0413fbd2",
   "metadata": {
    "scrolled": true
   },
   "outputs": [],
   "source": [
    "lr = LogisticRegression()\n",
    "dt = tree.DecisionTreeClassifier()\n",
    "rf = RandomForestClassifier()"
   ]
  },
  {
   "cell_type": "markdown",
   "id": "71f4bd38",
   "metadata": {},
   "source": [
    "### Logistic Regression"
   ]
  },
  {
   "cell_type": "code",
   "execution_count": 72,
   "id": "93584984",
   "metadata": {},
   "outputs": [
    {
     "name": "stdout",
     "output_type": "stream",
     "text": [
      "[[72508  8452]\n",
      " [15685 25430]]\n",
      "True Positives:   25430\n",
      "False Positives:  8452\n",
      "True Negatives:   72508\n",
      "False Negatives:  15685\n",
      "              precision    recall  f1-score   support\n",
      "\n",
      "           0       0.82      0.90      0.86     80960\n",
      "           1       0.75      0.62      0.68     41115\n",
      "\n",
      "    accuracy                           0.80    122075\n",
      "   macro avg       0.79      0.76      0.77    122075\n",
      "weighted avg       0.80      0.80      0.80    122075\n",
      "\n"
     ]
    }
   ],
   "source": [
    "lr_acc_all,lr_prec_all,lr_rec_all,lr_auc_all,lr_pred = model_eval(x_all,y_all,lr,10)\n",
    "print(confusion_matrix(y_all, lr_pred))\n",
    "tn, fp, fn, tp = confusion_matrix(y_all, lr_pred).ravel()\n",
    "print(\"True Positives:  \",tp)\n",
    "print(\"False Positives: \",fp)\n",
    "print(\"True Negatives:  \",tn)\n",
    "print(\"False Negatives: \",fn)\n",
    "print(classification_report(y_all, lr_pred))"
   ]
  },
  {
   "cell_type": "markdown",
   "id": "79592433",
   "metadata": {},
   "source": [
    "### Decision Tree Classifier"
   ]
  },
  {
   "cell_type": "code",
   "execution_count": 73,
   "id": "b252c9d1",
   "metadata": {},
   "outputs": [
    {
     "name": "stdout",
     "output_type": "stream",
     "text": [
      "[[60180 20780]\n",
      " [18907 22208]]\n",
      "True Positives:   22208\n",
      "False Positives:  20780\n",
      "True Negatives:   60180\n",
      "False Negatives:  18907\n",
      "              precision    recall  f1-score   support\n",
      "\n",
      "           0       0.76      0.74      0.75     80960\n",
      "           1       0.52      0.54      0.53     41115\n",
      "\n",
      "    accuracy                           0.67    122075\n",
      "   macro avg       0.64      0.64      0.64    122075\n",
      "weighted avg       0.68      0.67      0.68    122075\n",
      "\n"
     ]
    }
   ],
   "source": [
    "dt_acc_all,dt_prec_all,dt_rec_all,dt_auc_all,dt_pred = model_eval(x_all,y_all,dt,5)\n",
    "print(confusion_matrix(y_all, dt_pred))\n",
    "tn, fp, fn, tp = confusion_matrix(y_all, dt_pred).ravel()\n",
    "print(\"True Positives:  \",tp)\n",
    "print(\"False Positives: \",fp)\n",
    "print(\"True Negatives:  \",tn)\n",
    "print(\"False Negatives: \",fn)\n",
    "print(classification_report(y_all, dt_pred))"
   ]
  },
  {
   "cell_type": "markdown",
   "id": "19a3a1ef",
   "metadata": {},
   "source": [
    "### Random Forest Classifier"
   ]
  },
  {
   "cell_type": "code",
   "execution_count": 79,
   "id": "9aa0df65",
   "metadata": {},
   "outputs": [
    {
     "name": "stdout",
     "output_type": "stream",
     "text": [
      "[[79095  1865]\n",
      " [23854 17261]]\n",
      "True Positives:   17261\n",
      "False Positives:  1865\n",
      "True Negatives:   79095\n",
      "False Negatives:  23854\n",
      "              precision    recall  f1-score   support\n",
      "\n",
      "           0       0.77      0.98      0.86     80960\n",
      "           1       0.90      0.42      0.57     41115\n",
      "\n",
      "    accuracy                           0.79    122075\n",
      "   macro avg       0.84      0.70      0.72    122075\n",
      "weighted avg       0.81      0.79      0.76    122075\n",
      "\n"
     ]
    }
   ],
   "source": [
    "rf_acc_all,rf_prec_all,rf_rec_all,rf_auc_all,rf_pred = model_eval(x_all,y_all,rf,2)\n",
    "print(confusion_matrix(y_all, rf_pred))\n",
    "tn, fp, fn, tp = confusion_matrix(y_all, rf_pred).ravel()\n",
    "print(\"True Positives:  \",tp)\n",
    "print(\"False Positives: \",fp)\n",
    "print(\"True Negatives:  \",tn)\n",
    "print(\"False Negatives: \",fn)\n",
    "print(classification_report(y_all, rf_pred))"
   ]
  },
  {
   "cell_type": "code",
   "execution_count": 103,
   "id": "174a28ca",
   "metadata": {},
   "outputs": [
    {
     "data": {
      "text/html": [
       "<style type=\"text/css\">\n",
       "</style>\n",
       "<table id=\"T_94ae2_\">\n",
       "  <thead>\n",
       "    <tr>\n",
       "      <th class=\"col_heading level0 col0\" >Classifier</th>\n",
       "      <th class=\"col_heading level0 col1\" >AUC</th>\n",
       "      <th class=\"col_heading level0 col2\" >Accuracy</th>\n",
       "      <th class=\"col_heading level0 col3\" >Recall</th>\n",
       "      <th class=\"col_heading level0 col4\" >Precision</th>\n",
       "    </tr>\n",
       "  </thead>\n",
       "  <tbody>\n",
       "    <tr>\n",
       "      <td id=\"T_94ae2_row0_col0\" class=\"data row0 col0\" >LR</td>\n",
       "      <td id=\"T_94ae2_row0_col1\" class=\"data row0 col1\" >0.853130</td>\n",
       "      <td id=\"T_94ae2_row0_col2\" class=\"data row0 col2\" >0.802277</td>\n",
       "      <td id=\"T_94ae2_row0_col3\" class=\"data row0 col3\" >0.618509</td>\n",
       "      <td id=\"T_94ae2_row0_col4\" class=\"data row0 col4\" >0.750603</td>\n",
       "    </tr>\n",
       "    <tr>\n",
       "      <td id=\"T_94ae2_row1_col0\" class=\"data row1 col0\" >DT</td>\n",
       "      <td id=\"T_94ae2_row1_col1\" class=\"data row1 col1\" >0.642594</td>\n",
       "      <td id=\"T_94ae2_row1_col2\" class=\"data row1 col2\" >0.676002</td>\n",
       "      <td id=\"T_94ae2_row1_col3\" class=\"data row1 col3\" >0.540241</td>\n",
       "      <td id=\"T_94ae2_row1_col4\" class=\"data row1 col4\" >0.518263</td>\n",
       "    </tr>\n",
       "    <tr>\n",
       "      <td id=\"T_94ae2_row2_col0\" class=\"data row2 col0\" >RF</td>\n",
       "      <td id=\"T_94ae2_row2_col1\" class=\"data row2 col1\" >0.829217</td>\n",
       "      <td id=\"T_94ae2_row2_col2\" class=\"data row2 col2\" >0.788220</td>\n",
       "      <td id=\"T_94ae2_row2_col3\" class=\"data row2 col3\" >0.416004</td>\n",
       "      <td id=\"T_94ae2_row2_col4\" class=\"data row2 col4\" >0.902799</td>\n",
       "    </tr>\n",
       "  </tbody>\n",
       "</table>\n"
      ],
      "text/plain": [
       "<pandas.io.formats.style.Styler at 0x7fd29faaa940>"
      ]
     },
     "execution_count": 103,
     "metadata": {},
     "output_type": "execute_result"
    }
   ],
   "source": [
    "df_results = pd.DataFrame({'Classifier':['LR','DT','RF'],\n",
    "                          'AUC':[lr_auc_all,dt_auc_all,rf_auc_all],\n",
    "                          'Accuracy':[lr_acc_all,dt_acc_all,rf_acc_all],\n",
    "                          'Recall':[lr_rec_all,dt_rec_all,rf_rec_all],\n",
    "                          'Precision':[lr_prec_all,dt_prec_all,rf_prec_all]})\n",
    "df_results.style.hide_index()"
   ]
  },
  {
   "cell_type": "code",
   "execution_count": 102,
   "id": "752e7004",
   "metadata": {},
   "outputs": [
    {
     "name": "stdout",
     "output_type": "stream",
     "text": [
      "MODEL PERFORMANCE METRICS\n"
     ]
    },
    {
     "data": {
      "image/png": "[encoded data removed]",
      "text/plain": [
       "<Figure size 1152x576 with 2 Axes>"
      ]
     },
     "metadata": {},
     "output_type": "display_data"
    },
    {
     "data": {
      "image/png": "[encoded data removed]",
      "text/plain": [
       "<Figure size 1152x576 with 2 Axes>"
      ]
     },
     "metadata": {},
     "output_type": "display_data"
    }
   ],
   "source": [
    "print(\"MODEL PERFORMANCE METRICS\")\n",
    "\n",
    "sns.set(style=\"darkgrid\")\n",
    "\n",
    "fig, axs = plt.subplots(ncols=2)\n",
    "sns.set(rc={'figure.figsize':(16,8)})\n",
    "ax = sns.barplot(x=\"Classifier\", y=\"AUC\",data=df_results,ax=axs[0],palette=\"dark:salmon\")\n",
    "ax.set_xlabel('Model',fontsize = 15)\n",
    "ax.set_ylabel('AUC', fontsize = 15)\n",
    "ax.tick_params(labelsize=15)\n",
    "\n",
    "sns.set(rc={'figure.figsize':(16,8)})\n",
    "ax = sns.barplot(x=\"Classifier\", y=\"Accuracy\",data=df_results,ax=axs[1],palette=\"dark:salmon\")\n",
    "ax.set_xlabel('Model',fontsize = 15)\n",
    "ax.set_ylabel('Accuracy', fontsize = 15)\n",
    "ax.tick_params(labelsize=15)\n",
    "\n",
    "fig, axs = plt.subplots(ncols=2)\n",
    "sns.set(rc={'figure.figsize':(16,8)})\n",
    "ax = sns.barplot(x=\"Classifier\", y=\"Precision\",data=df_results,ax=axs[0],palette=\"dark:salmon\")\n",
    "ax.set_xlabel('Model',fontsize = 15)\n",
    "ax.set_ylabel('Precision', fontsize = 15)\n",
    "ax.tick_params(labelsize=15)\n",
    "\n",
    "sns.set(rc={'figure.figsize':(16,8)})\n",
    "ax = sns.barplot(x=\"Classifier\", y=\"Recall\",data=df_results,ax=axs[1],palette=\"dark:salmon\")\n",
    "ax.set_xlabel('Model',fontsize = 15)\n",
    "ax.set_ylabel('Recall', fontsize = 15)\n",
    "ax.tick_params(labelsize=15)\n",
    "plt.show()"
   ]
  },
  {
   "cell_type": "code",
   "execution_count": null,
   "id": "def73f79",
   "metadata": {},
   "outputs": [],
   "source": []
  },
  {
   "cell_type": "code",
   "execution_count": null,
   "id": "65b3194e",
   "metadata": {},
   "outputs": [],
   "source": []
  },
  {
   "cell_type": "code",
   "execution_count": null,
   "id": "1fa6d981",
   "metadata": {},
   "outputs": [],
   "source": []
  },
  {
   "cell_type": "code",
   "execution_count": null,
   "id": "716e0681",
   "metadata": {},
   "outputs": [],
   "source": []
  },
  {
   "cell_type": "code",
   "execution_count": null,
   "id": "76861d5f",
   "metadata": {},
   "outputs": [],
   "source": []
  },
  {
   "cell_type": "code",
   "execution_count": null,
   "id": "e37f5096",
   "metadata": {},
   "outputs": [],
   "source": []
  },
  {
   "cell_type": "code",
   "execution_count": null,
   "id": "f29b3df5",
   "metadata": {},
   "outputs": [],
   "source": []
  },
  {
   "cell_type": "code",
   "execution_count": null,
   "id": "07bd4528",
   "metadata": {},
   "outputs": [],
   "source": []
  },
  {
   "cell_type": "code",
   "execution_count": null,
   "id": "ba0e0ab8",
   "metadata": {},
   "outputs": [],
   "source": []
  },
  {
   "cell_type": "code",
   "execution_count": null,
   "id": "f10db2a8",
   "metadata": {},
   "outputs": [],
   "source": []
  },
  {
   "cell_type": "code",
   "execution_count": null,
   "id": "aeec86ce",
   "metadata": {},
   "outputs": [],
   "source": []
  },
  {
   "cell_type": "code",
   "execution_count": null,
   "id": "62e702ac",
   "metadata": {},
   "outputs": [],
   "source": []
  }
 ],
 "metadata": {
  "kernelspec": {
   "display_name": "Python 3 (ipykernel)",
   "language": "python",
   "name": "python3"
  },
  "language_info": {
   "codemirror_mode": {
    "name": "ipython",
    "version": 3
   },
   "file_extension": ".py",
   "mimetype": "text/x-python",
   "name": "python",
   "nbconvert_exporter": "python",
   "pygments_lexer": "ipython3",
   "version": "3.9.7"
  }
 },
 "nbformat": 4,
 "nbformat_minor": 5
}
