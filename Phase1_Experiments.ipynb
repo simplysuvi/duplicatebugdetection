{
 "cells": [
  {
   "cell_type": "code",
   "execution_count": 55,
   "id": "0939c52e",
   "metadata": {
    "scrolled": true
   },
   "outputs": [
    {
     "ename": "ModuleNotFoundError",
     "evalue": "No module named 'tensorflow'",
     "output_type": "error",
     "traceback": [
      "\u001b[0;31m---------------------------------------------------------------------------\u001b[0m",
      "\u001b[0;31mModuleNotFoundError\u001b[0m                       Traceback (most recent call last)",
      "Input \u001b[0;32mIn [55]\u001b[0m, in \u001b[0;36m<module>\u001b[0;34m\u001b[0m\n\u001b[1;32m     10\u001b[0m \u001b[38;5;28;01mfrom\u001b[39;00m \u001b[38;5;21;01msklearn\u001b[39;00m\u001b[38;5;21;01m.\u001b[39;00m\u001b[38;5;21;01mmetrics\u001b[39;00m \u001b[38;5;28;01mimport\u001b[39;00m classification_report, confusion_matrix\n\u001b[1;32m     12\u001b[0m \u001b[38;5;28;01mfrom\u001b[39;00m \u001b[38;5;21;01mnumpy\u001b[39;00m \u001b[38;5;28;01mimport\u001b[39;00m array\n\u001b[0;32m---> 13\u001b[0m \u001b[38;5;28;01mfrom\u001b[39;00m \u001b[38;5;21;01mkeras\u001b[39;00m\u001b[38;5;21;01m.\u001b[39;00m\u001b[38;5;21;01mpreprocessing\u001b[39;00m\u001b[38;5;21;01m.\u001b[39;00m\u001b[38;5;21;01mtext\u001b[39;00m \u001b[38;5;28;01mimport\u001b[39;00m Tokenizer\n\u001b[1;32m     14\u001b[0m \u001b[38;5;28;01mfrom\u001b[39;00m \u001b[38;5;21;01mkeras\u001b[39;00m\u001b[38;5;21;01m.\u001b[39;00m\u001b[38;5;21;01mpreprocessing\u001b[39;00m\u001b[38;5;21;01m.\u001b[39;00m\u001b[38;5;21;01msequence\u001b[39;00m \u001b[38;5;28;01mimport\u001b[39;00m pad_sequences\n\u001b[1;32m     15\u001b[0m \u001b[38;5;28;01mfrom\u001b[39;00m \u001b[38;5;21;01mkeras\u001b[39;00m\u001b[38;5;21;01m.\u001b[39;00m\u001b[38;5;21;01mmodels\u001b[39;00m \u001b[38;5;28;01mimport\u001b[39;00m Model\n",
      "File \u001b[0;32m/Library/Frameworks/Python.framework/Versions/3.10/lib/python3.10/site-packages/keras/__init__.py:21\u001b[0m, in \u001b[0;36m<module>\u001b[0;34m\u001b[0m\n\u001b[1;32m     15\u001b[0m \u001b[38;5;124;03m\"\"\"Implementation of the Keras API, the high-level API of TensorFlow.\u001b[39;00m\n\u001b[1;32m     16\u001b[0m \n\u001b[1;32m     17\u001b[0m \u001b[38;5;124;03mDetailed documentation and user guides are available at\u001b[39;00m\n\u001b[1;32m     18\u001b[0m \u001b[38;5;124;03m[keras.io](https://keras.io).\u001b[39;00m\n\u001b[1;32m     19\u001b[0m \u001b[38;5;124;03m\"\"\"\u001b[39;00m\n\u001b[1;32m     20\u001b[0m \u001b[38;5;66;03m# pylint: disable=unused-import\u001b[39;00m\n\u001b[0;32m---> 21\u001b[0m \u001b[38;5;28;01mfrom\u001b[39;00m \u001b[38;5;21;01mtensorflow\u001b[39;00m\u001b[38;5;21;01m.\u001b[39;00m\u001b[38;5;21;01mpython\u001b[39;00m \u001b[38;5;28;01mimport\u001b[39;00m tf2\n\u001b[1;32m     22\u001b[0m \u001b[38;5;28;01mfrom\u001b[39;00m \u001b[38;5;21;01mkeras\u001b[39;00m \u001b[38;5;28;01mimport\u001b[39;00m distribute\n\u001b[1;32m     24\u001b[0m \u001b[38;5;66;03m# See b/110718070#comment18 for more details about this import.\u001b[39;00m\n",
      "\u001b[0;31mModuleNotFoundError\u001b[0m: No module named 'tensorflow'"
     ]
    }
   ],
   "source": [
    "import numpy as np\n",
    "import pandas as pd\n",
    "from pandas import DataFrame\n",
    "from matplotlib import pyplot as plt \n",
    "import nltk\n",
    "from nltk.corpus import stopwords\n",
    "from nltk.stem import SnowballStemmer\n",
    "import re\n",
    "from string import punctuation\n",
    "from sklearn.metrics import classification_report, confusion_matrix\n",
    "\n",
    "from numpy import array\n",
    "from keras.preprocessing.text import Tokenizer\n",
    "from keras.preprocessing.sequence import pad_sequences\n",
    "from keras.models import Model\n",
    "from keras.layers import Input\n",
    "from keras.layers import Dense\n",
    "from keras.layers import Flatten\n",
    "from keras.layers import Dropout\n",
    "from keras.layers import Embedding\n",
    "from keras.layers.convolutional import Conv1D\n",
    "from keras.layers.convolutional import MaxPooling1D\n",
    "from keras.layers.merge import concatenate\n",
    "from keras.models import Sequential\n",
    "import warnings\n",
    "warnings.filterwarnings('ignore')\n",
    "\n",
    "import ssl\n",
    "try:\n",
    "    _create_unverified_https_context = ssl._create_unverified_context\n",
    "except AttributeError:\n",
    "    pass\n",
    "else:\n",
    "    ssl._create_default_https_context = _create_unverified_https_context\n",
    "\n",
    "nltk.download('stopwords')\n",
    "nltk.download('wordnet')"
   ]
  },
  {
   "cell_type": "markdown",
   "id": "46759091",
   "metadata": {},
   "source": [
    "### Loading datasets for Eclipse, Mozilla, Thunderbird and combining to form 3 different dataframes"
   ]
  },
  {
   "cell_type": "code",
   "execution_count": 56,
   "id": "66f87aa9",
   "metadata": {},
   "outputs": [],
   "source": [
    "# Loading all the given datasets in 6 dataframes\n",
    "\n",
    "df1 = pd.read_csv('EP_nondup.csv',sep=';')\n",
    "df2 = pd.read_csv('EP_dup.csv',sep=';')\n",
    "df3 = pd.read_csv('M_Duplicate BRs.csv',sep=';')\n",
    "df4 = pd.read_csv('M_NonDuplicate BRs.csv',sep=';')\n",
    "df5 = pd.read_csv('dup_TB.csv',sep=';')\n",
    "df6 = pd.read_csv('Nondup_TB.csv',sep=';')\n",
    "\n",
    "frames_ecl = [df1,df2]\n",
    "frames_moz = [df3,df4]\n",
    "frames_tb = [df5,df6]\n",
    "\n",
    "# Concatenating 2 datasets for each of the platforms to form 3 datasets\n",
    "df_ecl = pd.concat(frames_ecl)\n",
    "df_moz = pd.concat(frames_moz)\n",
    "df_tb = pd.concat(frames_tb)"
   ]
  },
  {
   "cell_type": "code",
   "execution_count": 58,
   "id": "7b444c87",
   "metadata": {},
   "outputs": [
    {
     "data": {
      "text/html": [
       "<div>\n",
       "<style scoped>\n",
       "    .dataframe tbody tr th:only-of-type {\n",
       "        vertical-align: middle;\n",
       "    }\n",
       "\n",
       "    .dataframe tbody tr th {\n",
       "        vertical-align: top;\n",
       "    }\n",
       "\n",
       "    .dataframe thead th {\n",
       "        text-align: right;\n",
       "    }\n",
       "</style>\n",
       "<table border=\"1\" class=\"dataframe\">\n",
       "  <thead>\n",
       "    <tr style=\"text-align: right;\">\n",
       "      <th></th>\n",
       "      <th>Issue_id</th>\n",
       "      <th>Duplicated_issue</th>\n",
       "      <th>Title1</th>\n",
       "      <th>Description1</th>\n",
       "      <th>Title2</th>\n",
       "      <th>Description2</th>\n",
       "      <th>Label</th>\n",
       "    </tr>\n",
       "  </thead>\n",
       "  <tbody>\n",
       "    <tr>\n",
       "      <th>0</th>\n",
       "      <td>25</td>\n",
       "      <td>28126</td>\n",
       "      <td>cvs ui need vcm prefs  default repo connection gc</td>\n",
       "      <td>it would be helpful if there was a notion of d...</td>\n",
       "      <td>wizards patch standard public cvs repositories</td>\n",
       "      <td>this patch adds a convenient way to check thin...</td>\n",
       "      <td>1</td>\n",
       "    </tr>\n",
       "    <tr>\n",
       "      <th>1</th>\n",
       "      <td>40</td>\n",
       "      <td>20</td>\n",
       "      <td>need connect to team stream gcqpkw</td>\n",
       "      <td>i would like to be able to connect to a team s...</td>\n",
       "      <td>workspace files</td>\n",
       "      <td>thought it would be useful if the set of repo ...</td>\n",
       "      <td>1</td>\n",
       "    </tr>\n",
       "    <tr>\n",
       "      <th>2</th>\n",
       "      <td>48</td>\n",
       "      <td>22</td>\n",
       "      <td>make sure can future store other project refer...</td>\n",
       "      <td>project references come in three flavours  . p...</td>\n",
       "      <td>persist sharing recommendations and project ve...</td>\n",
       "      <td>project descriptions dont store sharing recomm...</td>\n",
       "      <td>1</td>\n",
       "    </tr>\n",
       "    <tr>\n",
       "      <th>3</th>\n",
       "      <td>61</td>\n",
       "      <td>60</td>\n",
       "      <td>.vcmmeta showing as change gdqtgw</td>\n",
       "      <td>useruser   install drop  into declipse  user  ...</td>\n",
       "      <td>need custom .vcmignore comparemerge gdqt</td>\n",
       "      <td>useruser   install drop  into declipse  user  ...</td>\n",
       "      <td>1</td>\n",
       "    </tr>\n",
       "    <tr>\n",
       "      <th>4</th>\n",
       "      <td>94</td>\n",
       "      <td>2</td>\n",
       "      <td>repositories view all file types open to the t...</td>\n",
       "      <td>when browsing files in the repositories view i...</td>\n",
       "      <td>opening repository resources doesnt honor type...</td>\n",
       "      <td>opening repository resource  open the default ...</td>\n",
       "      <td>1</td>\n",
       "    </tr>\n",
       "    <tr>\n",
       "      <th>...</th>\n",
       "      <td>...</td>\n",
       "      <td>...</td>\n",
       "      <td>...</td>\n",
       "      <td>...</td>\n",
       "      <td>...</td>\n",
       "      <td>...</td>\n",
       "      <td>...</td>\n",
       "    </tr>\n",
       "    <tr>\n",
       "      <th>12681</th>\n",
       "      <td>423034</td>\n",
       "      <td>287720</td>\n",
       "      <td>.metadata.log error</td>\n",
       "      <td>please see my .log file  please fix this error</td>\n",
       "      <td>eclipse crashes while startup</td>\n",
       "      <td>id ..   .eclipse crashes on startup . .   more...</td>\n",
       "      <td>1</td>\n",
       "    </tr>\n",
       "    <tr>\n",
       "      <th>12682</th>\n",
       "      <td>423852</td>\n",
       "      <td>422971</td>\n",
       "      <td>workbench classcastexception handlerprocessing...</td>\n",
       "      <td>backport into ..   this bug was initially crea...</td>\n",
       "      <td>workbench classcastexception handlerprocessing...</td>\n",
       "      <td>backport to ..   this bug was initially create...</td>\n",
       "      <td>1</td>\n",
       "    </tr>\n",
       "    <tr>\n",
       "      <th>12683</th>\n",
       "      <td>423888</td>\n",
       "      <td>413977</td>\n",
       "      <td>keybindings resizing content assist proposal p...</td>\n",
       "      <td>tested on newly installed standard kepler sr o...</td>\n",
       "      <td>keybindings all nonnative key bindings stop wo...</td>\n",
       "      <td>. and latest n.  . paste the following snippet...</td>\n",
       "      <td>1</td>\n",
       "    </tr>\n",
       "    <tr>\n",
       "      <th>12684</th>\n",
       "      <td>424120</td>\n",
       "      <td>418254</td>\n",
       "      <td>close window from context menu</td>\n",
       "      <td>context menu  eclipse.id...m java.version.. ja...</td>\n",
       "      <td>editormgmt keybindings ctrle and delete causes...</td>\n",
       "      <td>after updating my kepler eclipse .. to service...</td>\n",
       "      <td>1</td>\n",
       "    </tr>\n",
       "    <tr>\n",
       "      <th>12685</th>\n",
       "      <td>424389</td>\n",
       "      <td>401709</td>\n",
       "      <td>viewmgmt findviewreference always returns null...</td>\n",
       "      <td>i have a problem using the iworkbenchpagefindv...</td>\n",
       "      <td>secondary problems view doesnt have a view men...</td>\n",
       "      <td>problems vews vew menu  new problems vew  seco...</td>\n",
       "      <td>1</td>\n",
       "    </tr>\n",
       "  </tbody>\n",
       "</table>\n",
       "<p>12686 rows × 7 columns</p>\n",
       "</div>"
      ],
      "text/plain": [
       "       Issue_id  Duplicated_issue  \\\n",
       "0            25             28126   \n",
       "1            40                20   \n",
       "2            48                22   \n",
       "3            61                60   \n",
       "4            94                 2   \n",
       "...         ...               ...   \n",
       "12681    423034            287720   \n",
       "12682    423852            422971   \n",
       "12683    423888            413977   \n",
       "12684    424120            418254   \n",
       "12685    424389            401709   \n",
       "\n",
       "                                                  Title1  \\\n",
       "0      cvs ui need vcm prefs  default repo connection gc   \n",
       "1                     need connect to team stream gcqpkw   \n",
       "2      make sure can future store other project refer...   \n",
       "3                      .vcmmeta showing as change gdqtgw   \n",
       "4      repositories view all file types open to the t...   \n",
       "...                                                  ...   \n",
       "12681                                .metadata.log error   \n",
       "12682  workbench classcastexception handlerprocessing...   \n",
       "12683  keybindings resizing content assist proposal p...   \n",
       "12684                     close window from context menu   \n",
       "12685  viewmgmt findviewreference always returns null...   \n",
       "\n",
       "                                            Description1  \\\n",
       "0      it would be helpful if there was a notion of d...   \n",
       "1      i would like to be able to connect to a team s...   \n",
       "2      project references come in three flavours  . p...   \n",
       "3      useruser   install drop  into declipse  user  ...   \n",
       "4      when browsing files in the repositories view i...   \n",
       "...                                                  ...   \n",
       "12681     please see my .log file  please fix this error   \n",
       "12682  backport into ..   this bug was initially crea...   \n",
       "12683  tested on newly installed standard kepler sr o...   \n",
       "12684  context menu  eclipse.id...m java.version.. ja...   \n",
       "12685  i have a problem using the iworkbenchpagefindv...   \n",
       "\n",
       "                                                  Title2  \\\n",
       "0         wizards patch standard public cvs repositories   \n",
       "1                                        workspace files   \n",
       "2      persist sharing recommendations and project ve...   \n",
       "3               need custom .vcmignore comparemerge gdqt   \n",
       "4      opening repository resources doesnt honor type...   \n",
       "...                                                  ...   \n",
       "12681                      eclipse crashes while startup   \n",
       "12682  workbench classcastexception handlerprocessing...   \n",
       "12683  keybindings all nonnative key bindings stop wo...   \n",
       "12684  editormgmt keybindings ctrle and delete causes...   \n",
       "12685  secondary problems view doesnt have a view men...   \n",
       "\n",
       "                                            Description2  Label  \n",
       "0      this patch adds a convenient way to check thin...      1  \n",
       "1      thought it would be useful if the set of repo ...      1  \n",
       "2      project descriptions dont store sharing recomm...      1  \n",
       "3      useruser   install drop  into declipse  user  ...      1  \n",
       "4      opening repository resource  open the default ...      1  \n",
       "...                                                  ...    ...  \n",
       "12681  id ..   .eclipse crashes on startup . .   more...      1  \n",
       "12682  backport to ..   this bug was initially create...      1  \n",
       "12683  . and latest n.  . paste the following snippet...      1  \n",
       "12684  after updating my kepler eclipse .. to service...      1  \n",
       "12685  problems vews vew menu  new problems vew  seco...      1  \n",
       "\n",
       "[12686 rows x 7 columns]"
      ]
     },
     "execution_count": 58,
     "metadata": {},
     "output_type": "execute_result"
    }
   ],
   "source": [
    "df2"
   ]
  },
  {
   "cell_type": "code",
   "execution_count": 44,
   "id": "85aa78a3",
   "metadata": {},
   "outputs": [
    {
     "name": "stdout",
     "output_type": "stream",
     "text": [
      "Eclipse dataset shape:  (46908, 7)\n",
      "Mozilla dataset shape:  (60904, 7)\n",
      "Thunderbird dataset shape:  (14263, 7)\n"
     ]
    }
   ],
   "source": [
    "print(\"Eclipse dataset shape: \",df_ecl.shape)\n",
    "print(\"Mozilla dataset shape: \",df_moz.shape)\n",
    "print(\"Thunderbird dataset shape: \",df_tb.shape)"
   ]
  },
  {
   "cell_type": "code",
   "execution_count": 45,
   "id": "0778de42",
   "metadata": {},
   "outputs": [
    {
     "name": "stdout",
     "output_type": "stream",
     "text": [
      "0    34222\n",
      "1    12686\n",
      "Name: Label, dtype: int64\n",
      "0    36833\n",
      "1    24071\n",
      "Name: Label, dtype: int64\n",
      "0    9905\n",
      "1    4358\n",
      "Name: Label, dtype: int64\n"
     ]
    }
   ],
   "source": [
    "# Counting the unique values in label for the 3 datasets\n",
    "print(df_ecl['Label'].value_counts())\n",
    "print(df_moz['Label'].value_counts())\n",
    "print(df_tb['Label'].value_counts())"
   ]
  },
  {
   "cell_type": "markdown",
   "id": "b115ec41",
   "metadata": {},
   "source": [
    "### Combining the text in Title and description column for all datasets in order to vectorize them together"
   ]
  },
  {
   "cell_type": "code",
   "execution_count": 46,
   "id": "71faf47b",
   "metadata": {},
   "outputs": [],
   "source": [
    "df_ecl['BugInfo1'] = df_ecl['Title1'].str.cat(df_ecl['Description1'],sep=\" \")\n",
    "df_ecl['BugInfo2'] = df_ecl['Title2'].str.cat(df_ecl['Description2'],sep=\" \")\n",
    "\n",
    "df_moz['BugInfo1'] = df_moz['Title1'].str.cat(df_moz['Description1'],sep=\" \")\n",
    "df_moz['BugInfo2'] = df_moz['Title2'].str.cat(df_moz['Description2'],sep=\" \")\n",
    "\n",
    "df_tb['BugInfo1'] = df_tb['Title1'].str.cat(df_tb['Description1'],sep=\" \")\n",
    "df_tb['BugInfo2'] = df_tb['Title2'].str.cat(df_tb['Description2'],sep=\" \")"
   ]
  },
  {
   "cell_type": "markdown",
   "id": "b21107e7",
   "metadata": {},
   "source": [
    "### Remove puncctuations and stop words from the datasets to process"
   ]
  },
  {
   "cell_type": "code",
   "execution_count": 47,
   "id": "52349591",
   "metadata": {},
   "outputs": [],
   "source": [
    "stop_words = set(stopwords.words('english'))\n",
    "\n",
    "def words(text):\n",
    "    text = ''.join([i for i in text if i not in punctuation])\n",
    "    text = text.lower()\n",
    "    text = text.split()\n",
    "    text = [j for j in text if not j in stop_words]\n",
    "    text = \" \".join(text)\n",
    "    return(text)"
   ]
  },
  {
   "cell_type": "code",
   "execution_count": 48,
   "id": "ed73279c",
   "metadata": {},
   "outputs": [],
   "source": [
    "def preprocess(bug_reports,bugs_all):\n",
    "    for n in bugs_all:\n",
    "        bug_reports.append(words(n))"
   ]
  },
  {
   "cell_type": "code",
   "execution_count": 49,
   "id": "fe126b45",
   "metadata": {},
   "outputs": [],
   "source": [
    "bug_pp_ecl1 = []\n",
    "bug_pp_ecl2 = []\n",
    "\n",
    "bug_pp_moz1 = []\n",
    "bug_pp_moz2 = []\n",
    "\n",
    "bug_pp_tb1 = []\n",
    "bug_pp_tb2 = []\n",
    "\n",
    "preprocess(bug_pp_ecl1, df_ecl.BugInfo1)\n",
    "preprocess(bug_pp_ecl2, df_ecl.BugInfo2)\n",
    "\n",
    "preprocess(bug_pp_moz1, df_moz.BugInfo1)\n",
    "preprocess(bug_pp_moz2, df_moz.BugInfo2)\n",
    "\n",
    "preprocess(bug_pp_tb1, df_tb.BugInfo1)\n",
    "preprocess(bug_pp_tb2, df_tb.BugInfo2)"
   ]
  },
  {
   "cell_type": "code",
   "execution_count": 50,
   "id": "f6d3237e",
   "metadata": {},
   "outputs": [],
   "source": [
    "df1_ecl = DataFrame(bug_pp_ecl1,columns=['BugReport1_ECL'])\n",
    "df2_ecl = DataFrame(bug_pp_ecl2,columns=['BugReport2_ECL'])\n",
    "\n",
    "df1_moz = DataFrame(bug_pp_moz1,columns=['BugReport1_MOZ'])\n",
    "df2_moz = DataFrame(bug_pp_moz2,columns=['BugReport2_MOZ'])\n",
    "\n",
    "df1_tb = DataFrame(bug_pp_tb1,columns=['BugReport1_TB'])\n",
    "df2_tb = DataFrame(bug_pp_tb2,columns=['BugReport2_TB'])"
   ]
  },
  {
   "cell_type": "markdown",
   "id": "cd3beeb3",
   "metadata": {},
   "source": [
    "### Combine both the bug report 1 and bug report 2 to form a single column"
   ]
  },
  {
   "cell_type": "code",
   "execution_count": 52,
   "id": "10b2f30a",
   "metadata": {},
   "outputs": [],
   "source": [
    "data_ecl = pd.DataFrame()\n",
    "data_ecl[\"BugReport12\"] = df1_ecl[\"BugReport1_ECL\"] + \" \" + df2_ecl[\"BugReport2_ECL\"]\n",
    "\n",
    "data_moz = pd.DataFrame()\n",
    "data_moz[\"BugReport12\"] = df1_moz[\"BugReport1_MOZ\"] + \" \" + df2_moz[\"BugReport2_MOZ\"]\n",
    "\n",
    "data_tb = pd.DataFrame()\n",
    "data_tb[\"BugReport12\"] = df1_tb[\"BugReport1_TB\"] + \" \" + df2_tb[\"BugReport2_TB\"]"
   ]
  },
  {
   "cell_type": "code",
   "execution_count": null,
   "id": "1e3259ff",
   "metadata": {},
   "outputs": [],
   "source": []
  },
  {
   "cell_type": "code",
   "execution_count": null,
   "id": "c3b854dc",
   "metadata": {},
   "outputs": [],
   "source": []
  },
  {
   "cell_type": "code",
   "execution_count": null,
   "id": "f59e02f4",
   "metadata": {},
   "outputs": [],
   "source": []
  },
  {
   "cell_type": "code",
   "execution_count": null,
   "id": "b6055884",
   "metadata": {},
   "outputs": [],
   "source": []
  },
  {
   "cell_type": "code",
   "execution_count": null,
   "id": "cb866104",
   "metadata": {},
   "outputs": [],
   "source": []
  },
  {
   "cell_type": "code",
   "execution_count": null,
   "id": "ed9050c4",
   "metadata": {},
   "outputs": [],
   "source": []
  },
  {
   "cell_type": "code",
   "execution_count": null,
   "id": "b872cacb",
   "metadata": {},
   "outputs": [],
   "source": []
  },
  {
   "cell_type": "code",
   "execution_count": null,
   "id": "bcc6e159",
   "metadata": {},
   "outputs": [],
   "source": []
  },
  {
   "cell_type": "code",
   "execution_count": null,
   "id": "c73814d5",
   "metadata": {},
   "outputs": [],
   "source": []
  },
  {
   "cell_type": "code",
   "execution_count": null,
   "id": "e15b50fc",
   "metadata": {},
   "outputs": [],
   "source": []
  }
 ],
 "metadata": {
  "kernelspec": {
   "display_name": "Python 3 (ipykernel)",
   "language": "python",
   "name": "python3"
  },
  "language_info": {
   "codemirror_mode": {
    "name": "ipython",
    "version": 3
   },
   "file_extension": ".py",
   "mimetype": "text/x-python",
   "name": "python",
   "nbconvert_exporter": "python",
   "pygments_lexer": "ipython3",
   "version": "3.10.2"
  }
 },
 "nbformat": 4,
 "nbformat_minor": 5
}
