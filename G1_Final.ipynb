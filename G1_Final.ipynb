{
 "cells": [
  {
   "cell_type": "markdown",
   "id": "162dd142",
   "metadata": {},
   "source": [
    "## Group 1\n",
    "### (Models - Logistic Regression, Random Forest Classifier, Decision Tree Classifier)"
   ]
  },
  {
   "cell_type": "code",
   "execution_count": 1,
   "id": "0939c52e",
   "metadata": {
    "scrolled": true
   },
   "outputs": [
    {
     "name": "stderr",
     "output_type": "stream",
     "text": [
      "[nltk_data] Downloading package stopwords to\n",
      "[nltk_data]     /Users/suvijain/nltk_data...\n",
      "[nltk_data]   Package stopwords is already up-to-date!\n",
      "[nltk_data] Downloading package wordnet to\n",
      "[nltk_data]     /Users/suvijain/nltk_data...\n",
      "[nltk_data]   Package wordnet is already up-to-date!\n"
     ]
    },
    {
     "data": {
      "text/plain": [
       "True"
      ]
     },
     "execution_count": 1,
     "metadata": {},
     "output_type": "execute_result"
    }
   ],
   "source": [
    "import numpy as np\n",
    "import pandas as pd\n",
    "from pandas import DataFrame\n",
    "from matplotlib import pyplot as plt \n",
    "import nltk\n",
    "from nltk.corpus import stopwords\n",
    "from nltk.stem import SnowballStemmer\n",
    "import re\n",
    "from string import punctuation\n",
    "from sklearn.metrics import classification_report, confusion_matrix, precision_score, recall_score,roc_auc_score,\\\n",
    "accuracy_score\n",
    "from sklearn.feature_extraction.text import TfidfVectorizer\n",
    "from sklearn.model_selection import train_test_split\n",
    "from sklearn.linear_model import LogisticRegression\n",
    "from sklearn.ensemble import RandomForestClassifier\n",
    "from sklearn.model_selection import cross_val_score,cross_validate,StratifiedKFold\n",
    "from sklearn import tree\n",
    "import seaborn as sns\n",
    "\n",
    "\n",
    "from numpy import array\n",
    "import warnings\n",
    "warnings.filterwarnings('ignore')\n",
    "\n",
    "import ssl\n",
    "try:\n",
    "    _create_unverified_https_context = ssl._create_unverified_context\n",
    "except AttributeError:\n",
    "    pass\n",
    "else:\n",
    "    ssl._create_default_https_context = _create_unverified_https_context\n",
    "\n",
    "nltk.download('stopwords')\n",
    "nltk.download('wordnet')"
   ]
  },
  {
   "cell_type": "markdown",
   "id": "46759091",
   "metadata": {},
   "source": [
    "### Loading datasets for Eclipse, Mozilla, Thunderbird and combining to form 3 different dataframes"
   ]
  },
  {
   "cell_type": "code",
   "execution_count": 2,
   "id": "66f87aa9",
   "metadata": {},
   "outputs": [],
   "source": [
    "# Loading all the given datasets in 6 dataframes\n",
    "\n",
    "df1 = pd.read_csv('EP_nondup.csv',sep=';')\n",
    "df2 = pd.read_csv('EP_dup.csv',sep=';')\n",
    "df3 = pd.read_csv('M_Duplicate BRs.csv',sep=';')\n",
    "df4 = pd.read_csv('M_NonDuplicate BRs.csv',sep=';')\n",
    "df5 = pd.read_csv('dup_TB.csv',sep=';')\n",
    "df6 = pd.read_csv('Nondup_TB.csv',sep=';')\n",
    "\n",
    "frames_ecl = [df1,df2]\n",
    "frames_moz = [df3,df4]\n",
    "frames_tb = [df5,df6]\n",
    "\n",
    "# Concatenating 2 datasets for each of the platforms to form 3 datasets\n",
    "df_ecl = pd.concat(frames_ecl)\n",
    "df_moz = pd.concat(frames_moz)\n",
    "df_tb = pd.concat(frames_tb)"
   ]
  },
  {
   "cell_type": "code",
   "execution_count": 3,
   "id": "979d7d4e",
   "metadata": {},
   "outputs": [
    {
     "name": "stdout",
     "output_type": "stream",
     "text": [
      "122075\n"
     ]
    }
   ],
   "source": [
    "print(len(df_ecl)+len(df_moz)+len(df_tb))"
   ]
  },
  {
   "cell_type": "code",
   "execution_count": 4,
   "id": "47c085f3",
   "metadata": {},
   "outputs": [
    {
     "data": {
      "text/html": [
       "<div>\n",
       "<style scoped>\n",
       "    .dataframe tbody tr th:only-of-type {\n",
       "        vertical-align: middle;\n",
       "    }\n",
       "\n",
       "    .dataframe tbody tr th {\n",
       "        vertical-align: top;\n",
       "    }\n",
       "\n",
       "    .dataframe thead th {\n",
       "        text-align: right;\n",
       "    }\n",
       "</style>\n",
       "<table border=\"1\" class=\"dataframe\">\n",
       "  <thead>\n",
       "    <tr style=\"text-align: right;\">\n",
       "      <th></th>\n",
       "      <th>Issue_id</th>\n",
       "      <th>Duplicated_issue</th>\n",
       "      <th>Title1</th>\n",
       "      <th>Description1</th>\n",
       "      <th>Title2</th>\n",
       "      <th>Description2</th>\n",
       "      <th>Label</th>\n",
       "    </tr>\n",
       "  </thead>\n",
       "  <tbody>\n",
       "    <tr>\n",
       "      <th>0</th>\n",
       "      <td>1</td>\n",
       "      <td>92840</td>\n",
       "      <td>usability issue with external editors geirl</td>\n",
       "      <td>setup a project that contains a .gif resource ...</td>\n",
       "      <td>api deleted field idebuguiconstants.imgactsynced</td>\n",
       "      <td>. head  idebuguiconstants public static final ...</td>\n",
       "      <td>0</td>\n",
       "    </tr>\n",
       "    <tr>\n",
       "      <th>1</th>\n",
       "      <td>2</td>\n",
       "      <td>92844</td>\n",
       "      <td>opening repository resources doesnt honor type...</td>\n",
       "      <td>opening repository resource  open the default ...</td>\n",
       "      <td>increase scrolling speed based on distance fro...</td>\n",
       "      <td>currently the speed of selection scrolling whe...</td>\n",
       "      <td>0</td>\n",
       "    </tr>\n",
       "    <tr>\n",
       "      <th>2</th>\n",
       "      <td>3</td>\n",
       "      <td>92850</td>\n",
       "      <td>sync does not indicate deletion gien</td>\n",
       "      <td>kmpm \\tthis pr about the deletion indicator in...</td>\n",
       "      <td>jface api public api nonconstant field columnp...</td>\n",
       "      <td>. head  columnpixeldata public boolean addtrim...</td>\n",
       "      <td>0</td>\n",
       "    </tr>\n",
       "    <tr>\n",
       "      <th>3</th>\n",
       "      <td>4</td>\n",
       "      <td>92851</td>\n",
       "      <td>need better error message if catching up over ...</td>\n",
       "      <td>become synchronized with some project in a rep...</td>\n",
       "      <td>viewers api protected field structuredviewer.c...</td>\n",
       "      <td>. head  colorandfontcollector protected colora...</td>\n",
       "      <td>0</td>\n",
       "    </tr>\n",
       "    <tr>\n",
       "      <th>4</th>\n",
       "      <td>5</td>\n",
       "      <td>92852</td>\n",
       "      <td>isharingmanager sharing api inconsistent gaulh</td>\n",
       "      <td>for gettingsetting the managed state of a reso...</td>\n",
       "      <td>. ma nullpointerexception when install spindle...</td>\n",
       "      <td>steps  . menu help  software updates  find and...</td>\n",
       "      <td>0</td>\n",
       "    </tr>\n",
       "  </tbody>\n",
       "</table>\n",
       "</div>"
      ],
      "text/plain": [
       "   Issue_id  Duplicated_issue  \\\n",
       "0         1             92840   \n",
       "1         2             92844   \n",
       "2         3             92850   \n",
       "3         4             92851   \n",
       "4         5             92852   \n",
       "\n",
       "                                              Title1  \\\n",
       "0        usability issue with external editors geirl   \n",
       "1  opening repository resources doesnt honor type...   \n",
       "2               sync does not indicate deletion gien   \n",
       "3  need better error message if catching up over ...   \n",
       "4     isharingmanager sharing api inconsistent gaulh   \n",
       "\n",
       "                                        Description1  \\\n",
       "0  setup a project that contains a .gif resource ...   \n",
       "1  opening repository resource  open the default ...   \n",
       "2  kmpm \\tthis pr about the deletion indicator in...   \n",
       "3  become synchronized with some project in a rep...   \n",
       "4  for gettingsetting the managed state of a reso...   \n",
       "\n",
       "                                              Title2  \\\n",
       "0   api deleted field idebuguiconstants.imgactsynced   \n",
       "1  increase scrolling speed based on distance fro...   \n",
       "2  jface api public api nonconstant field columnp...   \n",
       "3  viewers api protected field structuredviewer.c...   \n",
       "4  . ma nullpointerexception when install spindle...   \n",
       "\n",
       "                                        Description2  Label  \n",
       "0  . head  idebuguiconstants public static final ...      0  \n",
       "1  currently the speed of selection scrolling whe...      0  \n",
       "2  . head  columnpixeldata public boolean addtrim...      0  \n",
       "3  . head  colorandfontcollector protected colora...      0  \n",
       "4  steps  . menu help  software updates  find and...      0  "
      ]
     },
     "execution_count": 4,
     "metadata": {},
     "output_type": "execute_result"
    }
   ],
   "source": [
    "df_ecl.head()"
   ]
  },
  {
   "cell_type": "code",
   "execution_count": 5,
   "id": "85aa78a3",
   "metadata": {},
   "outputs": [
    {
     "name": "stdout",
     "output_type": "stream",
     "text": [
      "Eclipse dataset shape:  (46908, 7)\n",
      "Mozilla dataset shape:  (60904, 7)\n",
      "Thunderbird dataset shape:  (14263, 7)\n"
     ]
    }
   ],
   "source": [
    "print(\"Eclipse dataset shape: \",df_ecl.shape)\n",
    "print(\"Mozilla dataset shape: \",df_moz.shape)\n",
    "print(\"Thunderbird dataset shape: \",df_tb.shape)"
   ]
  },
  {
   "cell_type": "code",
   "execution_count": 6,
   "id": "0778de42",
   "metadata": {},
   "outputs": [
    {
     "name": "stdout",
     "output_type": "stream",
     "text": [
      "0    34222\n",
      "1    12686\n",
      "Name: Label, dtype: int64\n",
      "0    36833\n",
      "1    24071\n",
      "Name: Label, dtype: int64\n",
      "0    9905\n",
      "1    4358\n",
      "Name: Label, dtype: int64\n"
     ]
    }
   ],
   "source": [
    "# Counting the unique values in label for the 3 datasets\n",
    "print(df_ecl['Label'].value_counts())\n",
    "print(df_moz['Label'].value_counts())\n",
    "print(df_tb['Label'].value_counts())"
   ]
  },
  {
   "cell_type": "markdown",
   "id": "b115ec41",
   "metadata": {},
   "source": [
    "### Combining the text in Title and description column for all datasets in order to vectorize them together"
   ]
  },
  {
   "cell_type": "code",
   "execution_count": 7,
   "id": "71faf47b",
   "metadata": {},
   "outputs": [
    {
     "data": {
      "text/plain": [
       "0        usability issue with external editors geirl se...\n",
       "1        opening repository resources doesnt honor type...\n",
       "2        sync does not indicate deletion gien kmpm \\tth...\n",
       "3        need better error message if catching up over ...\n",
       "4        isharingmanager sharing api inconsistent gaulh...\n",
       "                               ...                        \n",
       "12681    .metadata.log error please see my .log file  p...\n",
       "12682    workbench classcastexception handlerprocessing...\n",
       "12683    keybindings resizing content assist proposal p...\n",
       "12684    close window from context menu context menu  e...\n",
       "12685    viewmgmt findviewreference always returns null...\n",
       "Name: Bug1, Length: 46908, dtype: object"
      ]
     },
     "execution_count": 7,
     "metadata": {},
     "output_type": "execute_result"
    }
   ],
   "source": [
    "df_ecl['Bug1'] = df_ecl['Title1'].str.cat(df_ecl['Description1'],sep=\" \")\n",
    "df_ecl['Bug2'] = df_ecl['Title2'].str.cat(df_ecl['Description2'],sep=\" \")\n",
    "\n",
    "df_moz['Bug1'] = df_moz['Title1'].str.cat(df_moz['Description1'],sep=\" \")\n",
    "df_moz['Bug2'] = df_moz['Title2'].str.cat(df_moz['Description2'],sep=\" \")\n",
    "\n",
    "df_tb['Bug1'] = df_tb['Title1'].str.cat(df_tb['Description1'],sep=\" \")\n",
    "df_tb['Bug2'] = df_tb['Title2'].str.cat(df_tb['Description2'],sep=\" \")\n",
    "df_ecl.Bug1"
   ]
  },
  {
   "cell_type": "markdown",
   "id": "b21107e7",
   "metadata": {},
   "source": [
    "### Remove puncctuations and stop words from the datasets to process"
   ]
  },
  {
   "cell_type": "code",
   "execution_count": 8,
   "id": "52349591",
   "metadata": {},
   "outputs": [],
   "source": [
    "stop_words = set(stopwords.words('english'))\n",
    "\n",
    "def words(text):\n",
    "    text = ''.join([i for i in text if i not in punctuation])\n",
    "    text = text.lower()\n",
    "    text = text.split()\n",
    "    text = [j for j in text if not j in stop_words]\n",
    "    text = \" \".join(text)\n",
    "    return(text)"
   ]
  },
  {
   "cell_type": "code",
   "execution_count": 9,
   "id": "ed73279c",
   "metadata": {},
   "outputs": [],
   "source": [
    "def preprocess(bug_reports,bugs_all):\n",
    "    for n in bugs_all:\n",
    "        bug_reports.append(words(n))"
   ]
  },
  {
   "cell_type": "code",
   "execution_count": 10,
   "id": "fe126b45",
   "metadata": {},
   "outputs": [],
   "source": [
    "bug_pp_ecl1 = []\n",
    "bug_pp_ecl2 = []\n",
    "\n",
    "bug_pp_moz1 = []\n",
    "bug_pp_moz2 = []\n",
    "\n",
    "bug_pp_tb1 = []\n",
    "bug_pp_tb2 = []\n",
    "\n",
    "preprocess(bug_pp_ecl1, df_ecl.Bug1)\n",
    "preprocess(bug_pp_ecl2, df_ecl.Bug2)\n",
    "\n",
    "preprocess(bug_pp_moz1, df_moz.Bug1)\n",
    "preprocess(bug_pp_moz2, df_moz.Bug2)\n",
    "\n",
    "preprocess(bug_pp_tb1, df_tb.Bug1)\n",
    "preprocess(bug_pp_tb2, df_tb.Bug2)"
   ]
  },
  {
   "cell_type": "markdown",
   "id": "cd3beeb3",
   "metadata": {},
   "source": [
    "### Define TFIDF veectorizer"
   ]
  },
  {
   "cell_type": "code",
   "execution_count": 11,
   "id": "10b2f30a",
   "metadata": {},
   "outputs": [],
   "source": [
    "tfidf_ecl = TfidfVectorizer(analyzer = 'word',stop_words = 'english',lowercase = True,max_features = 700,norm = 'l2')\n",
    "tfidf_moz = TfidfVectorizer(analyzer = 'word',stop_words = 'english',lowercase = True,max_features = 700,norm = 'l2')\n",
    "tfidf_tb = TfidfVectorizer(analyzer = 'word',stop_words = 'english',lowercase = True,max_features = 700,norm = 'l2')"
   ]
  },
  {
   "cell_type": "code",
   "execution_count": 12,
   "id": "1e3259ff",
   "metadata": {},
   "outputs": [],
   "source": [
    "words_ecl = pd.concat([df_ecl.Bug1,df_ecl.Bug2], axis = 0)\n",
    "words_moz = pd.concat([df_moz.Bug1,df_moz.Bug2], axis = 0)\n",
    "words_tb = pd.concat([df_tb.Bug1,df_tb.Bug2], axis = 0)"
   ]
  },
  {
   "cell_type": "code",
   "execution_count": 13,
   "id": "c3b854dc",
   "metadata": {},
   "outputs": [],
   "source": [
    "tfidf_ecl.fit(words_ecl)\n",
    "tfidf_moz.fit(words_moz)\n",
    "tfidf_tb.fit(words_tb)\n",
    "\n",
    "duplicate_ecl_1 = tfidf_ecl.transform(df_ecl.Bug1)\n",
    "duplicate_ecl_2 = tfidf_ecl.transform(df_ecl.Bug2)\n",
    "\n",
    "duplicate_moz_1 = tfidf_moz.transform(df_moz.Bug1)\n",
    "duplicate_moz_2 = tfidf_moz.transform(df_moz.Bug2)\n",
    "\n",
    "duplicate_tb_1 = tfidf_tb.transform(df_tb.Bug1)\n",
    "duplicate_tb_2 = tfidf_tb.transform(df_tb.Bug2)"
   ]
  },
  {
   "cell_type": "code",
   "execution_count": 17,
   "id": "f59e02f4",
   "metadata": {},
   "outputs": [],
   "source": [
    "x_ecl = abs(duplicate_ecl_1 - duplicate_ecl_2)\n",
    "y_ecl = df_ecl['Label']\n",
    "\n",
    "x_moz = abs(duplicate_moz_1 - duplicate_moz_2)\n",
    "y_moz = df_moz['Label']\n",
    "\n",
    "x_tb = abs(duplicate_tb_1 - duplicate_tb_2)\n",
    "y_tb = df_tb['Label']\n",
    "\n",
    "# x_ecl_train, y_ecl_train, x_ecl_test, y_ecl_test = train_test_split(x_ecl,y_ecl,shuffle=True,test_size=0.3,stratify=y_ecl)\n",
    "# x_moz_train, y_moz_train, x_moz_test, y_moz_test = train_test_split(x_moz,y_moz,shuffle=True,test_size=0.3,stratify=y_moz)\n",
    "# x_tb_train, y_tb_train, x_tb_test, y_tb_test = train_test_split(x_tb,y_tb,shuffle=True,test_size=0.3,stratify=y_tb)"
   ]
  },
  {
   "cell_type": "code",
   "execution_count": 22,
   "id": "4b2878d5",
   "metadata": {},
   "outputs": [],
   "source": [
    "def model_eval(x,y,classifier):\n",
    "    scoring = ['accuracy','precision','recall','roc_auc']\n",
    "    results = cross_validate(classifier,x,y,return_estimator=True,scoring=scoring,cv=10)\n",
    "    print(\"Evaluation metrics for 10 folds of cross validation:\")\n",
    "    for i in scoring:\n",
    "        print(i,' --> ',results['test_' + i])\n",
    "    return (results['test_accuracy'].mean(),\n",
    "           results['test_precision'].mean(),\n",
    "           results['test_recall'].mean(),\n",
    "           results['test_roc_auc'].mean())"
   ]
  },
  {
   "cell_type": "markdown",
   "id": "8aab5fd9",
   "metadata": {},
   "source": [
    "## Cross validation for Logistic Regression, Decision Tree Classifier, & Random Forest Classifier"
   ]
  },
  {
   "cell_type": "code",
   "execution_count": 23,
   "id": "0413fbd2",
   "metadata": {
    "scrolled": true
   },
   "outputs": [],
   "source": [
    "lr = LogisticRegression()\n",
    "dt = tree.DecisionTreeClassifier()\n",
    "rf = RandomForestClassifier()"
   ]
  },
  {
   "cell_type": "markdown",
   "id": "71f4bd38",
   "metadata": {},
   "source": [
    "### Logistic Regression"
   ]
  },
  {
   "cell_type": "code",
   "execution_count": 24,
   "id": "55669f9e",
   "metadata": {},
   "outputs": [
    {
     "name": "stdout",
     "output_type": "stream",
     "text": [
      "ECLIPSE DATASET\n",
      "Evaluation metrics for 10 folds of cross validation:\n",
      "accuracy  -->  [0.81581752 0.82157323 0.8160307  0.82455766 0.83393733 0.82391814\n",
      " 0.81645705 0.81688339 0.78464819 0.77121535]\n",
      "precision  -->  [0.7370892  0.7183384  0.71549894 0.72755102 0.77222222 0.73242392\n",
      " 0.72270742 0.73295455 0.65140845 0.64617691]\n",
      "recall  -->  [0.49526814 0.55914826 0.53112687 0.56185973 0.54767533 0.5500394\n",
      " 0.52167061 0.50827423 0.43769716 0.33990536]\n",
      "roc_auc  -->  [0.83375749 0.8518956  0.83828254 0.84830967 0.87362194 0.84836701\n",
      " 0.84142035 0.84120918 0.77746747 0.72223039]\n",
      "\n",
      "MOZILLA DATASET\n",
      "Evaluation metrics for 10 folds of cross validation:\n",
      "accuracy  -->  [0.62534888 0.8038089  0.78722706 0.80676408 0.77339901 0.76617406\n",
      " 0.76518883 0.74876847 0.73858785 0.75533662]\n",
      "precision  -->  [0.5201278  0.77321912 0.76822791 0.80445545 0.76428204 0.74199902\n",
      " 0.73272987 0.70970827 0.69638554 0.7143525 ]\n",
      "recall  -->  [0.67607973 0.71250519 0.66098878 0.67511425 0.61695056 0.62609057\n",
      " 0.63896967 0.61653511 0.60033236 0.63481512]\n",
      "roc_auc  -->  [0.66909052 0.87125623 0.85434369 0.87841008 0.83067488 0.83213297\n",
      " 0.82418259 0.8022447  0.79355477 0.81506514]\n",
      "\n",
      "THUNDERBIRD DATASET\n",
      "Evaluation metrics for 10 folds of cross validation:\n",
      "accuracy  -->  [0.81850035 0.81709881 0.81920112 0.82258065 0.81346424 0.8197756\n",
      " 0.82328191 0.81556802 0.80224404 0.7973352 ]\n",
      "precision  -->  [0.75652174 0.73584906 0.72938144 0.7592068  0.7607362  0.7640118\n",
      " 0.7754491  0.75516224 0.73831776 0.75704225]\n",
      "recall  -->  [0.59862385 0.62614679 0.64908257 0.6146789  0.56880734 0.5940367\n",
      " 0.5940367  0.58715596 0.54482759 0.49425287]\n",
      "roc_auc  -->  [0.85164647 0.8802132  0.87145086 0.87027152 0.86698869 0.85929015\n",
      " 0.8793161  0.85047493 0.83860955 0.81739564]\n"
     ]
    }
   ],
   "source": [
    "print(\"ECLIPSE DATASET\")\n",
    "lr_acc_ecl,lr_prec_ecl,lr_rec_ecl,lr_auc_ecl = model_eval(x_ecl,y_ecl,lr)\n",
    "\n",
    "print(\"\\nMOZILLA DATASET\")\n",
    "lr_acc_moz,lr_prec_moz,lr_rec_moz,lr_auc_moz = model_eval(x_moz,y_moz,lr)\n",
    "\n",
    "print(\"\\nTHUNDERBIRD DATASET\")\n",
    "lr_acc_tb,lr_prec_tb,lr_rec_tb,lr_auc_tb = model_eval(x_tb,y_tb,lr)"
   ]
  },
  {
   "cell_type": "markdown",
   "id": "79592433",
   "metadata": {},
   "source": [
    "### Decision Tree Classifier"
   ]
  },
  {
   "cell_type": "code",
   "execution_count": 25,
   "id": "b252c9d1",
   "metadata": {},
   "outputs": [
    {
     "name": "stdout",
     "output_type": "stream",
     "text": [
      "ECLIPSE DATASET\n",
      "Evaluation metrics for 10 folds of cross validation:\n",
      "accuracy  -->  [0.68514176 0.68535493 0.68919207 0.6815178  0.69707951 0.69899808\n",
      " 0.69793221 0.6815178  0.66332623 0.64946695]\n",
      "precision  -->  [0.41673307 0.41900312 0.42889391 0.41806264 0.4431988  0.44570995\n",
      " 0.44272446 0.41635688 0.36833192 0.31048387]\n",
      "recall  -->  [0.41246057 0.42429022 0.44917258 0.45232467 0.46729708 0.46256895\n",
      " 0.45074862 0.44129236 0.34305994 0.24290221]\n",
      "roc_auc  -->  [0.59930653 0.60317637 0.61368623 0.60941774 0.62479407 0.62462171\n",
      " 0.62017267 0.60594717 0.56252938 0.52150955]\n",
      "\n",
      "MOZILLA DATASET\n",
      "Evaluation metrics for 10 folds of cross validation:\n",
      "accuracy  -->  [0.52158923 0.62863241 0.63125923 0.62863241 0.63382594 0.61067323\n",
      " 0.62249589 0.60032841 0.59031199 0.59802956]\n",
      "precision  -->  [0.42152605 0.53068134 0.53617978 0.53276096 0.53959732 0.50811542\n",
      " 0.5256167  0.49348141 0.47959184 0.49022413]\n",
      "recall  -->  [0.56436877 0.52098047 0.49563772 0.48982135 0.50103864 0.4682177\n",
      " 0.46032405 0.42459493 0.42958039 0.42708766]\n",
      "roc_auc  -->  [0.52899405 0.60997449 0.60775372 0.60457409 0.61082342 0.5859959\n",
      " 0.59440314 0.56988639 0.56246872 0.56841757]\n",
      "\n",
      "THUNDERBIRD DATASET\n",
      "Evaluation metrics for 10 folds of cross validation:\n",
      "accuracy  -->  [0.67764541 0.66012614 0.68885774 0.66058906 0.65918654 0.66690042\n",
      " 0.64726508 0.66058906 0.65918654 0.63955119]\n",
      "precision  -->  [0.46907216 0.44662309 0.49115044 0.44915254 0.44813278 0.45733042\n",
      " 0.42117647 0.44392523 0.44395604 0.39577836]\n",
      "recall  -->  [0.41743119 0.47018349 0.50917431 0.48623853 0.49541284 0.4793578\n",
      " 0.41055046 0.43577982 0.46436782 0.34482759]\n",
      "roc_auc  -->  [0.60478018 0.60693836 0.63854276 0.61180613 0.61336299 0.61442637\n",
      " 0.58103281 0.59768789 0.60453507 0.55687393]\n"
     ]
    }
   ],
   "source": [
    "print(\"ECLIPSE DATASET\")\n",
    "dt_acc_ecl,dt_prec_ecl,dt_rec_ecl,dt_auc_ecl = model_eval(x_ecl,y_ecl,dt)\n",
    "\n",
    "print(\"\\nMOZILLA DATASET\")\n",
    "dt_acc_moz,dt_prec_moz,dt_rec_moz,dt_auc_moz = model_eval(x_moz,y_moz,dt)\n",
    "\n",
    "print(\"\\nTHUNDERBIRD DATASET\")\n",
    "dt_acc_tb,dt_prec_tb,dt_rec_tb,dt_auc_tb = model_eval(x_tb,y_tb,dt)"
   ]
  },
  {
   "cell_type": "markdown",
   "id": "19a3a1ef",
   "metadata": {},
   "source": [
    "### Random Forest Classifier"
   ]
  },
  {
   "cell_type": "code",
   "execution_count": 26,
   "id": "9aa0df65",
   "metadata": {},
   "outputs": [
    {
     "name": "stdout",
     "output_type": "stream",
     "text": [
      "ECLIPSE DATASET\n",
      "Evaluation metrics for 10 folds of cross validation:\n",
      "accuracy  -->  [0.77339586 0.78767853 0.78895758 0.79769772 0.80068216 0.79279471\n",
      " 0.78256235 0.78895758 0.76503198 0.74904051]\n",
      "precision  -->  [0.84745763 0.89306358 0.87002653 0.91450777 0.90338164 0.88571429\n",
      " 0.85269122 0.88219178 0.81679389 0.75706215]\n",
      "recall  -->  [0.19716088 0.24369085 0.25847124 0.27817179 0.29472025 0.26871552\n",
      " 0.23719464 0.2537431  0.16876972 0.10567823]\n",
      "roc_auc  -->  [0.72842992 0.78038731 0.78086078 0.78217143 0.79660867 0.76647454\n",
      " 0.74326957 0.74597204 0.65368708 0.53595807]\n",
      "\n",
      "MOZILLA DATASET\n",
      "Evaluation metrics for 10 folds of cross validation:\n",
      "accuracy  -->  [0.52191758 0.75094402 0.72270563 0.73091446 0.72676519 0.71034483\n",
      " 0.71773399 0.69950739 0.68374384 0.67881773]\n",
      "precision  -->  [0.40625    0.85094637 0.86044177 0.90421053 0.85755534 0.81612586\n",
      " 0.83659491 0.80464625 0.76992144 0.76251455]\n",
      "recall  -->  [0.45348837 0.44827586 0.35604487 0.35687578 0.37017034 0.34482759\n",
      " 0.35521396 0.31657665 0.28500208 0.27212297]\n",
      "roc_auc  -->  [0.56217915 0.81067035 0.78707072 0.79429523 0.76773966 0.75624105\n",
      " 0.7572248  0.72077989 0.67711521 0.66527086]\n",
      "\n",
      "THUNDERBIRD DATASET\n",
      "Evaluation metrics for 10 folds of cross validation:\n",
      "accuracy  -->  [0.75262789 0.78486335 0.798178   0.77629734 0.78611501 0.78541374\n",
      " 0.7657784  0.75806452 0.75175316 0.73842917]\n",
      "precision  -->  [0.85470085 0.90566038 0.90659341 0.86792453 0.91194969 0.95774648\n",
      " 0.93220339 0.92523364 0.87850467 0.91891892]\n",
      "recall  -->  [0.2293578  0.33027523 0.37844037 0.31651376 0.33256881 0.31192661\n",
      " 0.25229358 0.22706422 0.21609195 0.15632184]\n",
      "roc_auc  -->  [0.73267782 0.80464201 0.81209787 0.78600686 0.80730354 0.79497845\n",
      " 0.81253128 0.76581758 0.78157904 0.68991614]\n"
     ]
    }
   ],
   "source": [
    "print(\"ECLIPSE DATASET\")\n",
    "rf_acc_ecl,rf_prec_ecl,rf_rec_ecl,rf_auc_ecl = model_eval(x_ecl,y_ecl,rf)\n",
    "\n",
    "print(\"\\nMOZILLA DATASET\")\n",
    "rf_acc_moz,rf_prec_moz,rf_rec_moz,rf_auc_moz = model_eval(x_moz,y_moz,rf)\n",
    "\n",
    "print(\"\\nTHUNDERBIRD DATASET\")\n",
    "rf_acc_tb,rf_prec_tb,rf_rec_tb,rf_auc_tb = model_eval(x_tb,y_tb,rf)"
   ]
  },
  {
   "cell_type": "code",
   "execution_count": 27,
   "id": "174a28ca",
   "metadata": {},
   "outputs": [
    {
     "data": {
      "text/html": [
       "<style type=\"text/css\">\n",
       "</style>\n",
       "<table id=\"T_dd2fa_\">\n",
       "  <thead>\n",
       "    <tr>\n",
       "      <th class=\"col_heading level0 col0\" >Classifier</th>\n",
       "      <th class=\"col_heading level0 col1\" >Dataset</th>\n",
       "      <th class=\"col_heading level0 col2\" >AUC</th>\n",
       "      <th class=\"col_heading level0 col3\" >Accuracy</th>\n",
       "      <th class=\"col_heading level0 col4\" >Recall</th>\n",
       "      <th class=\"col_heading level0 col5\" >Precision</th>\n",
       "    </tr>\n",
       "  </thead>\n",
       "  <tbody>\n",
       "    <tr>\n",
       "      <td id=\"T_dd2fa_row0_col0\" class=\"data row0 col0\" >LR</td>\n",
       "      <td id=\"T_dd2fa_row0_col1\" class=\"data row0 col1\" >Eclipse</td>\n",
       "      <td id=\"T_dd2fa_row0_col2\" class=\"data row0 col2\" >0.827656</td>\n",
       "      <td id=\"T_dd2fa_row0_col3\" class=\"data row0 col3\" >0.812504</td>\n",
       "      <td id=\"T_dd2fa_row0_col4\" class=\"data row0 col4\" >0.505267</td>\n",
       "      <td id=\"T_dd2fa_row0_col5\" class=\"data row0 col5\" >0.715637</td>\n",
       "    </tr>\n",
       "    <tr>\n",
       "      <td id=\"T_dd2fa_row1_col0\" class=\"data row1 col0\" >LR</td>\n",
       "      <td id=\"T_dd2fa_row1_col1\" class=\"data row1 col1\" >Mozilla</td>\n",
       "      <td id=\"T_dd2fa_row1_col2\" class=\"data row1 col2\" >0.817096</td>\n",
       "      <td id=\"T_dd2fa_row1_col3\" class=\"data row1 col3\" >0.757060</td>\n",
       "      <td id=\"T_dd2fa_row1_col4\" class=\"data row1 col4\" >0.645838</td>\n",
       "      <td id=\"T_dd2fa_row1_col5\" class=\"data row1 col5\" >0.722549</td>\n",
       "    </tr>\n",
       "    <tr>\n",
       "      <td id=\"T_dd2fa_row2_col0\" class=\"data row2 col0\" >LR</td>\n",
       "      <td id=\"T_dd2fa_row2_col1\" class=\"data row2 col1\" >Thunderbird</td>\n",
       "      <td id=\"T_dd2fa_row2_col2\" class=\"data row2 col2\" >0.858566</td>\n",
       "      <td id=\"T_dd2fa_row2_col3\" class=\"data row2 col3\" >0.814905</td>\n",
       "      <td id=\"T_dd2fa_row2_col4\" class=\"data row2 col4\" >0.587165</td>\n",
       "      <td id=\"T_dd2fa_row2_col5\" class=\"data row2 col5\" >0.753168</td>\n",
       "    </tr>\n",
       "    <tr>\n",
       "      <td id=\"T_dd2fa_row3_col0\" class=\"data row3 col0\" >DT</td>\n",
       "      <td id=\"T_dd2fa_row3_col1\" class=\"data row3 col1\" >Eclipse</td>\n",
       "      <td id=\"T_dd2fa_row3_col2\" class=\"data row3 col2\" >0.598516</td>\n",
       "      <td id=\"T_dd2fa_row3_col3\" class=\"data row3 col3\" >0.682953</td>\n",
       "      <td id=\"T_dd2fa_row3_col4\" class=\"data row3 col4\" >0.414612</td>\n",
       "      <td id=\"T_dd2fa_row3_col5\" class=\"data row3 col5\" >0.410950</td>\n",
       "    </tr>\n",
       "    <tr>\n",
       "      <td id=\"T_dd2fa_row4_col0\" class=\"data row4 col0\" >DT</td>\n",
       "      <td id=\"T_dd2fa_row4_col1\" class=\"data row4 col1\" >Mozilla</td>\n",
       "      <td id=\"T_dd2fa_row4_col2\" class=\"data row4 col2\" >0.584329</td>\n",
       "      <td id=\"T_dd2fa_row4_col3\" class=\"data row4 col3\" >0.606578</td>\n",
       "      <td id=\"T_dd2fa_row4_col4\" class=\"data row4 col4\" >0.478165</td>\n",
       "      <td id=\"T_dd2fa_row4_col5\" class=\"data row4 col5\" >0.505777</td>\n",
       "    </tr>\n",
       "    <tr>\n",
       "      <td id=\"T_dd2fa_row5_col0\" class=\"data row5 col0\" >DT</td>\n",
       "      <td id=\"T_dd2fa_row5_col1\" class=\"data row5 col1\" >Thunderbird</td>\n",
       "      <td id=\"T_dd2fa_row5_col2\" class=\"data row5 col2\" >0.602999</td>\n",
       "      <td id=\"T_dd2fa_row5_col3\" class=\"data row5 col3\" >0.661990</td>\n",
       "      <td id=\"T_dd2fa_row5_col4\" class=\"data row5 col4\" >0.451332</td>\n",
       "      <td id=\"T_dd2fa_row5_col5\" class=\"data row5 col5\" >0.446630</td>\n",
       "    </tr>\n",
       "    <tr>\n",
       "      <td id=\"T_dd2fa_row6_col0\" class=\"data row6 col0\" >RF</td>\n",
       "      <td id=\"T_dd2fa_row6_col1\" class=\"data row6 col1\" >Eclipse</td>\n",
       "      <td id=\"T_dd2fa_row6_col2\" class=\"data row6 col2\" >0.731382</td>\n",
       "      <td id=\"T_dd2fa_row6_col3\" class=\"data row6 col3\" >0.782680</td>\n",
       "      <td id=\"T_dd2fa_row6_col4\" class=\"data row6 col4\" >0.230632</td>\n",
       "      <td id=\"T_dd2fa_row6_col5\" class=\"data row6 col5\" >0.862289</td>\n",
       "    </tr>\n",
       "    <tr>\n",
       "      <td id=\"T_dd2fa_row7_col0\" class=\"data row7 col0\" >RF</td>\n",
       "      <td id=\"T_dd2fa_row7_col1\" class=\"data row7 col1\" >Mozilla</td>\n",
       "      <td id=\"T_dd2fa_row7_col2\" class=\"data row7 col2\" >0.729859</td>\n",
       "      <td id=\"T_dd2fa_row7_col3\" class=\"data row7 col3\" >0.694339</td>\n",
       "      <td id=\"T_dd2fa_row7_col4\" class=\"data row7 col4\" >0.355860</td>\n",
       "      <td id=\"T_dd2fa_row7_col5\" class=\"data row7 col5\" >0.786921</td>\n",
       "    </tr>\n",
       "    <tr>\n",
       "      <td id=\"T_dd2fa_row8_col0\" class=\"data row8 col0\" >RF</td>\n",
       "      <td id=\"T_dd2fa_row8_col1\" class=\"data row8 col1\" >Thunderbird</td>\n",
       "      <td id=\"T_dd2fa_row8_col2\" class=\"data row8 col2\" >0.778755</td>\n",
       "      <td id=\"T_dd2fa_row8_col3\" class=\"data row8 col3\" >0.769752</td>\n",
       "      <td id=\"T_dd2fa_row8_col4\" class=\"data row8 col4\" >0.275085</td>\n",
       "      <td id=\"T_dd2fa_row8_col5\" class=\"data row8 col5\" >0.905944</td>\n",
       "    </tr>\n",
       "  </tbody>\n",
       "</table>\n"
      ],
      "text/plain": [
       "<pandas.io.formats.style.Styler at 0x7f8402b90910>"
      ]
     },
     "execution_count": 27,
     "metadata": {},
     "output_type": "execute_result"
    }
   ],
   "source": [
    "df_results = pd.DataFrame({'Classifier':['LR','LR','LR','DT','DT','DT','RF','RF','RF'],\n",
    "                           'Dataset':['Eclipse','Mozilla','Thunderbird']*3,\n",
    "                          'AUC':[lr_auc_ecl,lr_auc_moz,lr_auc_tb,dt_auc_ecl,dt_auc_moz,dt_auc_tb,rf_auc_ecl,\\\n",
    "                                rf_auc_moz,rf_auc_tb],\n",
    "                          'Accuracy':[lr_acc_ecl,lr_acc_moz,lr_acc_tb,dt_acc_ecl,dt_acc_moz,dt_acc_tb,rf_acc_ecl,\\\n",
    "                                     rf_acc_moz,rf_acc_tb],\n",
    "                          'Recall':[lr_rec_ecl,lr_rec_moz,lr_rec_tb,dt_rec_ecl,dt_rec_moz,dt_rec_tb,rf_rec_ecl,\\\n",
    "                                   rf_rec_moz,rf_rec_tb],\n",
    "                          'Precision':[lr_prec_ecl,lr_prec_moz,lr_prec_tb,dt_prec_ecl,dt_prec_moz,dt_prec_tb,\\\n",
    "                                      rf_prec_ecl,rf_prec_moz,rf_prec_tb]})\n",
    "df_results.style.hide_index()"
   ]
  },
  {
   "cell_type": "code",
   "execution_count": 29,
   "id": "752e7004",
   "metadata": {},
   "outputs": [
    {
     "name": "stdout",
     "output_type": "stream",
     "text": [
      "MODEL PERFORMANCE METRICS\n"
     ]
    },
    {
     "data": {
      "text/plain": [
       "<function matplotlib.pyplot.show(close=None, block=None)>"
      ]
     },
     "execution_count": 29,
     "metadata": {},
     "output_type": "execute_result"
    },
    {
     "data": {
      "image/png": "[encoded data removed]",
      "text/plain": [
       "<Figure size 1152x576 with 2 Axes>"
      ]
     },
     "metadata": {},
     "output_type": "display_data"
    },
    {
     "data": {
      "image/png": "[encoded data removed]",
      "text/plain": [
       "<Figure size 1152x576 with 2 Axes>"
      ]
     },
     "metadata": {},
     "output_type": "display_data"
    }
   ],
   "source": [
    "print(\"MODEL PERFORMANCE METRICS\")\n",
    "\n",
    "sns.set(style=\"darkgrid\")\n",
    "\n",
    "fig, axs = plt.subplots(ncols=2)\n",
    "sns.set(rc={'figure.figsize':(16,8)})\n",
    "ax = sns.barplot(x=\"Classifier\", y=\"AUC\", hue=\"Dataset\", data=df_results,ax=axs[0],palette=\"dark:salmon\")\n",
    "ax.set_xlabel('Model',fontsize = 15)\n",
    "ax.set_ylabel('AUC', fontsize = 15)\n",
    "ax.tick_params(labelsize=15)\n",
    "\n",
    "sns.set(rc={'figure.figsize':(16,8)})\n",
    "ax = sns.barplot(x=\"Classifier\", y=\"Accuracy\", hue=\"Dataset\", data=df_results,ax=axs[1],palette=\"dark:salmon\")\n",
    "ax.set_xlabel('Model',fontsize = 15)\n",
    "ax.set_ylabel('Accuracy', fontsize = 15)\n",
    "ax.tick_params(labelsize=15)\n",
    "\n",
    "fig, axs = plt.subplots(ncols=2)\n",
    "sns.set(rc={'figure.figsize':(16,8)})\n",
    "ax = sns.barplot(x=\"Classifier\", y=\"Precision\", hue=\"Dataset\", data=df_results,ax=axs[0],palette=\"dark:salmon\")\n",
    "ax.set_xlabel('Model',fontsize = 15)\n",
    "ax.set_ylabel('Precision', fontsize = 15)\n",
    "ax.tick_params(labelsize=15)\n",
    "\n",
    "sns.set(rc={'figure.figsize':(16,8)})\n",
    "ax = sns.barplot(x=\"Classifier\", y=\"Recall\", hue=\"Dataset\", data=df_results,ax=axs[1],palette=\"dark:salmon\")\n",
    "ax.set_xlabel('Model',fontsize = 15)\n",
    "ax.set_ylabel('Recall', fontsize = 15)\n",
    "ax.tick_params(labelsize=15)\n",
    "plt.show"
   ]
  },
  {
   "cell_type": "code",
   "execution_count": null,
   "id": "9fa45b42",
   "metadata": {},
   "outputs": [],
   "source": []
  }
 ],
 "metadata": {
  "kernelspec": {
   "display_name": "Python 3 (ipykernel)",
   "language": "python",
   "name": "python3"
  },
  "language_info": {
   "codemirror_mode": {
    "name": "ipython",
    "version": 3
   },
   "file_extension": ".py",
   "mimetype": "text/x-python",
   "name": "python",
   "nbconvert_exporter": "python",
   "pygments_lexer": "ipython3",
   "version": "3.9.7"
  }
 },
 "nbformat": 4,
 "nbformat_minor": 5
}
