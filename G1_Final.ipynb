{
 "cells": [
  {
   "cell_type": "markdown",
   "id": "162dd142",
   "metadata": {},
   "source": [
    "## Group 1\n",
    "### (Models - Logistic Regression, Random Forest Classifier, Decision Tree Classifier)"
   ]
  },
  {
   "cell_type": "code",
   "execution_count": 1,
   "id": "0939c52e",
   "metadata": {
    "scrolled": true
   },
   "outputs": [
    {
     "name": "stderr",
     "output_type": "stream",
     "text": [
      "[nltk_data] Downloading package stopwords to\n",
      "[nltk_data]     /Users/suvijain/nltk_data...\n",
      "[nltk_data]   Package stopwords is already up-to-date!\n",
      "[nltk_data] Downloading package wordnet to\n",
      "[nltk_data]     /Users/suvijain/nltk_data...\n",
      "[nltk_data]   Package wordnet is already up-to-date!\n"
     ]
    },
    {
     "data": {
      "text/plain": [
       "True"
      ]
     },
     "execution_count": 1,
     "metadata": {},
     "output_type": "execute_result"
    }
   ],
   "source": [
    "import numpy as np\n",
    "import pandas as pd\n",
    "from pandas import DataFrame\n",
    "from matplotlib import pyplot as plt \n",
    "import nltk\n",
    "from nltk.corpus import stopwords\n",
    "from nltk.stem import SnowballStemmer\n",
    "import re\n",
    "from string import punctuation\n",
    "from sklearn.metrics import classification_report, confusion_matrix, precision_score, recall_score,roc_auc_score,\\\n",
    "accuracy_score\n",
    "from sklearn.feature_extraction.text import TfidfVectorizer\n",
    "from sklearn.model_selection import train_test_split\n",
    "from sklearn.linear_model import LogisticRegression\n",
    "from sklearn.ensemble import RandomForestClassifier\n",
    "from sklearn.model_selection import cross_val_score,cross_validate,StratifiedKFold\n",
    "from sklearn import tree\n",
    "import seaborn as sns\n",
    "\n",
    "\n",
    "from numpy import array\n",
    "import warnings\n",
    "warnings.filterwarnings('ignore')\n",
    "\n",
    "import ssl\n",
    "try:\n",
    "    _create_unverified_https_context = ssl._create_unverified_context\n",
    "except AttributeError:\n",
    "    pass\n",
    "else:\n",
    "    ssl._create_default_https_context = _create_unverified_https_context\n",
    "\n",
    "nltk.download('stopwords')\n",
    "nltk.download('wordnet')"
   ]
  },
  {
   "cell_type": "markdown",
   "id": "46759091",
   "metadata": {},
   "source": [
    "### Loading datasets for Eclipse, Mozilla, Thunderbird and combining to form 3 different dataframes"
   ]
  },
  {
   "cell_type": "code",
   "execution_count": 2,
   "id": "66f87aa9",
   "metadata": {},
   "outputs": [],
   "source": [
    "# Loading all the given datasets in 6 dataframes\n",
    "\n",
    "df1 = pd.read_csv('EP_nondup.csv',sep=';')\n",
    "df2 = pd.read_csv('EP_dup.csv',sep=';')\n",
    "df3 = pd.read_csv('M_Duplicate BRs.csv',sep=';')\n",
    "df4 = pd.read_csv('M_NonDuplicate BRs.csv',sep=';')\n",
    "df5 = pd.read_csv('dup_TB.csv',sep=';')\n",
    "df6 = pd.read_csv('Nondup_TB.csv',sep=';')\n",
    "\n",
    "frames_ecl = [df1,df2]\n",
    "frames_moz = [df3,df4]\n",
    "frames_tb = [df5,df6]\n",
    "\n",
    "# Concatenating 2 datasets for each of the platforms to form 3 datasets\n",
    "df_ecl = pd.concat(frames_ecl)\n",
    "df_moz = pd.concat(frames_moz)\n",
    "df_tb = pd.concat(frames_tb)"
   ]
  },
  {
   "cell_type": "code",
   "execution_count": 119,
   "id": "979d7d4e",
   "metadata": {},
   "outputs": [
    {
     "name": "stdout",
     "output_type": "stream",
     "text": [
      "122075\n"
     ]
    }
   ],
   "source": [
    "print(len(df_ecl)+len(df_moz)+len(df_tb))"
   ]
  },
  {
   "cell_type": "code",
   "execution_count": 4,
   "id": "47c085f3",
   "metadata": {},
   "outputs": [
    {
     "data": {
      "text/html": [
       "<div>\n",
       "<style scoped>\n",
       "    .dataframe tbody tr th:only-of-type {\n",
       "        vertical-align: middle;\n",
       "    }\n",
       "\n",
       "    .dataframe tbody tr th {\n",
       "        vertical-align: top;\n",
       "    }\n",
       "\n",
       "    .dataframe thead th {\n",
       "        text-align: right;\n",
       "    }\n",
       "</style>\n",
       "<table border=\"1\" class=\"dataframe\">\n",
       "  <thead>\n",
       "    <tr style=\"text-align: right;\">\n",
       "      <th></th>\n",
       "      <th>Issue_id</th>\n",
       "      <th>Duplicated_issue</th>\n",
       "      <th>Title1</th>\n",
       "      <th>Description1</th>\n",
       "      <th>Title2</th>\n",
       "      <th>Description2</th>\n",
       "      <th>Label</th>\n",
       "    </tr>\n",
       "  </thead>\n",
       "  <tbody>\n",
       "    <tr>\n",
       "      <th>0</th>\n",
       "      <td>1</td>\n",
       "      <td>92840</td>\n",
       "      <td>usability issue with external editors geirl</td>\n",
       "      <td>setup a project that contains a .gif resource ...</td>\n",
       "      <td>api deleted field idebuguiconstants.imgactsynced</td>\n",
       "      <td>. head  idebuguiconstants public static final ...</td>\n",
       "      <td>0</td>\n",
       "    </tr>\n",
       "    <tr>\n",
       "      <th>1</th>\n",
       "      <td>2</td>\n",
       "      <td>92844</td>\n",
       "      <td>opening repository resources doesnt honor type...</td>\n",
       "      <td>opening repository resource  open the default ...</td>\n",
       "      <td>increase scrolling speed based on distance fro...</td>\n",
       "      <td>currently the speed of selection scrolling whe...</td>\n",
       "      <td>0</td>\n",
       "    </tr>\n",
       "    <tr>\n",
       "      <th>2</th>\n",
       "      <td>3</td>\n",
       "      <td>92850</td>\n",
       "      <td>sync does not indicate deletion gien</td>\n",
       "      <td>kmpm \\tthis pr about the deletion indicator in...</td>\n",
       "      <td>jface api public api nonconstant field columnp...</td>\n",
       "      <td>. head  columnpixeldata public boolean addtrim...</td>\n",
       "      <td>0</td>\n",
       "    </tr>\n",
       "    <tr>\n",
       "      <th>3</th>\n",
       "      <td>4</td>\n",
       "      <td>92851</td>\n",
       "      <td>need better error message if catching up over ...</td>\n",
       "      <td>become synchronized with some project in a rep...</td>\n",
       "      <td>viewers api protected field structuredviewer.c...</td>\n",
       "      <td>. head  colorandfontcollector protected colora...</td>\n",
       "      <td>0</td>\n",
       "    </tr>\n",
       "    <tr>\n",
       "      <th>4</th>\n",
       "      <td>5</td>\n",
       "      <td>92852</td>\n",
       "      <td>isharingmanager sharing api inconsistent gaulh</td>\n",
       "      <td>for gettingsetting the managed state of a reso...</td>\n",
       "      <td>. ma nullpointerexception when install spindle...</td>\n",
       "      <td>steps  . menu help  software updates  find and...</td>\n",
       "      <td>0</td>\n",
       "    </tr>\n",
       "  </tbody>\n",
       "</table>\n",
       "</div>"
      ],
      "text/plain": [
       "   Issue_id  Duplicated_issue  \\\n",
       "0         1             92840   \n",
       "1         2             92844   \n",
       "2         3             92850   \n",
       "3         4             92851   \n",
       "4         5             92852   \n",
       "\n",
       "                                              Title1  \\\n",
       "0        usability issue with external editors geirl   \n",
       "1  opening repository resources doesnt honor type...   \n",
       "2               sync does not indicate deletion gien   \n",
       "3  need better error message if catching up over ...   \n",
       "4     isharingmanager sharing api inconsistent gaulh   \n",
       "\n",
       "                                        Description1  \\\n",
       "0  setup a project that contains a .gif resource ...   \n",
       "1  opening repository resource  open the default ...   \n",
       "2  kmpm \\tthis pr about the deletion indicator in...   \n",
       "3  become synchronized with some project in a rep...   \n",
       "4  for gettingsetting the managed state of a reso...   \n",
       "\n",
       "                                              Title2  \\\n",
       "0   api deleted field idebuguiconstants.imgactsynced   \n",
       "1  increase scrolling speed based on distance fro...   \n",
       "2  jface api public api nonconstant field columnp...   \n",
       "3  viewers api protected field structuredviewer.c...   \n",
       "4  . ma nullpointerexception when install spindle...   \n",
       "\n",
       "                                        Description2  Label  \n",
       "0  . head  idebuguiconstants public static final ...      0  \n",
       "1  currently the speed of selection scrolling whe...      0  \n",
       "2  . head  columnpixeldata public boolean addtrim...      0  \n",
       "3  . head  colorandfontcollector protected colora...      0  \n",
       "4  steps  . menu help  software updates  find and...      0  "
      ]
     },
     "execution_count": 4,
     "metadata": {},
     "output_type": "execute_result"
    }
   ],
   "source": [
    "df_ecl.head()"
   ]
  },
  {
   "cell_type": "code",
   "execution_count": 5,
   "id": "85aa78a3",
   "metadata": {},
   "outputs": [
    {
     "name": "stdout",
     "output_type": "stream",
     "text": [
      "Eclipse dataset shape:  (46908, 7)\n",
      "Mozilla dataset shape:  (60904, 7)\n",
      "Thunderbird dataset shape:  (14263, 7)\n"
     ]
    }
   ],
   "source": [
    "print(\"Eclipse dataset shape: \",df_ecl.shape)\n",
    "print(\"Mozilla dataset shape: \",df_moz.shape)\n",
    "print(\"Thunderbird dataset shape: \",df_tb.shape)"
   ]
  },
  {
   "cell_type": "code",
   "execution_count": 6,
   "id": "0778de42",
   "metadata": {},
   "outputs": [
    {
     "name": "stdout",
     "output_type": "stream",
     "text": [
      "0    34222\n",
      "1    12686\n",
      "Name: Label, dtype: int64\n",
      "0    36833\n",
      "1    24071\n",
      "Name: Label, dtype: int64\n",
      "0    9905\n",
      "1    4358\n",
      "Name: Label, dtype: int64\n"
     ]
    }
   ],
   "source": [
    "# Counting the unique values in label for the 3 datasets\n",
    "print(df_ecl['Label'].value_counts())\n",
    "print(df_moz['Label'].value_counts())\n",
    "print(df_tb['Label'].value_counts())"
   ]
  },
  {
   "cell_type": "markdown",
   "id": "b115ec41",
   "metadata": {},
   "source": [
    "### Combining the text in Title and description column for all datasets in order to vectorize them together"
   ]
  },
  {
   "cell_type": "code",
   "execution_count": 7,
   "id": "71faf47b",
   "metadata": {},
   "outputs": [
    {
     "data": {
      "text/plain": [
       "0        usability issue with external editors geirl se...\n",
       "1        opening repository resources doesnt honor type...\n",
       "2        sync does not indicate deletion gien kmpm \\tth...\n",
       "3        need better error message if catching up over ...\n",
       "4        isharingmanager sharing api inconsistent gaulh...\n",
       "                               ...                        \n",
       "12681    .metadata.log error please see my .log file  p...\n",
       "12682    workbench classcastexception handlerprocessing...\n",
       "12683    keybindings resizing content assist proposal p...\n",
       "12684    close window from context menu context menu  e...\n",
       "12685    viewmgmt findviewreference always returns null...\n",
       "Name: Bug1, Length: 46908, dtype: object"
      ]
     },
     "execution_count": 7,
     "metadata": {},
     "output_type": "execute_result"
    }
   ],
   "source": [
    "df_ecl['Bug1'] = df_ecl['Title1'].str.cat(df_ecl['Description1'],sep=\" \")\n",
    "df_ecl['Bug2'] = df_ecl['Title2'].str.cat(df_ecl['Description2'],sep=\" \")\n",
    "\n",
    "df_moz['Bug1'] = df_moz['Title1'].str.cat(df_moz['Description1'],sep=\" \")\n",
    "df_moz['Bug2'] = df_moz['Title2'].str.cat(df_moz['Description2'],sep=\" \")\n",
    "\n",
    "df_tb['Bug1'] = df_tb['Title1'].str.cat(df_tb['Description1'],sep=\" \")\n",
    "df_tb['Bug2'] = df_tb['Title2'].str.cat(df_tb['Description2'],sep=\" \")\n",
    "df_ecl.Bug1"
   ]
  },
  {
   "cell_type": "markdown",
   "id": "b21107e7",
   "metadata": {},
   "source": [
    "### Remove puncctuations and stop words from the datasets to process"
   ]
  },
  {
   "cell_type": "code",
   "execution_count": 8,
   "id": "52349591",
   "metadata": {},
   "outputs": [],
   "source": [
    "stop_words = set(stopwords.words('english'))\n",
    "\n",
    "def words(text):\n",
    "    text = ''.join([i for i in text if i not in punctuation])\n",
    "    text = text.lower()\n",
    "    text = text.split()\n",
    "    text = [j for j in text if not j in stop_words]\n",
    "    text = \" \".join(text)\n",
    "    return(text)"
   ]
  },
  {
   "cell_type": "code",
   "execution_count": 9,
   "id": "ed73279c",
   "metadata": {},
   "outputs": [],
   "source": [
    "def preprocess(bug_reports,bugs_all):\n",
    "    for n in bugs_all:\n",
    "        bug_reports.append(words(n))"
   ]
  },
  {
   "cell_type": "code",
   "execution_count": 10,
   "id": "fe126b45",
   "metadata": {},
   "outputs": [],
   "source": [
    "bug_pp_ecl1 = []\n",
    "bug_pp_ecl2 = []\n",
    "\n",
    "bug_pp_moz1 = []\n",
    "bug_pp_moz2 = []\n",
    "\n",
    "bug_pp_tb1 = []\n",
    "bug_pp_tb2 = []\n",
    "\n",
    "preprocess(bug_pp_ecl1, df_ecl.Bug1)\n",
    "preprocess(bug_pp_ecl2, df_ecl.Bug2)\n",
    "\n",
    "preprocess(bug_pp_moz1, df_moz.Bug1)\n",
    "preprocess(bug_pp_moz2, df_moz.Bug2)\n",
    "\n",
    "preprocess(bug_pp_tb1, df_tb.Bug1)\n",
    "preprocess(bug_pp_tb2, df_tb.Bug2)"
   ]
  },
  {
   "cell_type": "markdown",
   "id": "cd3beeb3",
   "metadata": {},
   "source": [
    "### Define TFIDF veectorizer"
   ]
  },
  {
   "cell_type": "code",
   "execution_count": 11,
   "id": "10b2f30a",
   "metadata": {},
   "outputs": [],
   "source": [
    "tfidf_ecl = TfidfVectorizer(analyzer = 'word',stop_words = 'english',lowercase = True,max_features = 700,norm = 'l2')\n",
    "tfidf_moz = TfidfVectorizer(analyzer = 'word',stop_words = 'english',lowercase = True,max_features = 700,norm = 'l2')\n",
    "tfidf_tb = TfidfVectorizer(analyzer = 'word',stop_words = 'english',lowercase = True,max_features = 700,norm = 'l2')"
   ]
  },
  {
   "cell_type": "code",
   "execution_count": 12,
   "id": "1e3259ff",
   "metadata": {},
   "outputs": [],
   "source": [
    "words_ecl = pd.concat([df_ecl.Bug1,df_ecl.Bug2], axis = 0)\n",
    "words_moz = pd.concat([df_moz.Bug1,df_moz.Bug2], axis = 0)\n",
    "words_tb = pd.concat([df_tb.Bug1,df_tb.Bug2], axis = 0)"
   ]
  },
  {
   "cell_type": "code",
   "execution_count": 13,
   "id": "c3b854dc",
   "metadata": {},
   "outputs": [],
   "source": [
    "tfidf_ecl.fit(words_ecl)\n",
    "tfidf_moz.fit(words_moz)\n",
    "tfidf_tb.fit(words_tb)\n",
    "\n",
    "duplicate_ecl_1 = tfidf_ecl.transform(df_ecl.Bug1)\n",
    "duplicate_ecl_2 = tfidf_ecl.transform(df_ecl.Bug2)\n",
    "\n",
    "duplicate_moz_1 = tfidf_moz.transform(df_moz.Bug1)\n",
    "duplicate_moz_2 = tfidf_moz.transform(df_moz.Bug2)\n",
    "\n",
    "duplicate_tb_1 = tfidf_tb.transform(df_tb.Bug1)\n",
    "duplicate_tb_2 = tfidf_tb.transform(df_tb.Bug2)"
   ]
  },
  {
   "cell_type": "code",
   "execution_count": 14,
   "id": "f59e02f4",
   "metadata": {},
   "outputs": [],
   "source": [
    "x_ecl = abs(duplicate_ecl_1 - duplicate_ecl_2)\n",
    "y_ecl = df_ecl['Label']\n",
    "\n",
    "x_moz = abs(duplicate_moz_1 - duplicate_moz_2)\n",
    "y_moz = df_moz['Label']\n",
    "\n",
    "x_tb = abs(duplicate_tb_1 - duplicate_tb_2)\n",
    "y_tb = df_tb['Label']"
   ]
  },
  {
   "cell_type": "code",
   "execution_count": 98,
   "id": "4b2878d5",
   "metadata": {},
   "outputs": [],
   "source": [
    "def model_eval(x,y,classifier):\n",
    "    scoring = ['accuracy','precision','recall','roc_auc']\n",
    "    results = cross_validate(classifier,x,y,return_estimator=True,scoring=scoring,cv=5)\n",
    "    print(\"Evaluation metrics for 5 folds of cross validation:\")\n",
    "    for i in scoring:\n",
    "        print(i,' --> ',results['test_' + i])\n",
    "    return (results['test_accuracy'].mean(),\n",
    "           results['test_precision'].mean(),\n",
    "           results['test_recall'].mean(),\n",
    "           results['test_roc_auc'].mean())"
   ]
  },
  {
   "cell_type": "markdown",
   "id": "8aab5fd9",
   "metadata": {},
   "source": [
    "## Cross validation for Logistic Regression, Decision Tree Classifier, & Random Forest Classifier"
   ]
  },
  {
   "cell_type": "code",
   "execution_count": 102,
   "id": "0413fbd2",
   "metadata": {
    "scrolled": true
   },
   "outputs": [],
   "source": [
    "lr = LogisticRegression()\n",
    "dt = tree.DecisionTreeClassifier()\n",
    "rf = RandomForestClassifier()"
   ]
  },
  {
   "cell_type": "markdown",
   "id": "71f4bd38",
   "metadata": {},
   "source": [
    "### Logistic Regression"
   ]
  },
  {
   "cell_type": "code",
   "execution_count": 104,
   "id": "55669f9e",
   "metadata": {},
   "outputs": [
    {
     "name": "stdout",
     "output_type": "stream",
     "text": [
      "ECLIPSE DATASET\n",
      "Evaluation metrics for 5 folds of cross validation:\n",
      "accuracy  -->  [0.8160307  0.81560435 0.82136005 0.808336   0.78658992]\n",
      "precision  -->  [0.72465374 0.70895909 0.73023504 0.69940637 0.6934201 ]\n",
      "recall  -->  [0.51556957 0.53961372 0.53861308 0.51083957 0.37800552]\n",
      "roc_auc  -->  [0.83646151 0.83640663 0.84865267 0.82944715 0.76338409]\n",
      "\n",
      "MOZILLA DATASET\n",
      "Evaluation metrics for 5 folds of cross validation:\n",
      "accuracy  -->  [0.73811674 0.79295624 0.76356621 0.75125195 0.741133  ]\n",
      "precision  -->  [0.64932917 0.78184948 0.74543147 0.71734893 0.70152876]\n",
      "recall  -->  [0.7337487  0.6603656  0.61009555 0.61154965 0.60054009]\n",
      "roc_auc  -->  [0.80436819 0.86206648 0.82254695 0.80438702 0.79340644]\n",
      "\n",
      "THUNDERBIRD DATASET\n",
      "Evaluation metrics for 5 folds of cross validation:\n",
      "accuracy  -->  [0.81388013 0.81493165 0.81177708 0.80890603 0.79488079]\n",
      "precision  -->  [0.73913043 0.73756906 0.75340393 0.74328358 0.74826389]\n",
      "recall  -->  [0.6043578  0.61238532 0.57110092 0.5717566  0.49483352]\n",
      "roc_auc  -->  [0.85870124 0.86161366 0.85030786 0.85456208 0.8238872 ]\n"
     ]
    }
   ],
   "source": [
    "print(\"ECLIPSE DATASET\")\n",
    "lr_acc_ecl,lr_prec_ecl,lr_rec_ecl,lr_auc_ecl = model_eval(x_ecl,y_ecl,lr)\n",
    "\n",
    "print(\"\\nMOZILLA DATASET\")\n",
    "lr_acc_moz,lr_prec_moz,lr_rec_moz,lr_auc_moz = model_eval(x_moz,y_moz,lr)\n",
    "\n",
    "print(\"\\nTHUNDERBIRD DATASET\")\n",
    "lr_acc_tb,lr_prec_tb,lr_rec_tb,lr_auc_tb = model_eval(x_tb,y_tb,lr)"
   ]
  },
  {
   "cell_type": "markdown",
   "id": "79592433",
   "metadata": {},
   "source": [
    "### Decision Tree Classifier"
   ]
  },
  {
   "cell_type": "code",
   "execution_count": 107,
   "id": "b252c9d1",
   "metadata": {},
   "outputs": [
    {
     "name": "stdout",
     "output_type": "stream",
     "text": [
      "ECLIPSE DATASET\n",
      "Evaluation metrics for 5 folds of cross validation:\n",
      "accuracy  -->  [0.68354295 0.68503517 0.67970582 0.67082401 0.65558043]\n",
      "precision  -->  [0.412692   0.4195535  0.41335807 0.3940792  0.34632418]\n",
      "recall  -->  [0.40244383 0.42964131 0.43892829 0.4040205  0.30823808]\n",
      "roc_auc  -->  [0.59508605 0.60466726 0.60396151 0.5868729  0.54628736]\n",
      "\n",
      "MOZILLA DATASET\n",
      "Evaluation metrics for 5 folds of cross validation:\n",
      "accuracy  -->  [0.58878581 0.62490764 0.61612347 0.60676463 0.59277504]\n",
      "precision  -->  [0.48285613 0.52733765 0.51595745 0.50281558 0.4822298 ]\n",
      "recall  -->  [0.56739356 0.49085999 0.46343997 0.44515995 0.4115081 ]\n",
      "roc_auc  -->  [0.58508152 0.60168084 0.58966759 0.57876295 0.56137447]\n",
      "\n",
      "THUNDERBIRD DATASET\n",
      "Evaluation metrics for 5 folds of cross validation:\n",
      "accuracy  -->  [0.65439888 0.68208903 0.6596565  0.63990182 0.63884993]\n",
      "precision  -->  [0.4343318  0.4811219  0.44542448 0.40736342 0.40269278]\n",
      "recall  -->  [0.43233945 0.51146789 0.46330275 0.39380023 0.37772675]\n",
      "roc_auc  -->  [0.59224242 0.63433061 0.60469529 0.57095362 0.56569326]\n"
     ]
    }
   ],
   "source": [
    "print(\"ECLIPSE DATASET\")\n",
    "dt_acc_ecl,dt_prec_ecl,dt_rec_ecl,dt_auc_ecl = model_eval(x_ecl,y_ecl,dt)\n",
    "\n",
    "print(\"\\nMOZILLA DATASET\")\n",
    "dt_acc_moz,dt_prec_moz,dt_rec_moz,dt_auc_moz = model_eval(x_moz,y_moz,dt)\n",
    "\n",
    "print(\"\\nTHUNDERBIRD DATASET\")\n",
    "dt_acc_tb,dt_prec_tb,dt_rec_tb,dt_auc_tb = model_eval(x_tb,y_tb,dt)"
   ]
  },
  {
   "cell_type": "markdown",
   "id": "19a3a1ef",
   "metadata": {},
   "source": [
    "### Random Forest Classifier"
   ]
  },
  {
   "cell_type": "code",
   "execution_count": 108,
   "id": "9aa0df65",
   "metadata": {},
   "outputs": [
    {
     "name": "stdout",
     "output_type": "stream",
     "text": [
      "ECLIPSE DATASET\n",
      "Evaluation metrics for 5 folds of cross validation:\n",
      "accuracy  -->  [0.7747815  0.78863782 0.79503304 0.78147319 0.75727534]\n",
      "precision  -->  [0.86426117 0.89124294 0.88104089 0.85756241 0.86516854]\n",
      "recall  -->  [0.19826567 0.24871896 0.28014184 0.23019314 0.12140323]\n",
      "roc_auc  -->  [0.73134624 0.76185558 0.74996362 0.71467348 0.63699739]\n",
      "\n",
      "MOZILLA DATASET\n",
      "Evaluation metrics for 5 folds of cross validation:\n",
      "accuracy  -->  [0.66250718 0.72227239 0.70921928 0.69674083 0.6727422 ]\n",
      "precision  -->  [0.5950324  0.88119339 0.82716049 0.80871003 0.75555556]\n",
      "recall  -->  [0.45773624 0.34358122 0.33402576 0.30473619 0.25425841]\n",
      "roc_auc  -->  [0.70955172 0.78419076 0.74262969 0.72900963 0.64039187]\n",
      "\n",
      "THUNDERBIRD DATASET\n",
      "Evaluation metrics for 5 folds of cross validation:\n",
      "accuracy  -->  [0.76095338 0.77672625 0.77988083 0.75596073 0.7342216 ]\n",
      "precision  -->  [0.88       0.8802589  0.91780822 0.90697674 0.8951049 ]\n",
      "recall  -->  [0.25229358 0.31192661 0.30733945 0.2238806  0.14695752]\n",
      "roc_auc  -->  [0.75497733 0.77011165 0.78660057 0.76207931 0.72442828]\n"
     ]
    }
   ],
   "source": [
    "print(\"ECLIPSE DATASET\")\n",
    "rf_acc_ecl,rf_prec_ecl,rf_rec_ecl,rf_auc_ecl = model_eval(x_ecl,y_ecl,rf)\n",
    "\n",
    "print(\"\\nMOZILLA DATASET\")\n",
    "rf_acc_moz,rf_prec_moz,rf_rec_moz,rf_auc_moz = model_eval(x_moz,y_moz,rf)\n",
    "\n",
    "print(\"\\nTHUNDERBIRD DATASET\")\n",
    "rf_acc_tb,rf_prec_tb,rf_rec_tb,rf_auc_tb = model_eval(x_tb,y_tb,rf)"
   ]
  },
  {
   "cell_type": "code",
   "execution_count": 116,
   "id": "174a28ca",
   "metadata": {},
   "outputs": [
    {
     "data": {
      "text/html": [
       "<style type=\"text/css\">\n",
       "</style>\n",
       "<table id=\"T_379f0_\">\n",
       "  <thead>\n",
       "    <tr>\n",
       "      <th class=\"col_heading level0 col0\" >Classifier</th>\n",
       "      <th class=\"col_heading level0 col1\" >Dataset</th>\n",
       "      <th class=\"col_heading level0 col2\" >AUC</th>\n",
       "      <th class=\"col_heading level0 col3\" >Accuracy</th>\n",
       "      <th class=\"col_heading level0 col4\" >Recall</th>\n",
       "      <th class=\"col_heading level0 col5\" >Precision</th>\n",
       "    </tr>\n",
       "  </thead>\n",
       "  <tbody>\n",
       "    <tr>\n",
       "      <td id=\"T_379f0_row0_col0\" class=\"data row0 col0\" >LR</td>\n",
       "      <td id=\"T_379f0_row0_col1\" class=\"data row0 col1\" >Eclipse</td>\n",
       "      <td id=\"T_379f0_row0_col2\" class=\"data row0 col2\" >0.822870</td>\n",
       "      <td id=\"T_379f0_row0_col3\" class=\"data row0 col3\" >0.809584</td>\n",
       "      <td id=\"T_379f0_row0_col4\" class=\"data row0 col4\" >0.496528</td>\n",
       "      <td id=\"T_379f0_row0_col5\" class=\"data row0 col5\" >0.711335</td>\n",
       "    </tr>\n",
       "    <tr>\n",
       "      <td id=\"T_379f0_row1_col0\" class=\"data row1 col0\" >LR</td>\n",
       "      <td id=\"T_379f0_row1_col1\" class=\"data row1 col1\" >Mozilla</td>\n",
       "      <td id=\"T_379f0_row1_col2\" class=\"data row1 col2\" >0.817355</td>\n",
       "      <td id=\"T_379f0_row1_col3\" class=\"data row1 col3\" >0.757405</td>\n",
       "      <td id=\"T_379f0_row1_col4\" class=\"data row1 col4\" >0.643260</td>\n",
       "      <td id=\"T_379f0_row1_col5\" class=\"data row1 col5\" >0.719098</td>\n",
       "    </tr>\n",
       "    <tr>\n",
       "      <td id=\"T_379f0_row2_col0\" class=\"data row2 col0\" >LR</td>\n",
       "      <td id=\"T_379f0_row2_col1\" class=\"data row2 col1\" >Thunderbird</td>\n",
       "      <td id=\"T_379f0_row2_col2\" class=\"data row2 col2\" >0.849814</td>\n",
       "      <td id=\"T_379f0_row2_col3\" class=\"data row2 col3\" >0.808875</td>\n",
       "      <td id=\"T_379f0_row2_col4\" class=\"data row2 col4\" >0.570887</td>\n",
       "      <td id=\"T_379f0_row2_col5\" class=\"data row2 col5\" >0.744330</td>\n",
       "    </tr>\n",
       "    <tr>\n",
       "      <td id=\"T_379f0_row3_col0\" class=\"data row3 col0\" >DT</td>\n",
       "      <td id=\"T_379f0_row3_col1\" class=\"data row3 col1\" >Eclipse</td>\n",
       "      <td id=\"T_379f0_row3_col2\" class=\"data row3 col2\" >0.587375</td>\n",
       "      <td id=\"T_379f0_row3_col3\" class=\"data row3 col3\" >0.674938</td>\n",
       "      <td id=\"T_379f0_row3_col4\" class=\"data row3 col4\" >0.396654</td>\n",
       "      <td id=\"T_379f0_row3_col5\" class=\"data row3 col5\" >0.397201</td>\n",
       "    </tr>\n",
       "    <tr>\n",
       "      <td id=\"T_379f0_row4_col0\" class=\"data row4 col0\" >DT</td>\n",
       "      <td id=\"T_379f0_row4_col1\" class=\"data row4 col1\" >Mozilla</td>\n",
       "      <td id=\"T_379f0_row4_col2\" class=\"data row4 col2\" >0.583313</td>\n",
       "      <td id=\"T_379f0_row4_col3\" class=\"data row4 col3\" >0.605871</td>\n",
       "      <td id=\"T_379f0_row4_col4\" class=\"data row4 col4\" >0.475672</td>\n",
       "      <td id=\"T_379f0_row4_col5\" class=\"data row4 col5\" >0.502239</td>\n",
       "    </tr>\n",
       "    <tr>\n",
       "      <td id=\"T_379f0_row5_col0\" class=\"data row5 col0\" >DT</td>\n",
       "      <td id=\"T_379f0_row5_col1\" class=\"data row5 col1\" >Thunderbird</td>\n",
       "      <td id=\"T_379f0_row5_col2\" class=\"data row5 col2\" >0.593583</td>\n",
       "      <td id=\"T_379f0_row5_col3\" class=\"data row5 col3\" >0.654979</td>\n",
       "      <td id=\"T_379f0_row5_col4\" class=\"data row5 col4\" >0.435727</td>\n",
       "      <td id=\"T_379f0_row5_col5\" class=\"data row5 col5\" >0.434187</td>\n",
       "    </tr>\n",
       "    <tr>\n",
       "      <td id=\"T_379f0_row6_col0\" class=\"data row6 col0\" >RF</td>\n",
       "      <td id=\"T_379f0_row6_col1\" class=\"data row6 col1\" >Eclipse</td>\n",
       "      <td id=\"T_379f0_row6_col2\" class=\"data row6 col2\" >0.718967</td>\n",
       "      <td id=\"T_379f0_row6_col3\" class=\"data row6 col3\" >0.779440</td>\n",
       "      <td id=\"T_379f0_row6_col4\" class=\"data row6 col4\" >0.215745</td>\n",
       "      <td id=\"T_379f0_row6_col5\" class=\"data row6 col5\" >0.871855</td>\n",
       "    </tr>\n",
       "    <tr>\n",
       "      <td id=\"T_379f0_row7_col0\" class=\"data row7 col0\" >RF</td>\n",
       "      <td id=\"T_379f0_row7_col1\" class=\"data row7 col1\" >Mozilla</td>\n",
       "      <td id=\"T_379f0_row7_col2\" class=\"data row7 col2\" >0.721155</td>\n",
       "      <td id=\"T_379f0_row7_col3\" class=\"data row7 col3\" >0.692696</td>\n",
       "      <td id=\"T_379f0_row7_col4\" class=\"data row7 col4\" >0.338868</td>\n",
       "      <td id=\"T_379f0_row7_col5\" class=\"data row7 col5\" >0.773530</td>\n",
       "    </tr>\n",
       "    <tr>\n",
       "      <td id=\"T_379f0_row8_col0\" class=\"data row8 col0\" >RF</td>\n",
       "      <td id=\"T_379f0_row8_col1\" class=\"data row8 col1\" >Thunderbird</td>\n",
       "      <td id=\"T_379f0_row8_col2\" class=\"data row8 col2\" >0.759639</td>\n",
       "      <td id=\"T_379f0_row8_col3\" class=\"data row8 col3\" >0.761549</td>\n",
       "      <td id=\"T_379f0_row8_col4\" class=\"data row8 col4\" >0.248480</td>\n",
       "      <td id=\"T_379f0_row8_col5\" class=\"data row8 col5\" >0.896030</td>\n",
       "    </tr>\n",
       "  </tbody>\n",
       "</table>\n"
      ],
      "text/plain": [
       "<pandas.io.formats.style.Styler at 0x7f9775905f10>"
      ]
     },
     "execution_count": 116,
     "metadata": {},
     "output_type": "execute_result"
    }
   ],
   "source": [
    "df_results = pd.DataFrame({'Classifier':['LR','LR','LR','DT','DT','DT','RF','RF','RF'],\n",
    "                           'Dataset':['Eclipse','Mozilla','Thunderbird']*3,\n",
    "                          'AUC':[lr_auc_ecl,lr_auc_moz,lr_auc_tb,dt_auc_ecl,dt_auc_moz,dt_auc_tb,rf_auc_ecl,\\\n",
    "                                rf_auc_moz,rf_auc_tb],\n",
    "                          'Accuracy':[lr_acc_ecl,lr_acc_moz,lr_acc_tb,dt_acc_ecl,dt_acc_moz,dt_acc_tb,rf_acc_ecl,\\\n",
    "                                     rf_acc_moz,rf_acc_tb],\n",
    "                          'Recall':[lr_rec_ecl,lr_rec_moz,lr_rec_tb,dt_rec_ecl,dt_rec_moz,dt_rec_tb,rf_rec_ecl,\\\n",
    "                                   rf_rec_moz,rf_rec_tb],\n",
    "                          'Precision':[lr_prec_ecl,lr_prec_moz,lr_prec_tb,dt_prec_ecl,dt_prec_moz,dt_prec_tb,\\\n",
    "                                      rf_prec_ecl,rf_prec_moz,rf_prec_tb]})\n",
    "df_results.style.hide_index()"
   ]
  },
  {
   "cell_type": "code",
   "execution_count": 118,
   "id": "752e7004",
   "metadata": {},
   "outputs": [
    {
     "name": "stdout",
     "output_type": "stream",
     "text": [
      "MODEL PERFORMANCE METRICS\n"
     ]
    },
    {
     "data": {
      "text/plain": [
       "<function matplotlib.pyplot.show(close=None, block=None)>"
      ]
     },
     "execution_count": 118,
     "metadata": {},
     "output_type": "execute_result"
    },
    {
     "data": {
      "image/png": "[encoded data removed]",
      "text/plain": [
       "<Figure size 1152x576 with 2 Axes>"
      ]
     },
     "metadata": {},
     "output_type": "display_data"
    },
    {
     "data": {
      "image/png": "[encoded data removed]",
      "text/plain": [
       "<Figure size 1152x576 with 2 Axes>"
      ]
     },
     "metadata": {},
     "output_type": "display_data"
    }
   ],
   "source": [
    "print(\"MODEL PERFORMANCE METRICS\")\n",
    "\n",
    "sns.set(style=\"darkgrid\")\n",
    "\n",
    "fig, axs = plt.subplots(ncols=2)\n",
    "sns.set(rc={'figure.figsize':(16,8)})\n",
    "ax = sns.barplot(x=\"Classifier\", y=\"AUC\", hue=\"Dataset\", data=df_results,ax=axs[0],palette=\"dark:salmon\")\n",
    "ax.set_xlabel('Model',fontsize = 15)\n",
    "ax.set_ylabel('AUC', fontsize = 15)\n",
    "ax.tick_params(labelsize=15)\n",
    "\n",
    "sns.set(rc={'figure.figsize':(16,8)})\n",
    "ax = sns.barplot(x=\"Classifier\", y=\"Accuracy\", hue=\"Dataset\", data=df_results,ax=axs[1],palette=\"dark:salmon\")\n",
    "ax.set_xlabel('Model',fontsize = 15)\n",
    "ax.set_ylabel('Accuracy', fontsize = 15)\n",
    "ax.tick_params(labelsize=15)\n",
    "\n",
    "fig, axs = plt.subplots(ncols=2)\n",
    "sns.set(rc={'figure.figsize':(16,8)})\n",
    "ax = sns.barplot(x=\"Classifier\", y=\"Precision\", hue=\"Dataset\", data=df_results,ax=axs[0],palette=\"dark:salmon\")\n",
    "ax.set_xlabel('Model',fontsize = 15)\n",
    "ax.set_ylabel('Precision', fontsize = 15)\n",
    "ax.tick_params(labelsize=15)\n",
    "\n",
    "sns.set(rc={'figure.figsize':(16,8)})\n",
    "ax = sns.barplot(x=\"Classifier\", y=\"Recall\", hue=\"Dataset\", data=df_results,ax=axs[1],palette=\"dark:salmon\")\n",
    "ax.set_xlabel('Model',fontsize = 15)\n",
    "ax.set_ylabel('Recall', fontsize = 15)\n",
    "ax.tick_params(labelsize=15)\n",
    "plt.show"
   ]
  },
  {
   "cell_type": "code",
   "execution_count": null,
   "id": "9fa45b42",
   "metadata": {},
   "outputs": [],
   "source": []
  }
 ],
 "metadata": {
  "kernelspec": {
   "display_name": "Python 3 (ipykernel)",
   "language": "python",
   "name": "python3"
  },
  "language_info": {
   "codemirror_mode": {
    "name": "ipython",
    "version": 3
   },
   "file_extension": ".py",
   "mimetype": "text/x-python",
   "name": "python",
   "nbconvert_exporter": "python",
   "pygments_lexer": "ipython3",
   "version": "3.9.7"
  }
 },
 "nbformat": 4,
 "nbformat_minor": 5
}
